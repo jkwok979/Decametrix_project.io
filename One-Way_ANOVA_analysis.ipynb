{
 "cells": [
  {
   "cell_type": "code",
   "execution_count": 1,
   "metadata": {},
   "outputs": [],
   "source": [
    "import tweepy\n",
    "import pandas as pd\n",
    "import matplotlib.pyplot as plt\n",
    "from matplotlib import pyplot as plt\n",
    "import scipy.stats as stats\n",
    "#LDP Data Analysis \n",
    "\n",
    "df = pd.read_csv(\"clean_LDP_dataset.csv\")\n",
    "df_1 = pd.read_csv(\"clean_LDP_dataset.csv\")\n",
    "\n",
    "df_2 = pd.read_csv(\"clean_LOI_EOP_DATA.csv\")\n",
    "import numpy as np\n",
    "\n",
    "# Import and Initialize Sentiment Analyzer\n",
    "from vaderSentiment.vaderSentiment import SentimentIntensityAnalyzer\n",
    "analyzer = SentimentIntensityAnalyzer()\n",
    "\n",
    "from config import consumer_key, consumer_secret, access_token, access_token_secret\n",
    "\n",
    "# Setup Tweepy API Authentication\n",
    "auth = tweepy.OAuthHandler(consumer_key, consumer_secret)\n",
    "auth.set_access_token(access_token, access_token_secret)\n",
    "api = tweepy.API(auth, parser=tweepy.parsers.JSONParser())\n",
    "\n",
    "import spacy\n",
    "from spacy import displacy\n",
    "# Load the spaCy model\n",
    "nlp = spacy.load('en_core_web_sm') #sm does not use vectors\n",
    "                                   #but md does use vectors"
   ]
  },
  {
   "cell_type": "code",
   "execution_count": 2,
   "metadata": {},
   "outputs": [],
   "source": [
    "m = df[\"Q11_3\"]\n",
    "m = m.dropna(axis=0)\n",
    "mean_q11 = m.mean()\n",
    "\n",
    "n = df[\"Q12_3\"]\n",
    "n = n.dropna(axis=0)\n",
    "mean_q12 = n.mean()\n",
    "\n",
    "p = df[\"Q13_3\"]\n",
    "p = p.dropna(axis=0)\n",
    "mean_q13 = p.mean()"
   ]
  },
  {
   "cell_type": "code",
   "execution_count": 3,
   "metadata": {},
   "outputs": [
    {
     "name": "stdout",
     "output_type": "stream",
     "text": [
      "Field Trainer 1 mean -4.774238468233246\n",
      "Field Trainer 2 mean -4.791185729275971\n",
      "Field Trainer 3 mean -4.767509727626459\n"
     ]
    }
   ],
   "source": [
    "print(\"Field Trainer 1 mean -\"+str(mean_q11))\n",
    "print(\"Field Trainer 2 mean -\"+str(mean_q12))\n",
    "print(\"Field Trainer 3 mean -\"+str(mean_q13))"
   ]
  },
  {
   "cell_type": "code",
   "execution_count": 4,
   "metadata": {},
   "outputs": [],
   "source": [
    "df=pd.DataFrame(m)\n",
    "df[\"Q12_3\"] = n"
   ]
  },
  {
   "cell_type": "code",
   "execution_count": 5,
   "metadata": {},
   "outputs": [
    {
     "data": {
      "text/plain": [
       "F_onewayResult(statistic=2.2232628081286046, pvalue=0.10829816267233865)"
      ]
     },
     "execution_count": 5,
     "metadata": {},
     "output_type": "execute_result"
    }
   ],
   "source": [
    "# Perform the ANOVA\n",
    "\n",
    "stats.f_oneway(m,n,p) \n",
    "#one-way anova test for LDP trainer data - Was an effective facilitator\n",
    "#so we can conclude that the means between the 3 trainers are similar, have statistical significance"
   ]
  },
  {
   "cell_type": "code",
   "execution_count": 6,
   "metadata": {},
   "outputs": [
    {
     "data": {
      "text/html": [
       "<div>\n",
       "<style scoped>\n",
       "    .dataframe tbody tr th:only-of-type {\n",
       "        vertical-align: middle;\n",
       "    }\n",
       "\n",
       "    .dataframe tbody tr th {\n",
       "        vertical-align: top;\n",
       "    }\n",
       "\n",
       "    .dataframe thead th {\n",
       "        text-align: right;\n",
       "    }\n",
       "</style>\n",
       "<table border=\"1\" class=\"dataframe\">\n",
       "  <thead>\n",
       "    <tr style=\"text-align: right;\">\n",
       "      <th></th>\n",
       "      <th>OrgName</th>\n",
       "    </tr>\n",
       "  </thead>\n",
       "  <tbody>\n",
       "    <tr>\n",
       "      <th>Center for Creative Leadership</th>\n",
       "      <td>29</td>\n",
       "    </tr>\n",
       "    <tr>\n",
       "      <th>Delta Air Lines</th>\n",
       "      <td>17</td>\n",
       "    </tr>\n",
       "    <tr>\n",
       "      <th>Matthews International</th>\n",
       "      <td>15</td>\n",
       "    </tr>\n",
       "    <tr>\n",
       "      <th>Daimler Trucks North America</th>\n",
       "      <td>14</td>\n",
       "    </tr>\n",
       "    <tr>\n",
       "      <th>Panasonic</th>\n",
       "      <td>14</td>\n",
       "    </tr>\n",
       "  </tbody>\n",
       "</table>\n",
       "</div>"
      ],
      "text/plain": [
       "                                OrgName\n",
       "Center for Creative Leadership       29\n",
       "Delta Air Lines                      17\n",
       "Matthews International               15\n",
       "Daimler Trucks North America         14\n",
       "Panasonic                            14"
      ]
     },
     "execution_count": 6,
     "metadata": {},
     "output_type": "execute_result"
    }
   ],
   "source": [
    "n = df_1[\"OrgName\"].value_counts()\n",
    "n = pd.DataFrame(n)\n",
    "\n",
    "m = df_2[\"OrgName\"].value_counts()\n",
    "m = pd.DataFrame(m)\n",
    "m.head()"
   ]
  },
  {
   "cell_type": "code",
   "execution_count": 7,
   "metadata": {},
   "outputs": [
    {
     "data": {
      "text/html": [
       "<div>\n",
       "<style scoped>\n",
       "    .dataframe tbody tr th:only-of-type {\n",
       "        vertical-align: middle;\n",
       "    }\n",
       "\n",
       "    .dataframe tbody tr th {\n",
       "        vertical-align: top;\n",
       "    }\n",
       "\n",
       "    .dataframe thead th {\n",
       "        text-align: right;\n",
       "    }\n",
       "</style>\n",
       "<table border=\"1\" class=\"dataframe\">\n",
       "  <thead>\n",
       "    <tr style=\"text-align: right;\">\n",
       "      <th></th>\n",
       "      <th>OrgName</th>\n",
       "    </tr>\n",
       "  </thead>\n",
       "  <tbody>\n",
       "    <tr>\n",
       "      <th>Center for Creative Leadership</th>\n",
       "      <td>53</td>\n",
       "    </tr>\n",
       "    <tr>\n",
       "      <th>US GAO</th>\n",
       "      <td>46</td>\n",
       "    </tr>\n",
       "    <tr>\n",
       "      <th>Illumina</th>\n",
       "      <td>44</td>\n",
       "    </tr>\n",
       "    <tr>\n",
       "      <th>Defense Logistics Agency</th>\n",
       "      <td>40</td>\n",
       "    </tr>\n",
       "    <tr>\n",
       "      <th>Panasonic</th>\n",
       "      <td>35</td>\n",
       "    </tr>\n",
       "  </tbody>\n",
       "</table>\n",
       "</div>"
      ],
      "text/plain": [
       "                                OrgName\n",
       "Center for Creative Leadership       53\n",
       "US GAO                               46\n",
       "Illumina                             44\n",
       "Defense Logistics Agency             40\n",
       "Panasonic                            35"
      ]
     },
     "execution_count": 7,
     "metadata": {},
     "output_type": "execute_result"
    }
   ],
   "source": [
    "n.head()"
   ]
  },
  {
   "cell_type": "code",
   "execution_count": 8,
   "metadata": {},
   "outputs": [],
   "source": [
    "columns_2_clean = [\"Q9_1\",\"Q9_2\",\"Q11_2\",\"Q11_3\",\"Q11_4\",\"Q12_2\",\"Q12_3\",\"Q12_4\",\"Q13_2\",\"Q13_3\",\"Q13_4\"]"
   ]
  },
  {
   "cell_type": "code",
   "execution_count": 9,
   "metadata": {},
   "outputs": [
    {
     "data": {
      "text/html": [
       "<div>\n",
       "<style scoped>\n",
       "    .dataframe tbody tr th:only-of-type {\n",
       "        vertical-align: middle;\n",
       "    }\n",
       "\n",
       "    .dataframe tbody tr th {\n",
       "        vertical-align: top;\n",
       "    }\n",
       "\n",
       "    .dataframe thead th {\n",
       "        text-align: right;\n",
       "    }\n",
       "</style>\n",
       "<table border=\"1\" class=\"dataframe\">\n",
       "  <thead>\n",
       "    <tr style=\"text-align: right;\">\n",
       "      <th></th>\n",
       "      <th>Q9_1</th>\n",
       "      <th>Q9_2</th>\n",
       "      <th>Q11_2</th>\n",
       "      <th>Q11_3</th>\n",
       "      <th>Q11_4</th>\n",
       "      <th>Q12_2</th>\n",
       "      <th>Q12_3</th>\n",
       "      <th>Q12_4</th>\n",
       "      <th>Q13_2</th>\n",
       "      <th>Q13_3</th>\n",
       "      <th>Q13_4</th>\n",
       "    </tr>\n",
       "  </thead>\n",
       "  <tbody>\n",
       "    <tr>\n",
       "      <th>0</th>\n",
       "      <td>4.0</td>\n",
       "      <td>5.0</td>\n",
       "      <td>4.0</td>\n",
       "      <td>4.0</td>\n",
       "      <td>4.0</td>\n",
       "      <td>4.0</td>\n",
       "      <td>5.0</td>\n",
       "      <td>3.0</td>\n",
       "      <td>NaN</td>\n",
       "      <td>NaN</td>\n",
       "      <td>NaN</td>\n",
       "    </tr>\n",
       "    <tr>\n",
       "      <th>1</th>\n",
       "      <td>5.0</td>\n",
       "      <td>5.0</td>\n",
       "      <td>5.0</td>\n",
       "      <td>5.0</td>\n",
       "      <td>5.0</td>\n",
       "      <td>5.0</td>\n",
       "      <td>5.0</td>\n",
       "      <td>5.0</td>\n",
       "      <td>NaN</td>\n",
       "      <td>NaN</td>\n",
       "      <td>NaN</td>\n",
       "    </tr>\n",
       "    <tr>\n",
       "      <th>2</th>\n",
       "      <td>5.0</td>\n",
       "      <td>5.0</td>\n",
       "      <td>4.0</td>\n",
       "      <td>5.0</td>\n",
       "      <td>5.0</td>\n",
       "      <td>4.0</td>\n",
       "      <td>5.0</td>\n",
       "      <td>5.0</td>\n",
       "      <td>NaN</td>\n",
       "      <td>NaN</td>\n",
       "      <td>NaN</td>\n",
       "    </tr>\n",
       "    <tr>\n",
       "      <th>3</th>\n",
       "      <td>5.0</td>\n",
       "      <td>5.0</td>\n",
       "      <td>5.0</td>\n",
       "      <td>5.0</td>\n",
       "      <td>5.0</td>\n",
       "      <td>5.0</td>\n",
       "      <td>5.0</td>\n",
       "      <td>5.0</td>\n",
       "      <td>NaN</td>\n",
       "      <td>NaN</td>\n",
       "      <td>NaN</td>\n",
       "    </tr>\n",
       "    <tr>\n",
       "      <th>4</th>\n",
       "      <td>5.0</td>\n",
       "      <td>5.0</td>\n",
       "      <td>5.0</td>\n",
       "      <td>5.0</td>\n",
       "      <td>5.0</td>\n",
       "      <td>5.0</td>\n",
       "      <td>5.0</td>\n",
       "      <td>5.0</td>\n",
       "      <td>NaN</td>\n",
       "      <td>NaN</td>\n",
       "      <td>NaN</td>\n",
       "    </tr>\n",
       "  </tbody>\n",
       "</table>\n",
       "</div>"
      ],
      "text/plain": [
       "   Q9_1  Q9_2  Q11_2  Q11_3  Q11_4  Q12_2  Q12_3  Q12_4  Q13_2  Q13_3  Q13_4\n",
       "0   4.0   5.0    4.0    4.0    4.0    4.0    5.0    3.0    NaN    NaN    NaN\n",
       "1   5.0   5.0    5.0    5.0    5.0    5.0    5.0    5.0    NaN    NaN    NaN\n",
       "2   5.0   5.0    4.0    5.0    5.0    4.0    5.0    5.0    NaN    NaN    NaN\n",
       "3   5.0   5.0    5.0    5.0    5.0    5.0    5.0    5.0    NaN    NaN    NaN\n",
       "4   5.0   5.0    5.0    5.0    5.0    5.0    5.0    5.0    NaN    NaN    NaN"
      ]
     },
     "execution_count": 9,
     "metadata": {},
     "output_type": "execute_result"
    }
   ],
   "source": [
    "df_1[columns_2_clean].head()"
   ]
  },
  {
   "cell_type": "code",
   "execution_count": 10,
   "metadata": {},
   "outputs": [
    {
     "data": {
      "text/html": [
       "<div>\n",
       "<style scoped>\n",
       "    .dataframe tbody tr th:only-of-type {\n",
       "        vertical-align: middle;\n",
       "    }\n",
       "\n",
       "    .dataframe tbody tr th {\n",
       "        vertical-align: top;\n",
       "    }\n",
       "\n",
       "    .dataframe thead th {\n",
       "        text-align: right;\n",
       "    }\n",
       "</style>\n",
       "<table border=\"1\" class=\"dataframe\">\n",
       "  <thead>\n",
       "    <tr style=\"text-align: right;\">\n",
       "      <th></th>\n",
       "      <th>Unnamed: 0</th>\n",
       "      <th>StartDate</th>\n",
       "      <th>EndDate</th>\n",
       "      <th>Status</th>\n",
       "      <th>IPAddress</th>\n",
       "      <th>Progress</th>\n",
       "      <th>Duration (in seconds)</th>\n",
       "      <th>Finished</th>\n",
       "      <th>RecordedDate</th>\n",
       "      <th>ResponseId</th>\n",
       "      <th>...</th>\n",
       "      <th>Trainer03RC</th>\n",
       "      <th>Trainer03FL</th>\n",
       "      <th>Trainer04BK</th>\n",
       "      <th>Trainer04RC</th>\n",
       "      <th>Trainer04FL</th>\n",
       "      <th>Trainer05BK</th>\n",
       "      <th>Trainer05RC</th>\n",
       "      <th>Trainer05FL</th>\n",
       "      <th>Program Code</th>\n",
       "      <th>Q15 - Topics</th>\n",
       "    </tr>\n",
       "  </thead>\n",
       "  <tbody>\n",
       "    <tr>\n",
       "      <th>0</th>\n",
       "      <td>2</td>\n",
       "      <td>1/30/15 11:21</td>\n",
       "      <td>1/30/15 11:27</td>\n",
       "      <td>IP Address</td>\n",
       "      <td>208.0.118.3</td>\n",
       "      <td>NaN</td>\n",
       "      <td>336</td>\n",
       "      <td>True</td>\n",
       "      <td>6/19/17 19:54</td>\n",
       "      <td>R_30dvwf8u53maBHD</td>\n",
       "      <td>...</td>\n",
       "      <td>NaN</td>\n",
       "      <td>NaN</td>\n",
       "      <td>NaN</td>\n",
       "      <td>NaN</td>\n",
       "      <td>NaN</td>\n",
       "      <td>NaN</td>\n",
       "      <td>NaN</td>\n",
       "      <td>NaN</td>\n",
       "      <td>NaN</td>\n",
       "      <td>Unknown</td>\n",
       "    </tr>\n",
       "    <tr>\n",
       "      <th>1</th>\n",
       "      <td>3</td>\n",
       "      <td>1/30/15 11:21</td>\n",
       "      <td>1/30/15 11:27</td>\n",
       "      <td>IP Address</td>\n",
       "      <td>208.0.118.3</td>\n",
       "      <td>NaN</td>\n",
       "      <td>383</td>\n",
       "      <td>True</td>\n",
       "      <td>6/19/17 19:54</td>\n",
       "      <td>R_2XnsYU4IUfTwIZ7</td>\n",
       "      <td>...</td>\n",
       "      <td>NaN</td>\n",
       "      <td>NaN</td>\n",
       "      <td>NaN</td>\n",
       "      <td>NaN</td>\n",
       "      <td>NaN</td>\n",
       "      <td>NaN</td>\n",
       "      <td>NaN</td>\n",
       "      <td>NaN</td>\n",
       "      <td>NaN</td>\n",
       "      <td>Unknown</td>\n",
       "    </tr>\n",
       "    <tr>\n",
       "      <th>2</th>\n",
       "      <td>4</td>\n",
       "      <td>1/30/15 11:21</td>\n",
       "      <td>1/30/15 11:27</td>\n",
       "      <td>IP Address</td>\n",
       "      <td>208.0.118.3</td>\n",
       "      <td>NaN</td>\n",
       "      <td>379</td>\n",
       "      <td>True</td>\n",
       "      <td>6/19/17 19:54</td>\n",
       "      <td>R_1plIhVnhtEvVta3</td>\n",
       "      <td>...</td>\n",
       "      <td>NaN</td>\n",
       "      <td>NaN</td>\n",
       "      <td>NaN</td>\n",
       "      <td>NaN</td>\n",
       "      <td>NaN</td>\n",
       "      <td>NaN</td>\n",
       "      <td>NaN</td>\n",
       "      <td>NaN</td>\n",
       "      <td>NaN</td>\n",
       "      <td>NaN</td>\n",
       "    </tr>\n",
       "    <tr>\n",
       "      <th>3</th>\n",
       "      <td>5</td>\n",
       "      <td>1/30/15 11:21</td>\n",
       "      <td>1/30/15 11:28</td>\n",
       "      <td>IP Address</td>\n",
       "      <td>208.0.118.3</td>\n",
       "      <td>NaN</td>\n",
       "      <td>462</td>\n",
       "      <td>True</td>\n",
       "      <td>6/19/17 19:54</td>\n",
       "      <td>R_3hxzKGqy7BHj5So</td>\n",
       "      <td>...</td>\n",
       "      <td>NaN</td>\n",
       "      <td>NaN</td>\n",
       "      <td>NaN</td>\n",
       "      <td>NaN</td>\n",
       "      <td>NaN</td>\n",
       "      <td>NaN</td>\n",
       "      <td>NaN</td>\n",
       "      <td>NaN</td>\n",
       "      <td>NaN</td>\n",
       "      <td>Unknown</td>\n",
       "    </tr>\n",
       "    <tr>\n",
       "      <th>4</th>\n",
       "      <td>6</td>\n",
       "      <td>1/30/15 11:21</td>\n",
       "      <td>1/30/15 11:29</td>\n",
       "      <td>IP Address</td>\n",
       "      <td>208.0.118.3</td>\n",
       "      <td>NaN</td>\n",
       "      <td>499</td>\n",
       "      <td>True</td>\n",
       "      <td>6/19/17 19:54</td>\n",
       "      <td>R_2BksDDpAJJGaBWy</td>\n",
       "      <td>...</td>\n",
       "      <td>NaN</td>\n",
       "      <td>NaN</td>\n",
       "      <td>NaN</td>\n",
       "      <td>NaN</td>\n",
       "      <td>NaN</td>\n",
       "      <td>NaN</td>\n",
       "      <td>NaN</td>\n",
       "      <td>NaN</td>\n",
       "      <td>NaN</td>\n",
       "      <td>Unknown</td>\n",
       "    </tr>\n",
       "  </tbody>\n",
       "</table>\n",
       "<p>5 rows × 102 columns</p>\n",
       "</div>"
      ],
      "text/plain": [
       "   Unnamed: 0      StartDate        EndDate      Status    IPAddress  \\\n",
       "0           2  1/30/15 11:21  1/30/15 11:27  IP Address  208.0.118.3   \n",
       "1           3  1/30/15 11:21  1/30/15 11:27  IP Address  208.0.118.3   \n",
       "2           4  1/30/15 11:21  1/30/15 11:27  IP Address  208.0.118.3   \n",
       "3           5  1/30/15 11:21  1/30/15 11:28  IP Address  208.0.118.3   \n",
       "4           6  1/30/15 11:21  1/30/15 11:29  IP Address  208.0.118.3   \n",
       "\n",
       "   Progress  Duration (in seconds)  Finished   RecordedDate  \\\n",
       "0       NaN                    336      True  6/19/17 19:54   \n",
       "1       NaN                    383      True  6/19/17 19:54   \n",
       "2       NaN                    379      True  6/19/17 19:54   \n",
       "3       NaN                    462      True  6/19/17 19:54   \n",
       "4       NaN                    499      True  6/19/17 19:54   \n",
       "\n",
       "          ResponseId      ...      Trainer03RC  Trainer03FL  Trainer04BK  \\\n",
       "0  R_30dvwf8u53maBHD      ...              NaN          NaN          NaN   \n",
       "1  R_2XnsYU4IUfTwIZ7      ...              NaN          NaN          NaN   \n",
       "2  R_1plIhVnhtEvVta3      ...              NaN          NaN          NaN   \n",
       "3  R_3hxzKGqy7BHj5So      ...              NaN          NaN          NaN   \n",
       "4  R_2BksDDpAJJGaBWy      ...              NaN          NaN          NaN   \n",
       "\n",
       "  Trainer04RC Trainer04FL  Trainer05BK Trainer05RC Trainer05FL  Program Code  \\\n",
       "0         NaN         NaN          NaN         NaN         NaN           NaN   \n",
       "1         NaN         NaN          NaN         NaN         NaN           NaN   \n",
       "2         NaN         NaN          NaN         NaN         NaN           NaN   \n",
       "3         NaN         NaN          NaN         NaN         NaN           NaN   \n",
       "4         NaN         NaN          NaN         NaN         NaN           NaN   \n",
       "\n",
       "   Q15 - Topics  \n",
       "0       Unknown  \n",
       "1       Unknown  \n",
       "2           NaN  \n",
       "3       Unknown  \n",
       "4       Unknown  \n",
       "\n",
       "[5 rows x 102 columns]"
      ]
     },
     "execution_count": 10,
     "metadata": {},
     "output_type": "execute_result"
    }
   ],
   "source": [
    "df_1.head()"
   ]
  },
  {
   "cell_type": "code",
   "execution_count": 11,
   "metadata": {},
   "outputs": [],
   "source": [
    "#JoinedTables['Notes'].str.contains('exercise').astype(int)\n",
    "df_1[\"2015 Cols = 1\"] = df_1[\"StartDate\"].str.contains(\"15\").astype(int)"
   ]
  },
  {
   "cell_type": "code",
   "execution_count": 12,
   "metadata": {},
   "outputs": [],
   "source": [
    "data_2015 = df_1[df_1[\"2015 Cols = 1\"] == 1]\n"
   ]
  },
  {
   "cell_type": "code",
   "execution_count": 13,
   "metadata": {},
   "outputs": [],
   "source": [
    "#len(data_2015)"
   ]
  },
  {
   "cell_type": "code",
   "execution_count": 14,
   "metadata": {},
   "outputs": [],
   "source": [
    "mean_overall_sat15 = data_2015[\"Q2_1\"].mean()"
   ]
  },
  {
   "cell_type": "code",
   "execution_count": 15,
   "metadata": {},
   "outputs": [],
   "source": [
    "df_1[\"2016 Cols = 1\"] = df_1[\"StartDate\"].str.contains(\"16\").astype(int)\n",
    "data_2016 = df_1[df_1[\"2016 Cols = 1\"] == 1]\n",
    "#len(data_2016)"
   ]
  },
  {
   "cell_type": "code",
   "execution_count": 16,
   "metadata": {},
   "outputs": [],
   "source": [
    "mean_overall_sat16 = data_2016[\"Q2_1\"].mean()"
   ]
  },
  {
   "cell_type": "code",
   "execution_count": 17,
   "metadata": {},
   "outputs": [],
   "source": [
    "df_1[\"2017 Cols = 1\"] = df_1[\"StartDate\"].str.contains(\"17\").astype(int)\n",
    "data_2017 = df_1[df_1[\"2017 Cols = 1\"] == 1]\n",
    "#len(data_2017)"
   ]
  },
  {
   "cell_type": "code",
   "execution_count": 18,
   "metadata": {},
   "outputs": [],
   "source": [
    "mean_overall_sat17 = data_2017[\"Q2_1\"].mean()"
   ]
  },
  {
   "cell_type": "code",
   "execution_count": 19,
   "metadata": {},
   "outputs": [],
   "source": [
    "df_1[\"2018 Cols = 1\"] = df_1[\"StartDate\"].str.contains(\"18\").astype(int)\n",
    "data_2018 = df_1[df_1[\"2018 Cols = 1\"] == 1]\n",
    "#len(data_2018)"
   ]
  },
  {
   "cell_type": "code",
   "execution_count": 20,
   "metadata": {},
   "outputs": [],
   "source": [
    "mean_overall_sat18 = data_2018[\"Q2_1\"].mean()"
   ]
  },
  {
   "cell_type": "code",
   "execution_count": 21,
   "metadata": {},
   "outputs": [
    {
     "data": {
      "image/png": "[encoded data removed]",
      "text/plain": [
       "<Figure size 432x288 with 1 Axes>"
      ]
     },
     "metadata": {},
     "output_type": "display_data"
    }
   ],
   "source": [
    "mean_data = {\"Mean Overall Satisfaction Rating\": [mean_overall_sat15,mean_overall_sat16,mean_overall_sat17,mean_overall_sat18]}\n",
    "mean_df = pd.DataFrame(mean_data)\n",
    "mean_df = mean_df.rename(index={0: '2015',1:'2016',2:'2017',3:'2018'})\n",
    "mean_df\n",
    "ax = mean_df[\"Mean Overall Satisfaction Rating\"].plot(kind=\"bar\") \n",
    "plt.title(\"Mean of Overall Satisfaction\")\n",
    "plt.xlabel(\"Year\")\n",
    "plt.ylabel(\"Rating\")\n",
    "plt.savefig(\"./Plots_Folder/Yearly_Mean_Overall_Satisfaction.png\")\n"
   ]
  },
  {
   "cell_type": "code",
   "execution_count": null,
   "metadata": {},
   "outputs": [],
   "source": []
  }
 ],
 "metadata": {
  "kernelspec": {
   "display_name": "Python 3",
   "language": "python",
   "name": "python3"
  },
  "language_info": {
   "codemirror_mode": {
    "name": "ipython",
    "version": 3
   },
   "file_extension": ".py",
   "mimetype": "text/x-python",
   "name": "python",
   "nbconvert_exporter": "python",
   "pygments_lexer": "ipython3",
   "version": "3.6.5"
  }
 },
 "nbformat": 4,
 "nbformat_minor": 2
}
