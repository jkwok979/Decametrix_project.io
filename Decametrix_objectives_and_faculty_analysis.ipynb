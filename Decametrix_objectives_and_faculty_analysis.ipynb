{
 "cells": [
  {
   "cell_type": "code",
   "execution_count": 1,
   "metadata": {},
   "outputs": [],
   "source": [
    "import tweepy\n",
    "import pandas as pd\n",
    "import matplotlib.pyplot as plt\n",
    "ldp_df = pd.read_csv(\"LDP EOP DATA.csv\")\n",
    "\n",
    "import numpy as np"
   ]
  },
  {
   "cell_type": "code",
   "execution_count": 2,
   "metadata": {},
   "outputs": [],
   "source": [
    "### This part of the jupyter notebook investigates the objectives from each data set"
   ]
  },
  {
   "cell_type": "code",
   "execution_count": 3,
   "metadata": {},
   "outputs": [
    {
     "data": {
      "text/html": [
       "<div>\n",
       "<style scoped>\n",
       "    .dataframe tbody tr th:only-of-type {\n",
       "        vertical-align: middle;\n",
       "    }\n",
       "\n",
       "    .dataframe tbody tr th {\n",
       "        vertical-align: top;\n",
       "    }\n",
       "\n",
       "    .dataframe thead th {\n",
       "        text-align: right;\n",
       "    }\n",
       "</style>\n",
       "<table border=\"1\" class=\"dataframe\">\n",
       "  <thead>\n",
       "    <tr style=\"text-align: right;\">\n",
       "      <th></th>\n",
       "      <th>StartDate</th>\n",
       "      <th>EndDate</th>\n",
       "      <th>Status</th>\n",
       "      <th>IPAddress</th>\n",
       "      <th>Progress</th>\n",
       "      <th>Duration (in seconds)</th>\n",
       "      <th>Finished</th>\n",
       "      <th>RecordedDate</th>\n",
       "      <th>ResponseId</th>\n",
       "      <th>ExternalReference</th>\n",
       "      <th>...</th>\n",
       "      <th>Trainer03RC</th>\n",
       "      <th>Trainer03FL</th>\n",
       "      <th>Trainer04BK</th>\n",
       "      <th>Trainer04RC</th>\n",
       "      <th>Trainer04FL</th>\n",
       "      <th>Trainer05BK</th>\n",
       "      <th>Trainer05RC</th>\n",
       "      <th>Trainer05FL</th>\n",
       "      <th>Program Code</th>\n",
       "      <th>Q15 - Topics</th>\n",
       "    </tr>\n",
       "  </thead>\n",
       "  <tbody>\n",
       "    <tr>\n",
       "      <th>0</th>\n",
       "      <td>Start Date</td>\n",
       "      <td>End Date</td>\n",
       "      <td>Response Type</td>\n",
       "      <td>IP Address</td>\n",
       "      <td>Progress</td>\n",
       "      <td>Duration (in seconds)</td>\n",
       "      <td>Finished</td>\n",
       "      <td>Recorded Date</td>\n",
       "      <td>Response ID</td>\n",
       "      <td>External Data Reference</td>\n",
       "      <td>...</td>\n",
       "      <td>Trainer03RC</td>\n",
       "      <td>Trainer03FL</td>\n",
       "      <td>Trainer04BK</td>\n",
       "      <td>Trainer04RC</td>\n",
       "      <td>Trainer04FL</td>\n",
       "      <td>Trainer05BK</td>\n",
       "      <td>Trainer05RC</td>\n",
       "      <td>Trainer05FL</td>\n",
       "      <td>Program Code</td>\n",
       "      <td>Q15 - Topics</td>\n",
       "    </tr>\n",
       "    <tr>\n",
       "      <th>1</th>\n",
       "      <td>{\"ImportId\":\"startDate\",\"timeZone\":\"America/Ne...</td>\n",
       "      <td>{\"ImportId\":\"endDate\",\"timeZone\":\"America/New_...</td>\n",
       "      <td>{\"ImportId\":\"status\"}</td>\n",
       "      <td>{\"ImportId\":\"ipAddress\"}</td>\n",
       "      <td>{\"ImportId\":\"progress\"}</td>\n",
       "      <td>{\"ImportId\":\"duration\"}</td>\n",
       "      <td>{\"ImportId\":\"finished\"}</td>\n",
       "      <td>{\"ImportId\":\"recordedDate\",\"timeZone\":\"America...</td>\n",
       "      <td>{\"ImportId\":\"_recordId\"}</td>\n",
       "      <td>{\"ImportId\":\"externalDataReference\"}</td>\n",
       "      <td>...</td>\n",
       "      <td>{\"ImportId\":\"Trainer03RC\"}</td>\n",
       "      <td>{\"ImportId\":\"Trainer03FL\"}</td>\n",
       "      <td>{\"ImportId\":\"Trainer04BK\"}</td>\n",
       "      <td>{\"ImportId\":\"Trainer04RC\"}</td>\n",
       "      <td>{\"ImportId\":\"Trainer04FL\"}</td>\n",
       "      <td>{\"ImportId\":\"Trainer05BK\"}</td>\n",
       "      <td>{\"ImportId\":\"Trainer05RC\"}</td>\n",
       "      <td>{\"ImportId\":\"Trainer05FL\"}</td>\n",
       "      <td>{\"ImportId\":\"Progra_CEDpjes4nm\"}</td>\n",
       "      <td>{\"ImportId\":\"QID14_TEXT_db0f65f5c6324199b05a65...</td>\n",
       "    </tr>\n",
       "    <tr>\n",
       "      <th>2</th>\n",
       "      <td>1/30/15 11:21</td>\n",
       "      <td>1/30/15 11:27</td>\n",
       "      <td>IP Address</td>\n",
       "      <td>208.0.118.3</td>\n",
       "      <td>NaN</td>\n",
       "      <td>336</td>\n",
       "      <td>TRUE</td>\n",
       "      <td>6/19/17 19:54</td>\n",
       "      <td>R_30dvwf8u53maBHD</td>\n",
       "      <td>LDP01261501-Greensboro, NC, USA-Old Tyme Bean Co.</td>\n",
       "      <td>...</td>\n",
       "      <td>NaN</td>\n",
       "      <td>NaN</td>\n",
       "      <td>NaN</td>\n",
       "      <td>NaN</td>\n",
       "      <td>NaN</td>\n",
       "      <td>NaN</td>\n",
       "      <td>NaN</td>\n",
       "      <td>NaN</td>\n",
       "      <td>NaN</td>\n",
       "      <td>Unknown</td>\n",
       "    </tr>\n",
       "    <tr>\n",
       "      <th>3</th>\n",
       "      <td>1/30/15 11:21</td>\n",
       "      <td>1/30/15 11:27</td>\n",
       "      <td>IP Address</td>\n",
       "      <td>208.0.118.3</td>\n",
       "      <td>NaN</td>\n",
       "      <td>383</td>\n",
       "      <td>TRUE</td>\n",
       "      <td>6/19/17 19:54</td>\n",
       "      <td>R_2XnsYU4IUfTwIZ7</td>\n",
       "      <td>LDP01261501-Greensboro, NC, USA-US Senate</td>\n",
       "      <td>...</td>\n",
       "      <td>NaN</td>\n",
       "      <td>NaN</td>\n",
       "      <td>NaN</td>\n",
       "      <td>NaN</td>\n",
       "      <td>NaN</td>\n",
       "      <td>NaN</td>\n",
       "      <td>NaN</td>\n",
       "      <td>NaN</td>\n",
       "      <td>NaN</td>\n",
       "      <td>Unknown</td>\n",
       "    </tr>\n",
       "    <tr>\n",
       "      <th>4</th>\n",
       "      <td>1/30/15 11:21</td>\n",
       "      <td>1/30/15 11:27</td>\n",
       "      <td>IP Address</td>\n",
       "      <td>208.0.118.3</td>\n",
       "      <td>NaN</td>\n",
       "      <td>379</td>\n",
       "      <td>TRUE</td>\n",
       "      <td>6/19/17 19:54</td>\n",
       "      <td>R_1plIhVnhtEvVta3</td>\n",
       "      <td>LDP01261501-Greensboro, NC, USA-Siemens Energy...</td>\n",
       "      <td>...</td>\n",
       "      <td>NaN</td>\n",
       "      <td>NaN</td>\n",
       "      <td>NaN</td>\n",
       "      <td>NaN</td>\n",
       "      <td>NaN</td>\n",
       "      <td>NaN</td>\n",
       "      <td>NaN</td>\n",
       "      <td>NaN</td>\n",
       "      <td>NaN</td>\n",
       "      <td>NaN</td>\n",
       "    </tr>\n",
       "  </tbody>\n",
       "</table>\n",
       "<p>5 rows × 101 columns</p>\n",
       "</div>"
      ],
      "text/plain": [
       "                                           StartDate  \\\n",
       "0                                         Start Date   \n",
       "1  {\"ImportId\":\"startDate\",\"timeZone\":\"America/Ne...   \n",
       "2                                      1/30/15 11:21   \n",
       "3                                      1/30/15 11:21   \n",
       "4                                      1/30/15 11:21   \n",
       "\n",
       "                                             EndDate                 Status  \\\n",
       "0                                           End Date          Response Type   \n",
       "1  {\"ImportId\":\"endDate\",\"timeZone\":\"America/New_...  {\"ImportId\":\"status\"}   \n",
       "2                                      1/30/15 11:27             IP Address   \n",
       "3                                      1/30/15 11:27             IP Address   \n",
       "4                                      1/30/15 11:27             IP Address   \n",
       "\n",
       "                  IPAddress                 Progress    Duration (in seconds)  \\\n",
       "0                IP Address                 Progress    Duration (in seconds)   \n",
       "1  {\"ImportId\":\"ipAddress\"}  {\"ImportId\":\"progress\"}  {\"ImportId\":\"duration\"}   \n",
       "2               208.0.118.3                      NaN                      336   \n",
       "3               208.0.118.3                      NaN                      383   \n",
       "4               208.0.118.3                      NaN                      379   \n",
       "\n",
       "                  Finished                                       RecordedDate  \\\n",
       "0                 Finished                                      Recorded Date   \n",
       "1  {\"ImportId\":\"finished\"}  {\"ImportId\":\"recordedDate\",\"timeZone\":\"America...   \n",
       "2                     TRUE                                      6/19/17 19:54   \n",
       "3                     TRUE                                      6/19/17 19:54   \n",
       "4                     TRUE                                      6/19/17 19:54   \n",
       "\n",
       "                 ResponseId  \\\n",
       "0               Response ID   \n",
       "1  {\"ImportId\":\"_recordId\"}   \n",
       "2         R_30dvwf8u53maBHD   \n",
       "3         R_2XnsYU4IUfTwIZ7   \n",
       "4         R_1plIhVnhtEvVta3   \n",
       "\n",
       "                                   ExternalReference  \\\n",
       "0                            External Data Reference   \n",
       "1               {\"ImportId\":\"externalDataReference\"}   \n",
       "2  LDP01261501-Greensboro, NC, USA-Old Tyme Bean Co.   \n",
       "3          LDP01261501-Greensboro, NC, USA-US Senate   \n",
       "4  LDP01261501-Greensboro, NC, USA-Siemens Energy...   \n",
       "\n",
       "                         ...                          \\\n",
       "0                        ...                           \n",
       "1                        ...                           \n",
       "2                        ...                           \n",
       "3                        ...                           \n",
       "4                        ...                           \n",
       "\n",
       "                  Trainer03RC                 Trainer03FL  \\\n",
       "0                 Trainer03RC                 Trainer03FL   \n",
       "1  {\"ImportId\":\"Trainer03RC\"}  {\"ImportId\":\"Trainer03FL\"}   \n",
       "2                         NaN                         NaN   \n",
       "3                         NaN                         NaN   \n",
       "4                         NaN                         NaN   \n",
       "\n",
       "                  Trainer04BK                 Trainer04RC  \\\n",
       "0                 Trainer04BK                 Trainer04RC   \n",
       "1  {\"ImportId\":\"Trainer04BK\"}  {\"ImportId\":\"Trainer04RC\"}   \n",
       "2                         NaN                         NaN   \n",
       "3                         NaN                         NaN   \n",
       "4                         NaN                         NaN   \n",
       "\n",
       "                  Trainer04FL                 Trainer05BK  \\\n",
       "0                 Trainer04FL                 Trainer05BK   \n",
       "1  {\"ImportId\":\"Trainer04FL\"}  {\"ImportId\":\"Trainer05BK\"}   \n",
       "2                         NaN                         NaN   \n",
       "3                         NaN                         NaN   \n",
       "4                         NaN                         NaN   \n",
       "\n",
       "                  Trainer05RC                 Trainer05FL  \\\n",
       "0                 Trainer05RC                 Trainer05FL   \n",
       "1  {\"ImportId\":\"Trainer05RC\"}  {\"ImportId\":\"Trainer05FL\"}   \n",
       "2                         NaN                         NaN   \n",
       "3                         NaN                         NaN   \n",
       "4                         NaN                         NaN   \n",
       "\n",
       "                       Program Code  \\\n",
       "0                      Program Code   \n",
       "1  {\"ImportId\":\"Progra_CEDpjes4nm\"}   \n",
       "2                               NaN   \n",
       "3                               NaN   \n",
       "4                               NaN   \n",
       "\n",
       "                                        Q15 - Topics  \n",
       "0                                       Q15 - Topics  \n",
       "1  {\"ImportId\":\"QID14_TEXT_db0f65f5c6324199b05a65...  \n",
       "2                                            Unknown  \n",
       "3                                            Unknown  \n",
       "4                                                NaN  \n",
       "\n",
       "[5 rows x 101 columns]"
      ]
     },
     "execution_count": 3,
     "metadata": {},
     "output_type": "execute_result"
    }
   ],
   "source": [
    "ldp_df.head()"
   ]
  },
  {
   "cell_type": "code",
   "execution_count": 4,
   "metadata": {},
   "outputs": [],
   "source": [
    "influence_ldp = ldp_df[\"Q5#1_1\"]\n",
    "#very great extent 5\n",
    "len(influence_ldp)\n",
    "num = 0\n",
    "for dummy in influence_ldp:\n",
    "    if influence_ldp[num] == \"Very great  5\":\n",
    "        influence_ldp[num] = 5\n",
    "    if influence_ldp[num] == 'Some extent':\n",
    "        influence_ldp[num] = 3\n",
    "    if influence_ldp[num] == \"Great extent \":\n",
    "        influence_ldp[num] = 4\n",
    "    if influence_ldp[num] == \"Not at all   1\":\n",
    "        influence_ldp[num] = 1\n",
    "    \n",
    "    num += 1"
   ]
  },
  {
   "cell_type": "code",
   "execution_count": 5,
   "metadata": {},
   "outputs": [
    {
     "data": {
      "text/html": [
       "<div>\n",
       "<style scoped>\n",
       "    .dataframe tbody tr th:only-of-type {\n",
       "        vertical-align: middle;\n",
       "    }\n",
       "\n",
       "    .dataframe tbody tr th {\n",
       "        vertical-align: top;\n",
       "    }\n",
       "\n",
       "    .dataframe thead th {\n",
       "        text-align: right;\n",
       "    }\n",
       "</style>\n",
       "<table border=\"1\" class=\"dataframe\">\n",
       "  <thead>\n",
       "    <tr style=\"text-align: right;\">\n",
       "      <th></th>\n",
       "      <th>Q5#1_1</th>\n",
       "    </tr>\n",
       "  </thead>\n",
       "  <tbody>\n",
       "    <tr>\n",
       "      <th>2</th>\n",
       "      <td>4</td>\n",
       "    </tr>\n",
       "    <tr>\n",
       "      <th>3</th>\n",
       "      <td>4</td>\n",
       "    </tr>\n",
       "    <tr>\n",
       "      <th>4</th>\n",
       "      <td>4</td>\n",
       "    </tr>\n",
       "    <tr>\n",
       "      <th>6</th>\n",
       "      <td>5</td>\n",
       "    </tr>\n",
       "    <tr>\n",
       "      <th>7</th>\n",
       "      <td>4</td>\n",
       "    </tr>\n",
       "  </tbody>\n",
       "</table>\n",
       "</div>"
      ],
      "text/plain": [
       "  Q5#1_1\n",
       "2      4\n",
       "3      4\n",
       "4      4\n",
       "6      5\n",
       "7      4"
      ]
     },
     "execution_count": 5,
     "metadata": {},
     "output_type": "execute_result"
    }
   ],
   "source": [
    "#influence_ldp\n",
    "influence_ldp\n",
    "influence_ldp = pd.DataFrame(data=influence_ldp)\n",
    "influence_ldp = influence_ldp.drop(influence_ldp.index[0])\n",
    "influence_ldp = influence_ldp.drop(influence_ldp.index[0])\n",
    "influence_ldp.head()\n",
    "influence_ldp= influence_ldp.dropna()\n",
    "influence_ldp.drop(influence_ldp.index[1])\n",
    "influence_ldp.head()"
   ]
  },
  {
   "cell_type": "code",
   "execution_count": 6,
   "metadata": {},
   "outputs": [
    {
     "data": {
      "text/plain": [
       "4.184683882457702"
      ]
     },
     "execution_count": 6,
     "metadata": {},
     "output_type": "execute_result"
    }
   ],
   "source": [
    "influence_ldp[\"Q5#1_1\"] = influence_ldp[\"Q5#1_1\"].apply(pd.to_numeric)\n",
    "influence_ldp[\"Q5#1_1\"].value_counts()\n",
    "inf_ldp = influence_ldp[\"Q5#1_1\"].mean()\n",
    "inf_ldp"
   ]
  },
  {
   "cell_type": "code",
   "execution_count": 7,
   "metadata": {},
   "outputs": [],
   "source": [
    "conflict_ldp = ldp_df[\"Q5#1_4\"]\n",
    "#very great extent 5\n",
    "len(conflict_ldp)\n",
    "num = 0\n",
    "for dummy in conflict_ldp:\n",
    "    if conflict_ldp[num] == \"Very great  5\":\n",
    "        conflict_ldp[num] = 5\n",
    "    if conflict_ldp[num] == 'Some extent':\n",
    "        conflict_ldp[num] = 3\n",
    "    if conflict_ldp[num] == \"Great extent \":\n",
    "        conflict_ldp[num] = 4\n",
    "    if conflict_ldp[num] == \"Not at all   1\":\n",
    "        conflict_ldp[num] = 1\n",
    "    \n",
    "    num += 1"
   ]
  },
  {
   "cell_type": "code",
   "execution_count": 8,
   "metadata": {},
   "outputs": [
    {
     "data": {
      "text/plain": [
       "4.439297124600639"
      ]
     },
     "execution_count": 8,
     "metadata": {},
     "output_type": "execute_result"
    }
   ],
   "source": [
    "#conflict_ldp\n",
    "conflict_ldp\n",
    "conflict_ldp = pd.DataFrame(data=conflict_ldp)\n",
    "conflict_ldp = conflict_ldp.drop(conflict_ldp.index[0])\n",
    "conflict_ldp = conflict_ldp.drop(conflict_ldp.index[0])\n",
    "conflict_ldp.head()\n",
    "conflict_ldp= conflict_ldp.dropna()\n",
    "conflict_ldp.drop(conflict_ldp.index[1])\n",
    "conflict_ldp.head()\n",
    "conflict_ldp[\"Q5#1_4\"] = conflict_ldp[\"Q5#1_4\"].apply(pd.to_numeric)\n",
    "conflict_ldp[\"Q5#1_4\"].value_counts()\n",
    "conf_ldp = conflict_ldp[\"Q5#1_4\"].mean()\n",
    "conf_ldp"
   ]
  },
  {
   "cell_type": "code",
   "execution_count": 9,
   "metadata": {},
   "outputs": [],
   "source": [
    "communication_ldp = ldp_df[\"Q5#1_7\"]\n",
    "#very great extent 5\n",
    "len(communication_ldp)\n",
    "num = 0\n",
    "for dummy in communication_ldp:\n",
    "    if communication_ldp[num] == \"Very great  5\":\n",
    "        communication_ldp[num] = 5\n",
    "    if communication_ldp[num] == 'Some extent':\n",
    "        communication_ldp[num] = 3\n",
    "    if communication_ldp[num] == \"Great extent \":\n",
    "        communication_ldp[num] = 4\n",
    "    if communication_ldp[num] == \"Not at all   1\":\n",
    "        communication_ldp[num] = 1\n",
    "    \n",
    "    num += 1\n"
   ]
  },
  {
   "cell_type": "code",
   "execution_count": 10,
   "metadata": {},
   "outputs": [
    {
     "data": {
      "text/plain": [
       "4.116977777777778"
      ]
     },
     "execution_count": 10,
     "metadata": {},
     "output_type": "execute_result"
    }
   ],
   "source": [
    "#communication_ldp\n",
    "communication_ldp\n",
    "communication_ldp = pd.DataFrame(data=communication_ldp)\n",
    "communication_ldp = communication_ldp.drop(communication_ldp.index[0])\n",
    "communication_ldp = communication_ldp.drop(communication_ldp.index[0])\n",
    "communication_ldp.head()\n",
    "communication_ldp= communication_ldp.dropna()\n",
    "communication_ldp.drop(communication_ldp.index[1])\n",
    "communication_ldp.head()\n",
    "communication_ldp[\"Q5#1_7\"] = communication_ldp[\"Q5#1_7\"].apply(pd.to_numeric)\n",
    "communication_ldp[\"Q5#1_7\"].value_counts()\n",
    "comm_ldp = communication_ldp[\"Q5#1_7\"].mean()\n",
    "comm_ldp"
   ]
  },
  {
   "cell_type": "code",
   "execution_count": 11,
   "metadata": {},
   "outputs": [],
   "source": [
    "#MLP\n",
    "import tweepy\n",
    "import pandas as pd\n",
    "import matplotlib as plt\n",
    "df = pd.read_csv(\"jas_MLP EOP DATA (2).csv\")\n",
    "import numpy as np"
   ]
  },
  {
   "cell_type": "code",
   "execution_count": 12,
   "metadata": {},
   "outputs": [
    {
     "data": {
      "text/html": [
       "<div>\n",
       "<style scoped>\n",
       "    .dataframe tbody tr th:only-of-type {\n",
       "        vertical-align: middle;\n",
       "    }\n",
       "\n",
       "    .dataframe tbody tr th {\n",
       "        vertical-align: top;\n",
       "    }\n",
       "\n",
       "    .dataframe thead th {\n",
       "        text-align: right;\n",
       "    }\n",
       "</style>\n",
       "<table border=\"1\" class=\"dataframe\">\n",
       "  <thead>\n",
       "    <tr style=\"text-align: right;\">\n",
       "      <th></th>\n",
       "      <th>StartDate</th>\n",
       "      <th>EndDate</th>\n",
       "      <th>Status</th>\n",
       "      <th>IPAddress</th>\n",
       "      <th>Progress</th>\n",
       "      <th>Duration (in seconds)</th>\n",
       "      <th>Finished</th>\n",
       "      <th>RecordedDate</th>\n",
       "      <th>ResponseId</th>\n",
       "      <th>ExternalReference</th>\n",
       "      <th>...</th>\n",
       "      <th>FACILITATELEARNING</th>\n",
       "      <th>Trainer02BK</th>\n",
       "      <th>Trainer02RC</th>\n",
       "      <th>Trainer02FL</th>\n",
       "      <th>Trainer03BK</th>\n",
       "      <th>Trainer03RC</th>\n",
       "      <th>Trainer03FL</th>\n",
       "      <th>Trainer04BK</th>\n",
       "      <th>Trainer04RC</th>\n",
       "      <th>Trainer04FL</th>\n",
       "    </tr>\n",
       "  </thead>\n",
       "  <tbody>\n",
       "    <tr>\n",
       "      <th>0</th>\n",
       "      <td>2/2/15 16:03</td>\n",
       "      <td>2/2/15 16:39</td>\n",
       "      <td>IP Address</td>\n",
       "      <td>207.14.6.245</td>\n",
       "      <td>NaN</td>\n",
       "      <td>2215</td>\n",
       "      <td>True</td>\n",
       "      <td>8/14/17 12:57</td>\n",
       "      <td>R_6VGrCm9sR52GGBT</td>\n",
       "      <td>MLP01211503-San Diego, CA, USA-Ameren</td>\n",
       "      <td>...</td>\n",
       "      <td>5.0</td>\n",
       "      <td>NaN</td>\n",
       "      <td>NaN</td>\n",
       "      <td>NaN</td>\n",
       "      <td>NaN</td>\n",
       "      <td>NaN</td>\n",
       "      <td>NaN</td>\n",
       "      <td>NaN</td>\n",
       "      <td>NaN</td>\n",
       "      <td>NaN</td>\n",
       "    </tr>\n",
       "    <tr>\n",
       "      <th>1</th>\n",
       "      <td>2/2/15 16:43</td>\n",
       "      <td>2/2/15 16:51</td>\n",
       "      <td>IP Address</td>\n",
       "      <td>207.14.6.245</td>\n",
       "      <td>NaN</td>\n",
       "      <td>521</td>\n",
       "      <td>True</td>\n",
       "      <td>8/14/17 12:57</td>\n",
       "      <td>R_d5wdcsMkyCGKDnD</td>\n",
       "      <td>MLP01211503-San Diego, CA, USA-Crystal IS, Inc</td>\n",
       "      <td>...</td>\n",
       "      <td>5.0</td>\n",
       "      <td>NaN</td>\n",
       "      <td>NaN</td>\n",
       "      <td>NaN</td>\n",
       "      <td>NaN</td>\n",
       "      <td>NaN</td>\n",
       "      <td>NaN</td>\n",
       "      <td>NaN</td>\n",
       "      <td>NaN</td>\n",
       "      <td>NaN</td>\n",
       "    </tr>\n",
       "    <tr>\n",
       "      <th>2</th>\n",
       "      <td>2/2/15 16:52</td>\n",
       "      <td>2/2/15 17:07</td>\n",
       "      <td>IP Address</td>\n",
       "      <td>207.14.6.245</td>\n",
       "      <td>NaN</td>\n",
       "      <td>906</td>\n",
       "      <td>True</td>\n",
       "      <td>8/14/17 12:57</td>\n",
       "      <td>R_cNOijO8zUjEVuwR</td>\n",
       "      <td>MLP01211503-San Diego, CA, USA-Tennessee Valle...</td>\n",
       "      <td>...</td>\n",
       "      <td>5.0</td>\n",
       "      <td>NaN</td>\n",
       "      <td>NaN</td>\n",
       "      <td>NaN</td>\n",
       "      <td>NaN</td>\n",
       "      <td>NaN</td>\n",
       "      <td>NaN</td>\n",
       "      <td>NaN</td>\n",
       "      <td>NaN</td>\n",
       "      <td>NaN</td>\n",
       "    </tr>\n",
       "    <tr>\n",
       "      <th>3</th>\n",
       "      <td>2/2/15 17:07</td>\n",
       "      <td>2/2/15 17:30</td>\n",
       "      <td>IP Address</td>\n",
       "      <td>207.14.6.245</td>\n",
       "      <td>NaN</td>\n",
       "      <td>1388</td>\n",
       "      <td>True</td>\n",
       "      <td>8/14/17 12:57</td>\n",
       "      <td>R_5sQ1Pm4LNRwOa6p</td>\n",
       "      <td>MLP01211503-San Diego, CA, USA-MacArthur Found...</td>\n",
       "      <td>...</td>\n",
       "      <td>5.0</td>\n",
       "      <td>NaN</td>\n",
       "      <td>NaN</td>\n",
       "      <td>NaN</td>\n",
       "      <td>NaN</td>\n",
       "      <td>NaN</td>\n",
       "      <td>NaN</td>\n",
       "      <td>NaN</td>\n",
       "      <td>NaN</td>\n",
       "      <td>NaN</td>\n",
       "    </tr>\n",
       "    <tr>\n",
       "      <th>4</th>\n",
       "      <td>2/2/15 17:35</td>\n",
       "      <td>2/2/15 17:43</td>\n",
       "      <td>IP Address</td>\n",
       "      <td>207.14.6.245</td>\n",
       "      <td>NaN</td>\n",
       "      <td>479</td>\n",
       "      <td>True</td>\n",
       "      <td>8/14/17 12:57</td>\n",
       "      <td>R_cYkpSHi74rYn8Ff</td>\n",
       "      <td>MLP01211503-San Diego, CA, USA-MacArthur Found...</td>\n",
       "      <td>...</td>\n",
       "      <td>5.0</td>\n",
       "      <td>NaN</td>\n",
       "      <td>NaN</td>\n",
       "      <td>NaN</td>\n",
       "      <td>NaN</td>\n",
       "      <td>NaN</td>\n",
       "      <td>NaN</td>\n",
       "      <td>NaN</td>\n",
       "      <td>NaN</td>\n",
       "      <td>NaN</td>\n",
       "    </tr>\n",
       "  </tbody>\n",
       "</table>\n",
       "<p>5 rows × 90 columns</p>\n",
       "</div>"
      ],
      "text/plain": [
       "      StartDate       EndDate      Status     IPAddress  Progress  \\\n",
       "0  2/2/15 16:03  2/2/15 16:39  IP Address  207.14.6.245       NaN   \n",
       "1  2/2/15 16:43  2/2/15 16:51  IP Address  207.14.6.245       NaN   \n",
       "2  2/2/15 16:52  2/2/15 17:07  IP Address  207.14.6.245       NaN   \n",
       "3  2/2/15 17:07  2/2/15 17:30  IP Address  207.14.6.245       NaN   \n",
       "4  2/2/15 17:35  2/2/15 17:43  IP Address  207.14.6.245       NaN   \n",
       "\n",
       "   Duration (in seconds)  Finished   RecordedDate         ResponseId  \\\n",
       "0                   2215      True  8/14/17 12:57  R_6VGrCm9sR52GGBT   \n",
       "1                    521      True  8/14/17 12:57  R_d5wdcsMkyCGKDnD   \n",
       "2                    906      True  8/14/17 12:57  R_cNOijO8zUjEVuwR   \n",
       "3                   1388      True  8/14/17 12:57  R_5sQ1Pm4LNRwOa6p   \n",
       "4                    479      True  8/14/17 12:57  R_cYkpSHi74rYn8Ff   \n",
       "\n",
       "                                   ExternalReference     ...       \\\n",
       "0              MLP01211503-San Diego, CA, USA-Ameren     ...        \n",
       "1     MLP01211503-San Diego, CA, USA-Crystal IS, Inc     ...        \n",
       "2  MLP01211503-San Diego, CA, USA-Tennessee Valle...     ...        \n",
       "3  MLP01211503-San Diego, CA, USA-MacArthur Found...     ...        \n",
       "4  MLP01211503-San Diego, CA, USA-MacArthur Found...     ...        \n",
       "\n",
       "   FACILITATELEARNING  Trainer02BK Trainer02RC Trainer02FL Trainer03BK  \\\n",
       "0                 5.0          NaN         NaN         NaN         NaN   \n",
       "1                 5.0          NaN         NaN         NaN         NaN   \n",
       "2                 5.0          NaN         NaN         NaN         NaN   \n",
       "3                 5.0          NaN         NaN         NaN         NaN   \n",
       "4                 5.0          NaN         NaN         NaN         NaN   \n",
       "\n",
       "  Trainer03RC Trainer03FL Trainer04BK  Trainer04RC  Trainer04FL  \n",
       "0         NaN         NaN         NaN          NaN          NaN  \n",
       "1         NaN         NaN         NaN          NaN          NaN  \n",
       "2         NaN         NaN         NaN          NaN          NaN  \n",
       "3         NaN         NaN         NaN          NaN          NaN  \n",
       "4         NaN         NaN         NaN          NaN          NaN  \n",
       "\n",
       "[5 rows x 90 columns]"
      ]
     },
     "execution_count": 12,
     "metadata": {},
     "output_type": "execute_result"
    }
   ],
   "source": [
    "df.head()"
   ]
  },
  {
   "cell_type": "code",
   "execution_count": 13,
   "metadata": {},
   "outputs": [],
   "source": [
    "influence_MLP = df[\"Q7#1_14\"]"
   ]
  },
  {
   "cell_type": "code",
   "execution_count": 14,
   "metadata": {},
   "outputs": [
    {
     "data": {
      "text/plain": [
       "5.0    1678\n",
       "4.0     799\n",
       "3.0     133\n",
       "2.0      11\n",
       "1.0      10\n",
       "Name: Q7#1_14, dtype: int64"
      ]
     },
     "execution_count": 14,
     "metadata": {},
     "output_type": "execute_result"
    }
   ],
   "source": [
    "#influence_MLP\n",
    "influence_MLP = pd.DataFrame(data=influence_MLP)\n",
    "influence_MLP= influence_MLP.dropna()\n",
    "influence_MLP.drop(influence_MLP.index[1])\n",
    "influence_MLP.fillna('NaN')\n",
    "influence_MLP['Q7#1_14'].value_counts()"
   ]
  },
  {
   "cell_type": "code",
   "execution_count": 15,
   "metadata": {},
   "outputs": [
    {
     "data": {
      "text/plain": [
       "4.567464842265299"
      ]
     },
     "execution_count": 15,
     "metadata": {},
     "output_type": "execute_result"
    }
   ],
   "source": [
    "inf_MLP = influence_MLP[\"Q7#1_14\"].mean()\n",
    "inf_MLP"
   ]
  },
  {
   "cell_type": "code",
   "execution_count": 16,
   "metadata": {},
   "outputs": [
    {
     "data": {
      "text/plain": [
       "5.0    1553\n",
       "4.0     860\n",
       "3.0     193\n",
       "2.0      27\n",
       "1.0       7\n",
       "Name: Q7#1_7, dtype: int64"
      ]
     },
     "execution_count": 16,
     "metadata": {},
     "output_type": "execute_result"
    }
   ],
   "source": [
    "communication_MLP = df[\"Q7#1_7\"]\n",
    "communication_MLP = pd.DataFrame(data=communication_MLP)\n",
    "communication_MLP= communication_MLP.dropna()\n",
    "communication_MLP.drop(communication_MLP.index[1])\n",
    "communication_MLP.fillna('NaN')\n",
    "communication_MLP['Q7#1_7'].value_counts()"
   ]
  },
  {
   "cell_type": "code",
   "execution_count": 17,
   "metadata": {},
   "outputs": [
    {
     "data": {
      "text/plain": [
       "4.486742424242424"
      ]
     },
     "execution_count": 17,
     "metadata": {},
     "output_type": "execute_result"
    }
   ],
   "source": [
    "comm_mlp = communication_MLP[\"Q7#1_7\"].mean()\n",
    "comm_mlp"
   ]
  },
  {
   "cell_type": "code",
   "execution_count": 18,
   "metadata": {},
   "outputs": [
    {
     "data": {
      "text/plain": [
       "5.0    1636\n",
       "4.0     729\n",
       "3.0     199\n",
       "2.0      34\n",
       "1.0      26\n",
       "Name: Q7#1_2, dtype: int64"
      ]
     },
     "execution_count": 18,
     "metadata": {},
     "output_type": "execute_result"
    }
   ],
   "source": [
    "conflict_MLP = df[\"Q7#1_2\"]\n",
    "conflict_MLP = pd.DataFrame(data=conflict_MLP)\n",
    "conflict_MLP= conflict_MLP.dropna()\n",
    "conflict_MLP.drop(conflict_MLP.index[1])\n",
    "conflict_MLP.fillna('NaN')\n",
    "conflict_MLP.head()\n",
    "conflict_MLP['Q7#1_2'].value_counts()"
   ]
  },
  {
   "cell_type": "code",
   "execution_count": 19,
   "metadata": {},
   "outputs": [
    {
     "data": {
      "text/plain": [
       "4.491996951219512"
      ]
     },
     "execution_count": 19,
     "metadata": {},
     "output_type": "execute_result"
    }
   ],
   "source": [
    "conf_mlp = conflict_MLP[\"Q7#1_2\"].mean()\n",
    "conf_mlp"
   ]
  },
  {
   "cell_type": "code",
   "execution_count": 20,
   "metadata": {},
   "outputs": [
    {
     "data": {
      "text/html": [
       "<div>\n",
       "<style scoped>\n",
       "    .dataframe tbody tr th:only-of-type {\n",
       "        vertical-align: middle;\n",
       "    }\n",
       "\n",
       "    .dataframe tbody tr th {\n",
       "        vertical-align: top;\n",
       "    }\n",
       "\n",
       "    .dataframe thead th {\n",
       "        text-align: right;\n",
       "    }\n",
       "</style>\n",
       "<table border=\"1\" class=\"dataframe\">\n",
       "  <thead>\n",
       "    <tr style=\"text-align: right;\">\n",
       "      <th></th>\n",
       "      <th>Unnamed: 0</th>\n",
       "      <th>StartDate</th>\n",
       "      <th>EndDate</th>\n",
       "      <th>Status</th>\n",
       "      <th>IPAddress</th>\n",
       "      <th>Progress</th>\n",
       "      <th>Duration (in seconds)</th>\n",
       "      <th>Finished</th>\n",
       "      <th>RecordedDate</th>\n",
       "      <th>ResponseId</th>\n",
       "      <th>...</th>\n",
       "      <th>Trainer03BK</th>\n",
       "      <th>Trainer03RC</th>\n",
       "      <th>Trainer03FL</th>\n",
       "      <th>Trainer04BK</th>\n",
       "      <th>Trainer04RC</th>\n",
       "      <th>Trainer04FL</th>\n",
       "      <th>Trainer05BK</th>\n",
       "      <th>Trainer05RC</th>\n",
       "      <th>Trainer05FL</th>\n",
       "      <th>Q19 - Topics</th>\n",
       "    </tr>\n",
       "  </thead>\n",
       "  <tbody>\n",
       "    <tr>\n",
       "      <th>0</th>\n",
       "      <td>2</td>\n",
       "      <td>3/18/15 12:45</td>\n",
       "      <td>3/18/15 12:49</td>\n",
       "      <td>Imported</td>\n",
       "      <td>NaN</td>\n",
       "      <td>NaN</td>\n",
       "      <td>NaN</td>\n",
       "      <td>True</td>\n",
       "      <td>12/5/16 9:56</td>\n",
       "      <td>R_0SBJxbMvb2atyWV</td>\n",
       "      <td>...</td>\n",
       "      <td>NaN</td>\n",
       "      <td>NaN</td>\n",
       "      <td>NaN</td>\n",
       "      <td>NaN</td>\n",
       "      <td>NaN</td>\n",
       "      <td>NaN</td>\n",
       "      <td>NaN</td>\n",
       "      <td>NaN</td>\n",
       "      <td>NaN</td>\n",
       "      <td>Unknown</td>\n",
       "    </tr>\n",
       "    <tr>\n",
       "      <th>1</th>\n",
       "      <td>3</td>\n",
       "      <td>3/18/15 12:49</td>\n",
       "      <td>3/18/15 12:53</td>\n",
       "      <td>Imported</td>\n",
       "      <td>NaN</td>\n",
       "      <td>NaN</td>\n",
       "      <td>NaN</td>\n",
       "      <td>True</td>\n",
       "      <td>12/5/16 9:56</td>\n",
       "      <td>R_0JrYsqae33GJ4k5</td>\n",
       "      <td>...</td>\n",
       "      <td>NaN</td>\n",
       "      <td>NaN</td>\n",
       "      <td>NaN</td>\n",
       "      <td>NaN</td>\n",
       "      <td>NaN</td>\n",
       "      <td>NaN</td>\n",
       "      <td>NaN</td>\n",
       "      <td>NaN</td>\n",
       "      <td>NaN</td>\n",
       "      <td>Unknown</td>\n",
       "    </tr>\n",
       "    <tr>\n",
       "      <th>2</th>\n",
       "      <td>4</td>\n",
       "      <td>3/18/15 12:53</td>\n",
       "      <td>3/18/15 12:56</td>\n",
       "      <td>Imported</td>\n",
       "      <td>NaN</td>\n",
       "      <td>NaN</td>\n",
       "      <td>NaN</td>\n",
       "      <td>True</td>\n",
       "      <td>12/5/16 9:56</td>\n",
       "      <td>R_37PQMD5fPaD6ubz</td>\n",
       "      <td>...</td>\n",
       "      <td>NaN</td>\n",
       "      <td>NaN</td>\n",
       "      <td>NaN</td>\n",
       "      <td>NaN</td>\n",
       "      <td>NaN</td>\n",
       "      <td>NaN</td>\n",
       "      <td>NaN</td>\n",
       "      <td>NaN</td>\n",
       "      <td>NaN</td>\n",
       "      <td>Unknown</td>\n",
       "    </tr>\n",
       "    <tr>\n",
       "      <th>3</th>\n",
       "      <td>5</td>\n",
       "      <td>3/18/15 12:56</td>\n",
       "      <td>3/18/15 13:00</td>\n",
       "      <td>Imported</td>\n",
       "      <td>NaN</td>\n",
       "      <td>NaN</td>\n",
       "      <td>NaN</td>\n",
       "      <td>True</td>\n",
       "      <td>12/5/16 9:56</td>\n",
       "      <td>R_elY4rSfpu7vfmYd</td>\n",
       "      <td>...</td>\n",
       "      <td>NaN</td>\n",
       "      <td>NaN</td>\n",
       "      <td>NaN</td>\n",
       "      <td>NaN</td>\n",
       "      <td>NaN</td>\n",
       "      <td>NaN</td>\n",
       "      <td>NaN</td>\n",
       "      <td>NaN</td>\n",
       "      <td>NaN</td>\n",
       "      <td>Unknown</td>\n",
       "    </tr>\n",
       "    <tr>\n",
       "      <th>4</th>\n",
       "      <td>6</td>\n",
       "      <td>3/18/15 13:00</td>\n",
       "      <td>3/18/15 13:03</td>\n",
       "      <td>Imported</td>\n",
       "      <td>NaN</td>\n",
       "      <td>NaN</td>\n",
       "      <td>NaN</td>\n",
       "      <td>True</td>\n",
       "      <td>12/5/16 9:56</td>\n",
       "      <td>R_8B9XFJKSiT6Yzo9</td>\n",
       "      <td>...</td>\n",
       "      <td>NaN</td>\n",
       "      <td>NaN</td>\n",
       "      <td>NaN</td>\n",
       "      <td>NaN</td>\n",
       "      <td>NaN</td>\n",
       "      <td>NaN</td>\n",
       "      <td>NaN</td>\n",
       "      <td>NaN</td>\n",
       "      <td>NaN</td>\n",
       "      <td>Unknown</td>\n",
       "    </tr>\n",
       "  </tbody>\n",
       "</table>\n",
       "<p>5 rows × 111 columns</p>\n",
       "</div>"
      ],
      "text/plain": [
       "   Unnamed: 0      StartDate        EndDate    Status IPAddress  Progress  \\\n",
       "0           2  3/18/15 12:45  3/18/15 12:49  Imported       NaN       NaN   \n",
       "1           3  3/18/15 12:49  3/18/15 12:53  Imported       NaN       NaN   \n",
       "2           4  3/18/15 12:53  3/18/15 12:56  Imported       NaN       NaN   \n",
       "3           5  3/18/15 12:56  3/18/15 13:00  Imported       NaN       NaN   \n",
       "4           6  3/18/15 13:00  3/18/15 13:03  Imported       NaN       NaN   \n",
       "\n",
       "   Duration (in seconds)  Finished  RecordedDate         ResponseId  \\\n",
       "0                    NaN      True  12/5/16 9:56  R_0SBJxbMvb2atyWV   \n",
       "1                    NaN      True  12/5/16 9:56  R_0JrYsqae33GJ4k5   \n",
       "2                    NaN      True  12/5/16 9:56  R_37PQMD5fPaD6ubz   \n",
       "3                    NaN      True  12/5/16 9:56  R_elY4rSfpu7vfmYd   \n",
       "4                    NaN      True  12/5/16 9:56  R_8B9XFJKSiT6Yzo9   \n",
       "\n",
       "      ...       Trainer03BK  Trainer03RC  Trainer03FL Trainer04BK  \\\n",
       "0     ...               NaN          NaN          NaN         NaN   \n",
       "1     ...               NaN          NaN          NaN         NaN   \n",
       "2     ...               NaN          NaN          NaN         NaN   \n",
       "3     ...               NaN          NaN          NaN         NaN   \n",
       "4     ...               NaN          NaN          NaN         NaN   \n",
       "\n",
       "   Trainer04RC  Trainer04FL Trainer05BK Trainer05RC  Trainer05FL Q19 - Topics  \n",
       "0          NaN          NaN         NaN         NaN          NaN      Unknown  \n",
       "1          NaN          NaN         NaN         NaN          NaN      Unknown  \n",
       "2          NaN          NaN         NaN         NaN          NaN      Unknown  \n",
       "3          NaN          NaN         NaN         NaN          NaN      Unknown  \n",
       "4          NaN          NaN         NaN         NaN          NaN      Unknown  \n",
       "\n",
       "[5 rows x 111 columns]"
      ]
     },
     "execution_count": 20,
     "metadata": {},
     "output_type": "execute_result"
    }
   ],
   "source": [
    "#LOI Objectives\n",
    "df = pd.read_csv(\"jas_clean_LOI_EOP_DATA.csv\")\n",
    "df.head()"
   ]
  },
  {
   "cell_type": "code",
   "execution_count": 21,
   "metadata": {},
   "outputs": [],
   "source": [
    "influence_LOI = df[\"Q7_20\"]"
   ]
  },
  {
   "cell_type": "code",
   "execution_count": 22,
   "metadata": {},
   "outputs": [
    {
     "data": {
      "text/plain": [
       "Float64Index([5.0, 4.0, 3.0, 1.0], dtype='float64')"
      ]
     },
     "execution_count": 22,
     "metadata": {},
     "output_type": "execute_result"
    }
   ],
   "source": [
    "#influence_LOI\n",
    "influence_LOI = pd.DataFrame(data=influence_LOI)\n",
    "influence_LOI= influence_LOI.dropna()\n",
    "influence_LOI = influence_LOI.drop(influence_LOI.index[0])\n",
    "influence_LOI = influence_LOI.drop(influence_LOI.index[0])\n",
    "influence_LOI.fillna('NaN')\n",
    "var = influence_LOI['Q7_20'].value_counts()\n",
    "var.index\n"
   ]
  },
  {
   "cell_type": "code",
   "execution_count": 23,
   "metadata": {},
   "outputs": [
    {
     "data": {
      "text/plain": [
       "4.491582491582491"
      ]
     },
     "execution_count": 23,
     "metadata": {},
     "output_type": "execute_result"
    }
   ],
   "source": [
    "inf_LOI = influence_LOI[\"Q7_20\"].mean()\n",
    "inf_LOI"
   ]
  },
  {
   "cell_type": "code",
   "execution_count": 24,
   "metadata": {},
   "outputs": [
    {
     "data": {
      "text/plain": [
       "5.0    1151\n",
       "4.0     486\n",
       "3.0      99\n",
       "1.0      26\n",
       "Name: Q7_23, dtype: int64"
      ]
     },
     "execution_count": 24,
     "metadata": {},
     "output_type": "execute_result"
    }
   ],
   "source": [
    "communication_LOI = df[\"Q7_23\"]\n",
    "#communication_LOI\n",
    "communication_LOI = pd.DataFrame(data=communication_LOI)\n",
    "communication_LOI= communication_LOI.dropna()\n",
    "communication_LOI = communication_LOI.drop(communication_LOI.index[0])\n",
    "communication_LOI = communication_LOI.drop(communication_LOI.index[0])\n",
    "communication_LOI.fillna('NaN')\n",
    "communication_LOI['Q7_23'].value_counts()"
   ]
  },
  {
   "cell_type": "code",
   "execution_count": 25,
   "metadata": {},
   "outputs": [
    {
     "data": {
      "text/plain": [
       "4.552780930760499"
      ]
     },
     "execution_count": 25,
     "metadata": {},
     "output_type": "execute_result"
    }
   ],
   "source": [
    "comm_LOI = communication_LOI[\"Q7_23\"].mean()\n",
    "comm_LOI"
   ]
  },
  {
   "cell_type": "code",
   "execution_count": 26,
   "metadata": {},
   "outputs": [
    {
     "data": {
      "text/plain": [
       "5.0    1151\n",
       "4.0     486\n",
       "3.0      99\n",
       "1.0      26\n",
       "Name: Q7_23, dtype: int64"
      ]
     },
     "execution_count": 26,
     "metadata": {},
     "output_type": "execute_result"
    }
   ],
   "source": [
    "conflict_LOI = df[\"Q7_23\"]\n",
    "#conflict_LOI\n",
    "conflict_LOI = pd.DataFrame(data=conflict_LOI)\n",
    "conflict_LOI = conflict_LOI.drop(conflict_LOI.index[0])\n",
    "conflict_LOI = conflict_LOI.drop(conflict_LOI.index[0])\n",
    "conflict_LOI[\"Q7_23\"] = conflict_LOI[\"Q7_23\"].apply(pd.to_numeric)\n",
    "conflict_LOI['Q7_23'].value_counts()"
   ]
  },
  {
   "cell_type": "code",
   "execution_count": 27,
   "metadata": {},
   "outputs": [
    {
     "data": {
      "text/plain": [
       "4.552780930760499"
      ]
     },
     "execution_count": 27,
     "metadata": {},
     "output_type": "execute_result"
    }
   ],
   "source": [
    "conf_LOI = communication_LOI[\"Q7_23\"].mean()\n",
    "conf_LOI"
   ]
  },
  {
   "cell_type": "code",
   "execution_count": 28,
   "metadata": {},
   "outputs": [
    {
     "data": {
      "image/png": "[encoded data removed]",
      "text/plain": [
       "<Figure size 432x288 with 1 Axes>"
      ]
     },
     "metadata": {},
     "output_type": "display_data"
    }
   ],
   "source": [
    "import matplotlib.pyplot as plt\n",
    "N = 3\n",
    "inf_means= (inf_ldp, inf_MLP, inf_LOI)\n",
    "comm_means = (comm_ldp, comm_mlp, comm_LOI)\n",
    "conf_means = (conf_ldp, conf_mlp, conf_LOI)\n",
    "\n",
    "ind = np.arange(N) \n",
    "width = 0.28      \n",
    "plt.bar(ind, inf_means, width, label='LDP')\n",
    "plt.bar(ind + width, comm_means, width,\n",
    "    label='MLP')\n",
    "plt.bar(ind + width + width, conf_means, width,\n",
    "    label='LOI')\n",
    "\n",
    "plt.ylabel('Average Score')\n",
    "plt.title('Main Objectives by Program')\n",
    "\n",
    "plt.xticks(ind + width / 3, ('Influence', 'Communication', 'Conflict'))\n",
    "plt.legend(loc='best')\n",
    "plt.savefig(\"./Plots_Folder/objectives_by_program.png\")\n",
    "plt.show()\n"
   ]
  },
  {
   "cell_type": "code",
   "execution_count": null,
   "metadata": {},
   "outputs": [],
   "source": []
  },
  {
   "cell_type": "code",
   "execution_count": null,
   "metadata": {},
   "outputs": [],
   "source": []
  },
  {
   "cell_type": "code",
   "execution_count": 29,
   "metadata": {},
   "outputs": [],
   "source": [
    "import tweepy\n",
    "import pandas as pd\n",
    "import matplotlib.pyplot as plt\n",
    "\n",
    "#LDP Data Analysis \n",
    "\n",
    "df = pd.read_csv(\"LDP EOP DATA.csv\")\n",
    "\n",
    "import numpy as np\n",
    "\n",
    "# Import and Initialize Sentiment Analyzer\n",
    "from vaderSentiment.vaderSentiment import SentimentIntensityAnalyzer\n",
    "analyzer = SentimentIntensityAnalyzer()\n",
    "\n",
    "from config import consumer_key, consumer_secret, access_token, access_token_secret\n",
    "\n",
    "# Setup Tweepy API Authentication\n",
    "auth = tweepy.OAuthHandler(consumer_key, consumer_secret)\n",
    "auth.set_access_token(access_token, access_token_secret)\n",
    "api = tweepy.API(auth, parser=tweepy.parsers.JSONParser())\n",
    "\n",
    "import spacy\n",
    "from spacy import displacy\n",
    "# Load the spaCy model\n",
    "nlp = spacy.load('en_core_web_sm') #sm does not use vectors\n",
    "                                   #but md does use vectors"
   ]
  },
  {
   "cell_type": "code",
   "execution_count": null,
   "metadata": {},
   "outputs": [],
   "source": []
  },
  {
   "cell_type": "code",
   "execution_count": 30,
   "metadata": {},
   "outputs": [],
   "source": [
    "### This section of the jupyter notebook examines the responses to Faculty Questions\n",
    "### Plots out the distributions of the survey responses to each question and calculates the percentage of each rating\n",
    "### and prints them out\n",
    "\n",
    "### in examining the data, this code became the basis of a method to eventually clean all of the data "
   ]
  },
  {
   "cell_type": "code",
   "execution_count": 31,
   "metadata": {},
   "outputs": [],
   "source": [
    "column_name = [\"Q9_1\",\"Q9_2\",\"Q11_2\",\"Q11_3\",\"Q11_4\",\"Q12_2\",\"Q12_3\",\"Q12_4\",\"Q13_2\",\"Q13_3\",\"Q13_4\",\"Q14_2\",\"Q14_3\",\"Q14_4\",\"Q24_2\",\"Q24_3\",\"Q24_4\",\"Q15\",\"Q16\"]\n",
    "\n",
    "faculty_df = df[column_name] #separate faculty data\n",
    "\n",
    "over_sat = df[\"Q2_1\"] #isolate overall satisfaction column \n",
    "\n",
    "#very great extent 5\n",
    "len(over_sat)\n",
    "num = 0\n",
    "for dummy in over_sat:\n",
    "    if over_sat[num] == \"Very great extent 5\":  ###in cleaning data notebook, multiple cases are given to clean multiple columns\n",
    "        over_sat[num] = 5\n",
    "    if over_sat[num] == 'Some\\nextent\\n\\n3\\n':\n",
    "        over_sat[num] = 3\n",
    "    if over_sat[num] == \"Great\\nextent\\n4\\n\":\n",
    "        over_sat[num] = 4\n",
    "    if over_sat[num] == \"Not at all 1\":\n",
    "        over_sat[num] = 1\n",
    "    if over_sat[num] == \"Little\\nextent\\n2\\n\":\n",
    "        over_sat[num] = 2\n",
    "    num += 1"
   ]
  },
  {
   "cell_type": "code",
   "execution_count": 32,
   "metadata": {},
   "outputs": [
    {
     "data": {
      "text/plain": [
       "Very great extent\\n5                                                                                                                                                                            4196\n",
       "Great\\nextent \\n4                                                                                                                                                                               1418\n",
       "Some\\nextent\\n3                                                                                                                                                                                  122\n",
       "Little\\nextent\\n2                                                                                                                                                                                  5\n",
       "Not at all\\n1                                                                                                                                                                                      2\n",
       "{\"ImportId\":\"QID92_1\"}                                                                                                                                                                             1\n",
       "Program Faculty Ratings\\n\\n\\n\\nTo what extent did your FACULTY TEAM achieve the following: - Brought different perspectives in a complementary fashion that enhanced my learning experience.       1\n",
       "Name: Q9_1, dtype: int64"
      ]
     },
     "execution_count": 32,
     "metadata": {},
     "output_type": "execute_result"
    }
   ],
   "source": [
    "faculty_df[\"Q9_1\"].value_counts()"
   ]
  },
  {
   "cell_type": "code",
   "execution_count": 33,
   "metadata": {},
   "outputs": [],
   "source": [
    "col_9 = faculty_df[\"Q9_1\"]"
   ]
  },
  {
   "cell_type": "code",
   "execution_count": 34,
   "metadata": {},
   "outputs": [],
   "source": [
    "num = 0\n",
    "#np.arange(0,len(col_9))\n",
    "col_9 = pd.DataFrame(col_9)\n",
    "vec_dummy = np.arange(0,len(col_9))\n",
    "for dummy in vec_dummy:\n",
    "    if col_9.loc[num,\"Q9_1\"] == 'Very great extent\\n5':\n",
    "        col_9.loc[num,\"Q9_1\"] = 5\n",
    "    if col_9.loc[num,\"Q9_1\"] == 'Some\\nextent\\n3':\n",
    "        col_9.loc[num,\"Q9_1\"] = 3\n",
    "    if col_9.loc[num,\"Q9_1\"] == 'Great\\nextent \\n4':\n",
    "        col_9.loc[num,\"Q9_1\"] = 4\n",
    "    if col_9.loc[num,\"Q9_1\"] == 'Not at all\\n1 ':\n",
    "        col_9.loc[num,\"Q9_1\"] = 1\n",
    "    if col_9.loc[num,\"Q9_1\"] == 'Little\\nextent\\n2':\n",
    "        col_9.loc[num,\"Q9_1\"] = 2\n",
    "    num += 1"
   ]
  },
  {
   "cell_type": "code",
   "execution_count": 35,
   "metadata": {
    "scrolled": true
   },
   "outputs": [],
   "source": [
    "#col_9.loc[5,\"Q9_1\"]\n",
    "#len(vec_dummy)\n",
    "\n",
    "col_9=col_9.drop([0,1])\n",
    "test = col_9\n",
    "col_9bar = col_9[\"Q9_1\"].value_counts()\n"
   ]
  },
  {
   "cell_type": "code",
   "execution_count": null,
   "metadata": {},
   "outputs": [],
   "source": []
  },
  {
   "cell_type": "code",
   "execution_count": null,
   "metadata": {},
   "outputs": [],
   "source": []
  },
  {
   "cell_type": "code",
   "execution_count": 36,
   "metadata": {},
   "outputs": [
    {
     "data": {
      "text/plain": [
       "4.706599338324917"
      ]
     },
     "execution_count": 36,
     "metadata": {},
     "output_type": "execute_result"
    }
   ],
   "source": [
    "mean_Q9 = test[\"Q9_1\"].mean()\n",
    "mean_Q9"
   ]
  },
  {
   "cell_type": "code",
   "execution_count": 37,
   "metadata": {},
   "outputs": [],
   "source": [
    "col_9.index.name = \"Nums\"\n",
    "#ax = col_9[\"Q9_1\"].plot(kind=\"bar\")\n",
    "#plt.show()\n",
    "col_9bar = pd.DataFrame(col_9bar)\n",
    "#col_9bar"
   ]
  },
  {
   "cell_type": "code",
   "execution_count": 38,
   "metadata": {},
   "outputs": [
    {
     "name": "stdout",
     "output_type": "stream",
     "text": [
      "percentage for rating 1: 0.03\n",
      "percentage for rating 2: 0.09\n",
      "percentage for rating 3: 2.12\n",
      "percentage for rating 4: 24.69\n",
      "percentage for rating 5: 73.06\n"
     ]
    }
   ],
   "source": [
    "counts_9 = col_9[\"Q9_1\"].value_counts()\n",
    "counts_9=pd.DataFrame(counts_9)\n",
    "#counts_9.rename(index)\n",
    "#counts_9 = counts_9.rename(index={\"Not at all\\n1\": '1'})\n",
    "counts_9.index\n",
    "col_9bar\n",
    "from decimal import Decimal\n",
    "def percent (dataframe,string,value):\n",
    "    total = dataframe[string].sum()\n",
    "    num = 0\n",
    "    val = value\n",
    "    for dummy in dataframe[string]:\n",
    "        \n",
    "        percent_series = dataframe[string]\n",
    "            \n",
    "        val += 1\n",
    "        percentage = 100*(percent_series[val]/total)\n",
    "        words = \"percentage for \"\n",
    "        print(words + \"rating \" + str(val) + \": \" + str(round(percentage,2)))\n",
    "        num += 1\n",
    "percent(col_9bar,\"Q9_1\",0)"
   ]
  },
  {
   "cell_type": "code",
   "execution_count": 39,
   "metadata": {},
   "outputs": [
    {
     "data": {
      "image/png": "[encoded data removed]",
      "text/plain": [
       "<Figure size 432x288 with 1 Axes>"
      ]
     },
     "metadata": {},
     "output_type": "display_data"
    }
   ],
   "source": [
    "col_9bar\n",
    "ax = col_9bar[\"Q9_1\"].plot(kind=\"bar\") #bar graph of responses to Question: To what extent did your FACULTY TEAM achieve the following: - Brought different perspectives in a complementary fashion that enhanced my learning experience.\n",
    "plt.title(\"Faculty questions | To what extent did your FACULTY TEAM achieve the following: - Brought different perspectives in a complementary fashion that enhanced my learning experience\")\n",
    "plt.ylabel(\"Amount of Responses\")\n",
    "plt.xlabel(\"Rating\")\n",
    "plt.savefig(\"./Plots_Folder/Faculty_Rating_Bar_Plots/Faculty_Question_different_perspectives.png\")\n"
   ]
  },
  {
   "cell_type": "code",
   "execution_count": 40,
   "metadata": {},
   "outputs": [],
   "source": [
    "#Working on end of faculty"
   ]
  },
  {
   "cell_type": "code",
   "execution_count": 41,
   "metadata": {},
   "outputs": [],
   "source": [
    "#Field trainer 3"
   ]
  },
  {
   "cell_type": "code",
   "execution_count": 42,
   "metadata": {},
   "outputs": [],
   "source": [
    "col_13 = faculty_df[\"Q13_2\"]\n",
    "col_13 = col_13.value_counts() #14_2 to 24_4 ignore\n",
    "#col_13 = pd.DataFrame(col_13)\n"
   ]
  },
  {
   "cell_type": "code",
   "execution_count": 43,
   "metadata": {
    "scrolled": true
   },
   "outputs": [],
   "source": [
    "col_13=col_13.drop(\"[Field-Trainer03] - Made training content relevant\")\n",
    "string='{\"ImportId\":\"QID111_2\"}'\n",
    "col_13=col_13.drop(string)"
   ]
  },
  {
   "cell_type": "code",
   "execution_count": 44,
   "metadata": {},
   "outputs": [
    {
     "data": {
      "text/plain": [
       "Index(['5', '4', '3', '2'], dtype='object')"
      ]
     },
     "execution_count": 44,
     "metadata": {},
     "output_type": "execute_result"
    }
   ],
   "source": [
    "col_13 = col_13.rename(index={\"Very great extent\\n5\\n\": '5',\"Great\\nextent\\n4\\n\":\"4\",\"Some\\nextent\\n3\\n\":\"3\",\"Little\\nextent\\n2\\n\":\"2\"})\n",
    "col_13.index\n",
    "#string='{\"ImportId\":\"QID111_2\"}'\n",
    "#col_13=col_13.drop(string)\n"
   ]
  },
  {
   "cell_type": "code",
   "execution_count": 45,
   "metadata": {},
   "outputs": [
    {
     "data": {
      "image/png": "[encoded data removed]",
      "text/plain": [
       "<Figure size 432x288 with 1 Axes>"
      ]
     },
     "metadata": {},
     "output_type": "display_data"
    }
   ],
   "source": [
    "col_13bar=pd.DataFrame(col_13)\n",
    "ax = col_13bar[\"Q13_2\"].plot(kind=\"bar\") #responses for Filed Trainer 3 - made training content relevant\n",
    "plt.title(\"Field Trainer 3 | Responses to: Made training content relevant?\")\n",
    "plt.ylabel(\"Amount of Responses\")\n",
    "plt.xlabel(\"Rating\")\n",
    "plt.savefig(\"./Plots_Folder/Faculty_Rating_Bar_Plots/FieldTrainer_3_ResponsestoMadetrainingcontentrelevant.png\")\n",
    "plt.show()\n"
   ]
  },
  {
   "cell_type": "code",
   "execution_count": 46,
   "metadata": {},
   "outputs": [
    {
     "data": {
      "text/plain": [
       "Index(['5', '4', '3', '2'], dtype='object')"
      ]
     },
     "execution_count": 46,
     "metadata": {},
     "output_type": "execute_result"
    }
   ],
   "source": [
    "col_13bar.index"
   ]
  },
  {
   "cell_type": "code",
   "execution_count": 47,
   "metadata": {},
   "outputs": [
    {
     "name": "stdout",
     "output_type": "stream",
     "text": [
      "percentage for rating 0: 78.02\n",
      "percentage for rating 1: 20.43\n",
      "percentage for rating 2: 1.36\n",
      "percentage for rating 3: 0.19\n"
     ]
    }
   ],
   "source": [
    "percent(col_13bar,\"Q13_2\",-1)"
   ]
  },
  {
   "cell_type": "code",
   "execution_count": 48,
   "metadata": {},
   "outputs": [
    {
     "data": {
      "text/plain": [
       "4.762645914396887"
      ]
     },
     "execution_count": 48,
     "metadata": {},
     "output_type": "execute_result"
    }
   ],
   "source": [
    "col_13\n",
    "mean_col_13 = ((5*802)+(4*210)+(3*14)+(2*2))/(802+210+14+2)\n",
    "mean_col_13"
   ]
  },
  {
   "cell_type": "code",
   "execution_count": 49,
   "metadata": {},
   "outputs": [],
   "source": [
    "col_13_3 = faculty_df[\"Q13_3\"]\n",
    "col_13_3 = col_13_3.value_counts() #14_2 to 24_4 ignore\n",
    "col_13_3.index\n",
    "string1 = '{\"ImportId\":\"QID111_3\"}'\n",
    "string2 = '[Field-Trainer03] - Was an effective facilitator of learning'\n",
    "col_13_3 = col_13_3.drop([string1,string2])\n",
    "col_13_3 = col_13_3.rename(index={\"Very great extent\\n5\\n\":5,\"Great\\nextent\\n4\\n\":4,\"Some\\nextent\\n3\\n\":3,\"Little\\nextent\\n2\\n\":2})"
   ]
  },
  {
   "cell_type": "code",
   "execution_count": 50,
   "metadata": {},
   "outputs": [
    {
     "data": {
      "image/png": "[encoded data removed]",
      "text/plain": [
       "<Figure size 432x288 with 1 Axes>"
      ]
     },
     "metadata": {},
     "output_type": "display_data"
    }
   ],
   "source": [
    "col_13_3 = pd.DataFrame(col_13_3)\n",
    "col_13_3=pd.DataFrame(col_13_3)\n",
    "ax = col_13_3[\"Q13_3\"].plot(kind=\"bar\") #responses for Field Trainer 3 - Was an effective facilitator of learning?\n",
    "plt.title(\"Field Trainer 3 |  Was an effective facilitator of learning?\")\n",
    "plt.ylabel(\"Amount of Responses\")\n",
    "plt.xlabel(\"Rating\")\n",
    "plt.savefig(\"./Plots_Folder/Faculty_Rating_Bar_Plots/FieldTrainer3Was_an_effectivefacilitatoroflearning.png\")\n",
    "plt.show()"
   ]
  },
  {
   "cell_type": "code",
   "execution_count": 51,
   "metadata": {},
   "outputs": [
    {
     "name": "stdout",
     "output_type": "stream",
     "text": [
      "percentage for rating 2: 0.39\n",
      "percentage for rating 3: 1.75\n",
      "percentage for rating 4: 18.58\n",
      "percentage for rating 5: 79.28\n"
     ]
    }
   ],
   "source": [
    "percent(col_13_3,\"Q13_3\",1)"
   ]
  },
  {
   "cell_type": "code",
   "execution_count": 52,
   "metadata": {},
   "outputs": [
    {
     "data": {
      "text/plain": [
       "4.767509727626459"
      ]
     },
     "execution_count": 52,
     "metadata": {},
     "output_type": "execute_result"
    }
   ],
   "source": [
    "col_13_3\n",
    "mean_13_3 = ((5*815)+(4*191)+(3*18)+(2*4))/(815+191+18+4)\n",
    "mean_13_3"
   ]
  },
  {
   "cell_type": "code",
   "execution_count": 53,
   "metadata": {},
   "outputs": [],
   "source": [
    "col_13_4 = faculty_df[\"Q13_4\"]\n",
    "col_13_4 = col_13_4.value_counts() #14_2 to 24_4 ignore\n",
    "col_13_4.index\n",
    "string3 = '[Field-Trainer03] - Demonstrated business knowledge'\n",
    "string4 = '{\"ImportId\":\"QID111_4\"}'\n",
    "col_13_4 = col_13_4.drop([string3,string4])\n",
    "col_13_4 = col_13_4.rename(index={\"Very great extent\\n5\\n\":5,\"Great\\nextent\\n4\\n\":4,\"Some\\nextent\\n3\\n\":3,\"Little\\nextent\\n2\\n\":2,\"Not at\\nall\\n1\\n\":1})"
   ]
  },
  {
   "cell_type": "code",
   "execution_count": 54,
   "metadata": {},
   "outputs": [
    {
     "data": {
      "image/png": "[encoded data removed]",
      "text/plain": [
       "<Figure size 432x288 with 1 Axes>"
      ]
     },
     "metadata": {},
     "output_type": "display_data"
    }
   ],
   "source": [
    "col_13_4=pd.DataFrame(col_13_4)\n",
    "ax = col_13_4[\"Q13_4\"].plot(kind=\"bar\") #Demonstrated business knowledge?\n",
    "plt.title(\"Field Trainer 3 | Demonstrated business knowledge?\")\n",
    "plt.ylabel(\"Amount of Responses\")\n",
    "plt.xlabel(\"Rating\")\n",
    "plt.savefig(\"./Plots_Folder/Faculty_Rating_Bar_Plots/FieldTrainer3Demonstrated_business_knowledge.png\")"
   ]
  },
  {
   "cell_type": "code",
   "execution_count": 55,
   "metadata": {},
   "outputs": [
    {
     "name": "stdout",
     "output_type": "stream",
     "text": [
      "percentage for rating 1: 0.1\n",
      "percentage for rating 2: 0.39\n",
      "percentage for rating 3: 5.44\n",
      "percentage for rating 4: 23.71\n",
      "percentage for rating 5: 70.36\n"
     ]
    }
   ],
   "source": [
    "percent(col_13_4,\"Q13_4\",0)"
   ]
  },
  {
   "cell_type": "code",
   "execution_count": 56,
   "metadata": {},
   "outputs": [
    {
     "data": {
      "text/plain": [
       "4.6384839650145775"
      ]
     },
     "execution_count": 56,
     "metadata": {},
     "output_type": "execute_result"
    }
   ],
   "source": [
    "col_13_4\n",
    "mean_13_4 = ((724*5)+(244*4)+(56*3)+(4*2)+(1*1))/(724+244+56+4+1)\n",
    "mean_13_4"
   ]
  },
  {
   "cell_type": "code",
   "execution_count": 57,
   "metadata": {},
   "outputs": [],
   "source": [
    "#Work on Field Trainer 2"
   ]
  },
  {
   "cell_type": "code",
   "execution_count": 58,
   "metadata": {},
   "outputs": [],
   "source": [
    "col_124 = faculty_df[\"Q12_4\"]\n",
    "col_124 = col_124.value_counts()\n",
    "col_124.index\n",
    "string6='[Field-Trainer02] - Demonstrated business knowledge'\n",
    "string7='{\"ImportId\":\"QID101_4\"}'\n",
    "col_124 = col_124.drop([string6,string7])\n",
    "col_124 = col_124.rename(index={\"Very great extent\\n5\\n\":5,\"Great\\nextent\\n4\\n\":4,\"Some\\nextent\\n3\\n\":3,\"Little\\nextent\\n2\\n\":2,\"Not at\\nall\\n1\\n\":1})"
   ]
  },
  {
   "cell_type": "code",
   "execution_count": 59,
   "metadata": {},
   "outputs": [
    {
     "data": {
      "image/png": "[encoded data removed]",
      "text/plain": [
       "<Figure size 432x288 with 1 Axes>"
      ]
     },
     "metadata": {},
     "output_type": "display_data"
    }
   ],
   "source": [
    "col_124=pd.DataFrame(col_124)\n",
    "ax = col_124[\"Q12_4\"].plot(kind=\"bar\") # Demonstrated business knowledge\n",
    "plt.title(\"Field Trainer 2 | Demonstrated Business Knowledge\")\n",
    "plt.xlabel(\"Rating\")\n",
    "plt.ylabel(\"Amount of Responses\")\n",
    "plt.savefig(\"./Plots_Folder/Faculty_Rating_Bar_Plots/Field_Trainer_2_DemonstratedBusinessKnowledge.png\")"
   ]
  },
  {
   "cell_type": "code",
   "execution_count": 60,
   "metadata": {},
   "outputs": [
    {
     "name": "stdout",
     "output_type": "stream",
     "text": [
      "percentage for rating 1: 0.04\n",
      "percentage for rating 2: 0.51\n",
      "percentage for rating 3: 4.4\n",
      "percentage for rating 4: 21.76\n",
      "percentage for rating 5: 73.31\n"
     ]
    }
   ],
   "source": [
    "percent(col_124,\"Q12_4\",0)"
   ]
  },
  {
   "cell_type": "code",
   "execution_count": 61,
   "metadata": {},
   "outputs": [
    {
     "data": {
      "text/plain": [
       "4.677877036258539"
      ]
     },
     "execution_count": 61,
     "metadata": {},
     "output_type": "execute_result"
    }
   ],
   "source": [
    "col_124\n",
    "mean_124 = ((4185*5)+(1242*4)+(251*3)+(29*2)+(2*1))/(4185+1242+251+29+2)\n",
    "mean_124"
   ]
  },
  {
   "cell_type": "code",
   "execution_count": 62,
   "metadata": {},
   "outputs": [],
   "source": [
    "#go through columns Q11_2,Q11_3,Q11_4,Q12_2\n",
    "#1 1 1 2 2"
   ]
  },
  {
   "cell_type": "code",
   "execution_count": 63,
   "metadata": {},
   "outputs": [
    {
     "data": {
      "text/plain": [
       "Index(['Very great extent\\n5\\n', 'Great\\nextent\\n4\\n', 'Some\\nextent\\n3\\n',\n",
       "       'Little\\nextent\\n2\\n', 'Not at\\nall\\n1\\n', '{\"ImportId\":\"QID101_3\"}',\n",
       "       '[Field-Trainer02] - Was an effective facilitator of learning'],\n",
       "      dtype='object')"
      ]
     },
     "execution_count": 63,
     "metadata": {},
     "output_type": "execute_result"
    }
   ],
   "source": [
    "#Q12_3\n",
    "#[Field-Trainer02] - Was an effective facilitator of learning\n",
    "col_123 = faculty_df[\"Q12_3\"]\n",
    "col_123 = col_123.value_counts()\n",
    "col_123.index"
   ]
  },
  {
   "cell_type": "code",
   "execution_count": 64,
   "metadata": {},
   "outputs": [],
   "source": [
    "string8 = '[Field-Trainer02] - Was an effective facilitator of learning'\n",
    "string9 = '{\"ImportId\":\"QID101_3\"}'\n",
    "col_123 = col_123.drop([string8,string9])\n",
    "col_123 = col_123.rename(index={\"Very great extent\\n5\\n\":5,\"Great\\nextent\\n4\\n\":4,\"Some\\nextent\\n3\\n\":3,\"Little\\nextent\\n2\\n\":2,\"Not at\\nall\\n1\\n\":1})"
   ]
  },
  {
   "cell_type": "code",
   "execution_count": 65,
   "metadata": {},
   "outputs": [],
   "source": [
    "#col_123.rename(index={\"Very great extent\\n5\\n\":5,\"Great\\nextent\\n4\\n\":4,\"Some\\nextent\\n3\\n\":3,\"Little\\nextent\\n2\\n\":2,\"Not at\\nall\\n1\\n\":1})"
   ]
  },
  {
   "cell_type": "code",
   "execution_count": 66,
   "metadata": {},
   "outputs": [],
   "source": [
    "col_123=pd.DataFrame(col_123)"
   ]
  },
  {
   "cell_type": "code",
   "execution_count": 67,
   "metadata": {},
   "outputs": [
    {
     "data": {
      "image/png": "[encoded data removed]",
      "text/plain": [
       "<Figure size 432x288 with 1 Axes>"
      ]
     },
     "metadata": {},
     "output_type": "display_data"
    }
   ],
   "source": [
    "col_123[\"Q12_3\"].plot(kind=\"bar\")\n",
    "plt.title(\"Field Trainer 2 | Was an effective facilitator of learning\")\n",
    "plt.xlabel(\"Rating\")\n",
    "plt.ylabel(\"Amount of Responses\")\n",
    "plt.savefig(\"./Plots_Folder/Faculty_Rating_Bar_Plots/Field_Trainer_2_facilitator_learning.png\")"
   ]
  },
  {
   "cell_type": "code",
   "execution_count": 68,
   "metadata": {},
   "outputs": [
    {
     "name": "stdout",
     "output_type": "stream",
     "text": [
      "percentage for rating 1: 0.03\n",
      "percentage for rating 2: 0.3\n",
      "percentage for rating 3: 1.96\n",
      "percentage for rating 4: 15.93\n",
      "percentage for rating 5: 81.78\n"
     ]
    }
   ],
   "source": [
    "percent(col_123,\"Q12_3\",0)"
   ]
  },
  {
   "cell_type": "markdown",
   "metadata": {},
   "source": []
  },
  {
   "cell_type": "code",
   "execution_count": 69,
   "metadata": {},
   "outputs": [
    {
     "data": {
      "text/plain": [
       "4.791185729275971"
      ]
     },
     "execution_count": 69,
     "metadata": {},
     "output_type": "execute_result"
    }
   ],
   "source": [
    "col_123\n",
    "mean_123 = ((5*4676)+(4*911)+(3*112)+(2*17)+(2*1))/(4676+911+112+17+2)\n",
    "mean_123"
   ]
  },
  {
   "cell_type": "code",
   "execution_count": 70,
   "metadata": {},
   "outputs": [
    {
     "data": {
      "text/plain": [
       "Index(['Very great extent\\n5\\n', 'Great\\nextent\\n4\\n', 'Some\\nextent\\n3\\n',\n",
       "       'Little\\nextent\\n2\\n', '{\"ImportId\":\"QID101_2\"}',\n",
       "       '[Field-Trainer02] - Made training content relevant'],\n",
       "      dtype='object')"
      ]
     },
     "execution_count": 70,
     "metadata": {},
     "output_type": "execute_result"
    }
   ],
   "source": [
    "#Q12_2\n",
    "col_122 = faculty_df[\"Q12_2\"]\n",
    "col_122 = col_122.value_counts()\n",
    "col_122.index"
   ]
  },
  {
   "cell_type": "code",
   "execution_count": 71,
   "metadata": {},
   "outputs": [],
   "source": [
    "string10 = '[Field-Trainer02] - Made training content relevant'\n",
    "string11 = '{\"ImportId\":\"QID101_2\"}'\n"
   ]
  },
  {
   "cell_type": "code",
   "execution_count": 72,
   "metadata": {},
   "outputs": [],
   "source": [
    "col_122 = col_122.drop([string10,string11])\n",
    "col_122 = col_122.rename(index={\"Very great extent\\n5\\n\":5,\"Great\\nextent\\n4\\n\":4,\"Some\\nextent\\n3\\n\":3,\"Little\\nextent\\n2\\n\":2,\"Not at\\nall\\n1\\n\":1})\n"
   ]
  },
  {
   "cell_type": "code",
   "execution_count": 73,
   "metadata": {},
   "outputs": [
    {
     "data": {
      "image/png": "[encoded data removed]",
      "text/plain": [
       "<Figure size 432x288 with 1 Axes>"
      ]
     },
     "metadata": {},
     "output_type": "display_data"
    }
   ],
   "source": [
    "#Focus in Trainer 1 - Q11_2,Q11_3,Q11_4\n",
    "col_122=pd.DataFrame(col_122)\n",
    "col_122[\"Q12_2\"].plot(kind=\"bar\")\n",
    "plt.title(\"Field Trainer 2 | Made training content relevant\")\n",
    "plt.xlabel(\"Rating\")\n",
    "plt.ylabel(\"Amount of Responses\")\n",
    "plt.savefig(\"./Plots_Folder/Faculty_Rating_Bar_Plots/FieldTrainer2Made_training_content_relevant.png\")"
   ]
  },
  {
   "cell_type": "code",
   "execution_count": 74,
   "metadata": {},
   "outputs": [
    {
     "name": "stdout",
     "output_type": "stream",
     "text": [
      "percentage for rating 2: 0.05\n",
      "percentage for rating 3: 1.47\n",
      "percentage for rating 4: 18.08\n",
      "percentage for rating 5: 80.4\n"
     ]
    }
   ],
   "source": [
    "percent(col_122,\"Q12_2\",1)"
   ]
  },
  {
   "cell_type": "code",
   "execution_count": 75,
   "metadata": {},
   "outputs": [
    {
     "data": {
      "text/plain": [
       "4.788249694002448"
      ]
     },
     "execution_count": 75,
     "metadata": {},
     "output_type": "execute_result"
    }
   ],
   "source": [
    "col_122\n",
    "mean_122 = ((4598*5)+(1034*4)+(84*3)+(3*2))/(4598+1034+84+3)\n",
    "mean_122"
   ]
  },
  {
   "cell_type": "code",
   "execution_count": 76,
   "metadata": {},
   "outputs": [
    {
     "data": {
      "text/plain": [
       "Index(['Very great extent\\n5\\n', 'Great\\nextent\\n4\\n', 'Some\\nextent\\n3\\n',\n",
       "       'Little\\nextent\\n2\\n', 'Not at\\nall\\n1\\n',\n",
       "       '[Field-Trainer01] - Made training content relevant',\n",
       "       '{\"ImportId\":\"QID11_2\"}'],\n",
       "      dtype='object')"
      ]
     },
     "execution_count": 76,
     "metadata": {},
     "output_type": "execute_result"
    }
   ],
   "source": [
    "#Work on Field Trainer 1 information\n",
    "#Q11_2,Q11_3,Q11_4\n",
    "col_112 = faculty_df[\"Q11_2\"]\n",
    "col_112 = col_112.value_counts()\n",
    "col_112.index"
   ]
  },
  {
   "cell_type": "code",
   "execution_count": 77,
   "metadata": {},
   "outputs": [],
   "source": [
    "string12 = '{\"ImportId\":\"QID11_2\"}'\n",
    "string13 = '[Field-Trainer01] - Made training content relevant'\n",
    "col_112 = col_112.drop([string12,string13])"
   ]
  },
  {
   "cell_type": "code",
   "execution_count": 78,
   "metadata": {},
   "outputs": [],
   "source": [
    "col_112 = col_112.rename(index={\"Very great extent\\n5\\n\":5,\"Great\\nextent\\n4\\n\":4,\"Some\\nextent\\n3\\n\":3,\"Little\\nextent\\n2\\n\":2,\"Not at\\nall\\n1\\n\":1})"
   ]
  },
  {
   "cell_type": "code",
   "execution_count": 79,
   "metadata": {},
   "outputs": [
    {
     "data": {
      "text/plain": [
       "Text(0,0.5,'./Plots_Folder/Faculty_Rating_Bar_Plots/FT1_content_relevance.png')"
      ]
     },
     "execution_count": 79,
     "metadata": {},
     "output_type": "execute_result"
    },
    {
     "data": {
      "image/png": "[encoded data removed]",
      "text/plain": [
       "<Figure size 432x288 with 1 Axes>"
      ]
     },
     "metadata": {},
     "output_type": "display_data"
    }
   ],
   "source": [
    "col_112 = pd.DataFrame(col_112)\n",
    "col_112[\"Q11_2\"].plot(kind=\"bar\")\n",
    "plt.title(\"Field Trainer 1 | Made training content relevant\")\n",
    "plt.xlabel(\"Rating\")\n",
    "plt.ylabel(\"./Plots_Folder/Faculty_Rating_Bar_Plots/FT1_content_relevance.png\")"
   ]
  },
  {
   "cell_type": "code",
   "execution_count": 80,
   "metadata": {},
   "outputs": [
    {
     "name": "stdout",
     "output_type": "stream",
     "text": [
      "percentage for rating 1: 0.02\n",
      "percentage for rating 2: 0.19\n",
      "percentage for rating 3: 1.95\n",
      "percentage for rating 4: 20.88\n",
      "percentage for rating 5: 76.96\n"
     ]
    }
   ],
   "source": [
    "percent(col_112,\"Q11_2\",0)"
   ]
  },
  {
   "cell_type": "code",
   "execution_count": 81,
   "metadata": {},
   "outputs": [
    {
     "data": {
      "text/plain": [
       "4.788249694002448"
      ]
     },
     "execution_count": 81,
     "metadata": {},
     "output_type": "execute_result"
    }
   ],
   "source": [
    "col_122\n",
    "mean_122 = ((4598*5)+(1034*4)+(84*3)+(3*2))/(4598+1034+84+3)\n",
    "mean_122"
   ]
  },
  {
   "cell_type": "code",
   "execution_count": null,
   "metadata": {},
   "outputs": [],
   "source": []
  },
  {
   "cell_type": "code",
   "execution_count": 82,
   "metadata": {},
   "outputs": [
    {
     "data": {
      "text/plain": [
       "Index(['Very great extent\\n5\\n', 'Great\\nextent\\n4\\n', 'Some\\nextent\\n3\\n',\n",
       "       'Little\\nextent\\n2\\n', 'Not at\\nall\\n1\\n',\n",
       "       '[Field-Trainer01] - Was an effective facilitator of learning',\n",
       "       '{\"ImportId\":\"QID11_3\"}'],\n",
       "      dtype='object')"
      ]
     },
     "execution_count": 82,
     "metadata": {},
     "output_type": "execute_result"
    }
   ],
   "source": [
    "col_113 = faculty_df[\"Q11_3\"]\n",
    "col_113 = col_113.value_counts()\n",
    "col_113.index"
   ]
  },
  {
   "cell_type": "code",
   "execution_count": 83,
   "metadata": {},
   "outputs": [],
   "source": [
    "string14 = '[Field-Trainer01] - Was an effective facilitator of learning'\n",
    "string15 = '{\"ImportId\":\"QID11_3\"}'\n",
    "\n",
    "col_113 = col_113.drop([string14,string15])"
   ]
  },
  {
   "cell_type": "code",
   "execution_count": 84,
   "metadata": {},
   "outputs": [],
   "source": [
    "col_113 = col_113.rename(index={\"Very great extent\\n5\\n\":5,\"Great\\nextent\\n4\\n\":4,\"Some\\nextent\\n3\\n\":3,\"Little\\nextent\\n2\\n\":2,\"Not at\\nall\\n1\\n\":1})"
   ]
  },
  {
   "cell_type": "code",
   "execution_count": 85,
   "metadata": {},
   "outputs": [
    {
     "data": {
      "text/plain": [
       "Text(0,0.5,'./Plots_Folder/Faculty_Rating_Bar_Plots/FT1effective_facilitator.png')"
      ]
     },
     "execution_count": 85,
     "metadata": {},
     "output_type": "execute_result"
    },
    {
     "data": {
      "image/png": "[encoded data removed]",
      "text/plain": [
       "<Figure size 432x288 with 1 Axes>"
      ]
     },
     "metadata": {},
     "output_type": "display_data"
    }
   ],
   "source": [
    "col_113 = pd.DataFrame(col_113)\n",
    "col_113[\"Q11_3\"].plot(kind=\"bar\")\n",
    "plt.title(\"Field Trainer 1 | Was an effective facilitator of learning\")\n",
    "plt.xlabel(\"Rating\")\n",
    "plt.ylabel(\"./Plots_Folder/Faculty_Rating_Bar_Plots/FT1effective_facilitator.png\")"
   ]
  },
  {
   "cell_type": "code",
   "execution_count": 86,
   "metadata": {},
   "outputs": [
    {
     "name": "stdout",
     "output_type": "stream",
     "text": [
      "percentage for rating 1: 0.05\n",
      "percentage for rating 2: 0.3\n",
      "percentage for rating 3: 2.11\n",
      "percentage for rating 4: 17.27\n",
      "percentage for rating 5: 80.28\n"
     ]
    }
   ],
   "source": [
    "percent(col_113,\"Q11_3\",0)"
   ]
  },
  {
   "cell_type": "code",
   "execution_count": 87,
   "metadata": {},
   "outputs": [
    {
     "data": {
      "text/plain": [
       "4.774238468233246"
      ]
     },
     "execution_count": 87,
     "metadata": {},
     "output_type": "execute_result"
    }
   ],
   "source": [
    "col_113\n",
    "mean_113 = ((4612*5)+(992*4)+(121*3)+(17*2)+(3*1))/(4612+992+121+17+3)\n",
    "mean_113"
   ]
  },
  {
   "cell_type": "code",
   "execution_count": null,
   "metadata": {},
   "outputs": [],
   "source": []
  },
  {
   "cell_type": "code",
   "execution_count": 88,
   "metadata": {},
   "outputs": [
    {
     "data": {
      "text/plain": [
       "Index(['Very great extent\\n5\\n', 'Great\\nextent\\n4\\n', 'Some\\nextent\\n3\\n',\n",
       "       'Little\\nextent\\n2\\n', 'Not at\\nall\\n1\\n', '{\"ImportId\":\"QID11_4\"}',\n",
       "       '[Field-Trainer01] - Demonstrated business knowledge'],\n",
       "      dtype='object')"
      ]
     },
     "execution_count": 88,
     "metadata": {},
     "output_type": "execute_result"
    }
   ],
   "source": [
    "col_114 = faculty_df[\"Q11_4\"]\n",
    "col_114 = col_114.value_counts()\n",
    "col_114.index"
   ]
  },
  {
   "cell_type": "code",
   "execution_count": 89,
   "metadata": {},
   "outputs": [],
   "source": [
    "string16= '{\"ImportId\":\"QID11_4\"}'\n",
    "string17= '[Field-Trainer01] - Demonstrated business knowledge'\n",
    "col_114 = col_114.drop([string16,string17])"
   ]
  },
  {
   "cell_type": "code",
   "execution_count": 90,
   "metadata": {},
   "outputs": [],
   "source": [
    "col_114 = col_114.rename(index={\"Very great extent\\n5\\n\":5,\"Great\\nextent\\n4\\n\":4,\"Some\\nextent\\n3\\n\":3,\"Little\\nextent\\n2\\n\":2,\"Not at\\nall\\n1\\n\":1})"
   ]
  },
  {
   "cell_type": "code",
   "execution_count": 91,
   "metadata": {},
   "outputs": [
    {
     "data": {
      "text/plain": [
       "Text(0,0.5,'./Plots_Folder/Faculty_Rating_Bar_Plots/FieldTrainer1_demo_business.png')"
      ]
     },
     "execution_count": 91,
     "metadata": {},
     "output_type": "execute_result"
    },
    {
     "data": {
      "image/png": "[encoded data removed]",
      "text/plain": [
       "<Figure size 432x288 with 1 Axes>"
      ]
     },
     "metadata": {},
     "output_type": "display_data"
    }
   ],
   "source": [
    "col_114 = pd.DataFrame(col_114)\n",
    "col_114[\"Q11_4\"].plot(kind=\"bar\")\n",
    "plt.title(\"Field Trainer 1 | Demonstrated business knowledge\")\n",
    "plt.xlabel(\"Rating\")\n",
    "plt.ylabel(\"./Plots_Folder/Faculty_Rating_Bar_Plots/FieldTrainer1_demo_business.png\")"
   ]
  },
  {
   "cell_type": "code",
   "execution_count": 92,
   "metadata": {},
   "outputs": [
    {
     "name": "stdout",
     "output_type": "stream",
     "text": [
      "percentage for rating 1: 0.09\n",
      "percentage for rating 2: 0.56\n",
      "percentage for rating 3: 5.49\n",
      "percentage for rating 4: 23.81\n",
      "percentage for rating 5: 70.05\n"
     ]
    }
   ],
   "source": [
    "percent(col_114,\"Q11_4\",0)"
   ]
  },
  {
   "cell_type": "code",
   "execution_count": 93,
   "metadata": {},
   "outputs": [
    {
     "data": {
      "text/plain": [
       "4.631799163179917"
      ]
     },
     "execution_count": 93,
     "metadata": {},
     "output_type": "execute_result"
    }
   ],
   "source": [
    "col_114\n",
    "mean_114 = ((4018*5)+(1366*4)+(315*3)+(32*2)+(5*1))/(4018+1366+315+32+5)\n",
    "mean_114"
   ]
  },
  {
   "cell_type": "code",
   "execution_count": 94,
   "metadata": {},
   "outputs": [],
   "source": [
    "#LOI Revised data"
   ]
  },
  {
   "cell_type": "code",
   "execution_count": 95,
   "metadata": {},
   "outputs": [],
   "source": [
    "#Work until column Q18_4 (Field trainer 4 demonstrated business knowledge)\n",
    "#start at Q13_1\n",
    "df2 = pd.read_csv(\"LOI EOP REVISED DATA.csv\")"
   ]
  },
  {
   "cell_type": "code",
   "execution_count": 96,
   "metadata": {},
   "outputs": [],
   "source": [
    "col_names = [\"Q13_1\",\"Q13_2\",\"Q15_2\",\"Q15_3\",\"Q15_4\",\"Q16_2\",\"Q16_3\",\"Q16_4\",\"Q17_2\",\"Q17_3\",\"Q17_4\",\"Q18_2\",\"Q18_3\",\"Q18_4\"]"
   ]
  },
  {
   "cell_type": "code",
   "execution_count": 97,
   "metadata": {},
   "outputs": [],
   "source": [
    "trainer_df = df2[col_names]\n",
    "q13 = trainer_df[\"Q13_1\"].value_counts()\n",
    "q13.index\n",
    "string01 = '{\"ImportId\":\"QID92_1\"}'\n",
    "string02 = 'Program Faculty Ratings\\n\\n\\n\\nAll the Division facilitators (APD, CGD and IGD) are listed. Please rate only your Division facilitator.\\n\\n\\n\\n\\n\\nTo what extent did your FACULTY TEAM achieve the following: - Brought different perspectives in a complementary fashion that enhanced my learning experience.'\n",
    "q13 = q13.drop([string01,string02])"
   ]
  },
  {
   "cell_type": "code",
   "execution_count": 98,
   "metadata": {},
   "outputs": [],
   "source": [
    "q13 = q13.rename(index = {\"Very great extent\\n5\":5,\"Great\\nextent \\n4\":4,\"Some\\nextent\\n3\":3,\"Little\\nextent\\n2\":2})"
   ]
  },
  {
   "cell_type": "code",
   "execution_count": 99,
   "metadata": {},
   "outputs": [
    {
     "data": {
      "image/png": "[encoded data removed]",
      "text/plain": [
       "<Figure size 432x288 with 1 Axes>"
      ]
     },
     "metadata": {},
     "output_type": "display_data"
    }
   ],
   "source": [
    "q13=pd.DataFrame(q13)\n",
    "q13[\"Q13_1\"].plot(kind=\"bar\")\n",
    "plt.title(\"Faculty | Brought different persepectives that enhanced learning\")\n",
    "plt.xlabel(\"Rating\")\n",
    "plt.ylabel(\"Amount of Responses\")\n",
    "plt.savefig(\"./Plots_Folder/Faculty_Rating_Bar_Plots/LOI_data_Faculty_perspectives_enhanced_learning.png\")"
   ]
  },
  {
   "cell_type": "code",
   "execution_count": 100,
   "metadata": {},
   "outputs": [
    {
     "name": "stdout",
     "output_type": "stream",
     "text": [
      "percentage for rating 2: 0.39\n",
      "percentage for rating 3: 3.01\n",
      "percentage for rating 4: 29.43\n",
      "percentage for rating 5: 67.17\n"
     ]
    }
   ],
   "source": [
    "percent(q13,\"Q13_1\",1)"
   ]
  },
  {
   "cell_type": "code",
   "execution_count": 101,
   "metadata": {},
   "outputs": [
    {
     "data": {
      "text/plain": [
       "4.633779264214047"
      ]
     },
     "execution_count": 101,
     "metadata": {},
     "output_type": "execute_result"
    }
   ],
   "source": [
    "q13 = (1205*5+528*4+54*3+7*2)/(1205+528+54+7)\n",
    "q13"
   ]
  },
  {
   "cell_type": "code",
   "execution_count": null,
   "metadata": {},
   "outputs": [],
   "source": []
  },
  {
   "cell_type": "code",
   "execution_count": 102,
   "metadata": {},
   "outputs": [],
   "source": [
    "#\"Q13_2\"\n",
    "q132 = trainer_df[\"Q13_2\"].value_counts()\n",
    "q132.index\n",
    "string20 = '{\"ImportId\":\"QID92_2\"}'\n",
    "string21 = 'Program Faculty Ratings\\n\\n\\n\\nAll the Division facilitators (APD, CGD and IGD) are listed. Please rate only your Division facilitator.\\n\\n\\n\\n\\n\\nTo what extent did your FACULTY TEAM achieve the following: - Collaborated in their approach to provide a meaningful learning experience for me.'\n",
    "    "
   ]
  },
  {
   "cell_type": "code",
   "execution_count": 103,
   "metadata": {},
   "outputs": [],
   "source": [
    "q132 = q132.drop([string20,string21])"
   ]
  },
  {
   "cell_type": "code",
   "execution_count": 104,
   "metadata": {},
   "outputs": [],
   "source": [
    "q132 = q132.rename(index = {\"Very great extent\\n5\":5,\"Great\\nextent \\n4\":4,\"Some\\nextent\\n3\":3,\"Little\\nextent\\n2\":2,\"Not at all\\n1 \":1})"
   ]
  },
  {
   "cell_type": "code",
   "execution_count": 105,
   "metadata": {},
   "outputs": [
    {
     "data": {
      "image/png": "[encoded data removed]",
      "text/plain": [
       "<Figure size 432x288 with 1 Axes>"
      ]
     },
     "metadata": {},
     "output_type": "display_data"
    }
   ],
   "source": [
    "q132 = pd.DataFrame(q132)\n",
    "q132[\"Q13_2\"].plot(kind = \"bar\")\n",
    "plt.title(\"Program Faculty | Collaborated to create meaningful learning experience\")\n",
    "plt.xlabel(\"Rating\")\n",
    "plt.ylabel(\"Amount of Responses\")\n",
    "plt.savefig(\"./Plots_Folder/Faculty_Rating_Bar_Plots/LOI_data_Faculty_provide_meaningful_experience.png\")"
   ]
  },
  {
   "cell_type": "code",
   "execution_count": 106,
   "metadata": {},
   "outputs": [
    {
     "name": "stdout",
     "output_type": "stream",
     "text": [
      "percentage for rating 1: 0.11\n",
      "percentage for rating 2: 0.34\n",
      "percentage for rating 3: 3.3\n",
      "percentage for rating 4: 24.99\n",
      "percentage for rating 5: 71.27\n"
     ]
    }
   ],
   "source": [
    "percent(q132,\"Q13_2\",0)"
   ]
  },
  {
   "cell_type": "code",
   "execution_count": 107,
   "metadata": {},
   "outputs": [
    {
     "data": {
      "text/html": [
       "<div>\n",
       "<style scoped>\n",
       "    .dataframe tbody tr th:only-of-type {\n",
       "        vertical-align: middle;\n",
       "    }\n",
       "\n",
       "    .dataframe tbody tr th {\n",
       "        vertical-align: top;\n",
       "    }\n",
       "\n",
       "    .dataframe thead th {\n",
       "        text-align: right;\n",
       "    }\n",
       "</style>\n",
       "<table border=\"1\" class=\"dataframe\">\n",
       "  <thead>\n",
       "    <tr style=\"text-align: right;\">\n",
       "      <th></th>\n",
       "      <th>Q13_2</th>\n",
       "    </tr>\n",
       "  </thead>\n",
       "  <tbody>\n",
       "    <tr>\n",
       "      <th>5</th>\n",
       "      <td>1275</td>\n",
       "    </tr>\n",
       "    <tr>\n",
       "      <th>4</th>\n",
       "      <td>447</td>\n",
       "    </tr>\n",
       "    <tr>\n",
       "      <th>3</th>\n",
       "      <td>59</td>\n",
       "    </tr>\n",
       "    <tr>\n",
       "      <th>2</th>\n",
       "      <td>6</td>\n",
       "    </tr>\n",
       "    <tr>\n",
       "      <th>1</th>\n",
       "      <td>2</td>\n",
       "    </tr>\n",
       "  </tbody>\n",
       "</table>\n",
       "</div>"
      ],
      "text/plain": [
       "   Q13_2\n",
       "5   1275\n",
       "4    447\n",
       "3     59\n",
       "2      6\n",
       "1      2"
      ]
     },
     "execution_count": 107,
     "metadata": {},
     "output_type": "execute_result"
    }
   ],
   "source": [
    "q132\n",
    "q132_mean = (1275*5+447*4+59*3+6*2+2*1)/(1275+447+59+6+2)\n",
    "q132"
   ]
  },
  {
   "cell_type": "code",
   "execution_count": 108,
   "metadata": {},
   "outputs": [],
   "source": [
    "#\"Q13_2\"\n",
    "q152 = trainer_df[\"Q15_2\"].value_counts()\n",
    "q152.index\n",
    "string001 = '{\"ImportId\":\"QID11_2\"}'\n",
    "string002= '[Field-Trainer01] - Made training content relevant'\n",
    "q152=q152.drop([string001,string002])"
   ]
  },
  {
   "cell_type": "code",
   "execution_count": 109,
   "metadata": {},
   "outputs": [],
   "source": [
    "q152 = q152.rename(index= {\"Very great extent\\n5\\n\":5,\"Great\\nextent\\n4\\n\":4,\"Some\\nextent\\n3\\n\":3,\"Little\\nextent\\n2\\n\":2,\"Not at\\nall\\n1\\n\":1})"
   ]
  },
  {
   "cell_type": "code",
   "execution_count": 110,
   "metadata": {},
   "outputs": [
    {
     "data": {
      "image/png": "[encoded data removed]",
      "text/plain": [
       "<Figure size 432x288 with 1 Axes>"
      ]
     },
     "metadata": {},
     "output_type": "display_data"
    }
   ],
   "source": [
    "q152=pd.DataFrame(q152)\n",
    "q152[\"Q15_2\"].plot(kind=\"Bar\")\n",
    "plt.title(\"LOI Dataset | Did Field Trainer 1 make training content relevant?\")\n",
    "plt.xlabel(\"Rating\")\n",
    "plt.ylabel(\"Amount of Responses\")\n",
    "plt.savefig(\"./Plots_Folder/Faculty_Rating_Bar_Plots/LOI_FT1_training_content_relevance.png\")"
   ]
  },
  {
   "cell_type": "code",
   "execution_count": 111,
   "metadata": {},
   "outputs": [
    {
     "name": "stdout",
     "output_type": "stream",
     "text": [
      "percentage for rating 1: 0.21\n",
      "percentage for rating 2: 0.32\n",
      "percentage for rating 3: 4.91\n",
      "percentage for rating 4: 25.64\n",
      "percentage for rating 5: 68.91\n"
     ]
    }
   ],
   "source": [
    "percent(q152,\"Q15_2\",0)"
   ]
  },
  {
   "cell_type": "code",
   "execution_count": 112,
   "metadata": {},
   "outputs": [],
   "source": [
    "#MDP\n",
    "q153 = trainer_df[\"Q15_3\"]\n",
    "q153 = q153.value_counts()\n",
    "q153.index\n",
    "stringA = '[Field-Trainer01] - Was an effective facilitator of learning'\n",
    "stringB = '{\"ImportId\":\"QID11_3\"}'\n",
    "q153 = q153.drop([stringA,stringB])\n",
    "q153 = q153.rename(index = {\"Very great extent\\n5\\n\":5,\"Great\\nextent\\n4\\n\":4,\"Some\\nextent\\n3\\n\":3,\"Little\\nextent\\n2\\n\":2})\n",
    "q153 = pd.DataFrame(q153)"
   ]
  },
  {
   "cell_type": "code",
   "execution_count": 113,
   "metadata": {},
   "outputs": [
    {
     "data": {
      "image/png": "[encoded data removed]",
      "text/plain": [
       "<Figure size 432x288 with 1 Axes>"
      ]
     },
     "metadata": {},
     "output_type": "display_data"
    }
   ],
   "source": [
    "q153[\"Q15_3\"].plot(kind=\"Bar\")\n",
    "plt.title(\"LOI Data Trainer 1 - was an effective facilitator of learning\")\n",
    "plt.xlabel(\"Rating\")\n",
    "plt.ylabel(\"Amount of Responses\")\n",
    "plt.savefig(\"./Plots_Folder/Faculty_Rating_Bar_Plots/LOI_FT1_effective_facilitator.png\")"
   ]
  },
  {
   "cell_type": "code",
   "execution_count": 114,
   "metadata": {},
   "outputs": [
    {
     "name": "stdout",
     "output_type": "stream",
     "text": [
      "percentage for rating 2: 0.97\n",
      "percentage for rating 3: 4.52\n",
      "percentage for rating 4: 22.26\n",
      "percentage for rating 5: 72.26\n"
     ]
    }
   ],
   "source": [
    "percent(q153,\"Q15_3\",1)"
   ]
  },
  {
   "cell_type": "code",
   "execution_count": 115,
   "metadata": {},
   "outputs": [],
   "source": [
    "q154 = trainer_df[\"Q15_4\"]\n",
    "q154 = q154.value_counts()\n",
    "q154.index\n",
    "stringC = '[Field-Trainer01] - Demonstrated business knowledge'\n",
    "stringD = '{\"ImportId\":\"QID11_4\"}'\n",
    "q154 = q154.drop([stringC,stringD])\n",
    "q154 = q154.rename(index = {\"Very great extent\\n5\\n\":5,\"Great\\nextent\\n4\\n\":4,\"Some\\nextent\\n3\\n\":3,\"Little\\nextent\\n2\\n\":2,\"Not at\\nall\\n1\\n\":1})\n",
    "q154 = pd.DataFrame(q154)"
   ]
  },
  {
   "cell_type": "code",
   "execution_count": 116,
   "metadata": {},
   "outputs": [
    {
     "data": {
      "image/png": "[encoded data removed]",
      "text/plain": [
       "<Figure size 432x288 with 1 Axes>"
      ]
     },
     "metadata": {},
     "output_type": "display_data"
    }
   ],
   "source": [
    "q154[\"Q15_4\"].plot(kind=\"Bar\")\n",
    "plt.title(\"LOI Data Trainer 1 - demonstrated business knowledge\")\n",
    "plt.xlabel(\"Rating\")\n",
    "plt.ylabel(\"Amount of Responses\")\n",
    "plt.savefig(\"./Plots_Folder/Faculty_Rating_Bar_Plots/LOI_FT1_business_knowledge.png\")"
   ]
  },
  {
   "cell_type": "code",
   "execution_count": 117,
   "metadata": {},
   "outputs": [
    {
     "name": "stdout",
     "output_type": "stream",
     "text": [
      "percentage for rating 1: 0.22\n",
      "percentage for rating 2: 1.51\n",
      "percentage for rating 3: 8.61\n",
      "percentage for rating 4: 28.09\n",
      "percentage for rating 5: 61.57\n"
     ]
    }
   ],
   "source": [
    "percent(q154,\"Q15_4\",0)"
   ]
  },
  {
   "cell_type": "code",
   "execution_count": 118,
   "metadata": {},
   "outputs": [],
   "source": [
    "q162 = trainer_df[\"Q16_2\"]\n",
    "q162 = q162.value_counts()\n",
    "q162.index\n",
    "stringE = '[Field-Trainer02] - Made training content relevant'\n",
    "stringF =  '{\"ImportId\":\"QID123_2\"}'\n",
    "q162 = q162.drop([stringE,stringF])\n",
    "q162 = q162.rename(index = {\"Very great extent\\n5\\n\":5,\"Great\\nextent\\n4\\n\":4,\"Some\\nextent\\n3\\n\":3,\"Little\\nextent\\n2\\n\":2,\"Not at\\nall\\n1\\n\":1})"
   ]
  },
  {
   "cell_type": "code",
   "execution_count": 119,
   "metadata": {},
   "outputs": [
    {
     "data": {
      "image/png": "[encoded data removed]",
      "text/plain": [
       "<Figure size 432x288 with 1 Axes>"
      ]
     },
     "metadata": {},
     "output_type": "display_data"
    }
   ],
   "source": [
    "q162 = pd.DataFrame(q162)\n",
    "q162[\"Q16_2\"].plot(kind=\"Bar\")\n",
    "plt.title(\"LOI Data | Field Trainer 2 - made training content relevant\")\n",
    "plt.xlabel(\"Rating\")\n",
    "plt.ylabel(\"Amount of Responses\")\n",
    "plt.savefig(\"./Plots_Folder/Faculty_Rating_Bar_Plots/LOI_FT2_relevance_training_content.png\")"
   ]
  },
  {
   "cell_type": "code",
   "execution_count": 120,
   "metadata": {},
   "outputs": [
    {
     "name": "stdout",
     "output_type": "stream",
     "text": [
      "percentage for rating 1: 0.12\n",
      "percentage for rating 2: 0.36\n",
      "percentage for rating 3: 4.19\n",
      "percentage for rating 4: 25.03\n",
      "percentage for rating 5: 70.3\n"
     ]
    }
   ],
   "source": [
    "percent(q162,\"Q16_2\",0)"
   ]
  },
  {
   "cell_type": "code",
   "execution_count": 121,
   "metadata": {},
   "outputs": [],
   "source": [
    "q163=trainer_df[\"Q16_3\"]\n",
    "q163 = q163.value_counts()\n",
    "q163.index\n",
    "stringF = '{\"ImportId\":\"QID123_3\"}'\n",
    "stringG = '[Field-Trainer02] - Was an effective facilitator of learning'\n",
    "q163 = q163.drop([stringF,stringG])\n",
    "q163 = q163.rename(index = {\"Very great extent\\n5\\n\":5,\"Great\\nextent\\n4\\n\":4,\"Some\\nextent\\n3\\n\":3,\"Little\\nextent\\n2\\n\":2,\"Not at\\nall\\n1\\n\":1})\n",
    "q163 = pd.DataFrame(q163)"
   ]
  },
  {
   "cell_type": "code",
   "execution_count": 122,
   "metadata": {},
   "outputs": [
    {
     "data": {
      "image/png": "[encoded data removed]",
      "text/plain": [
       "<Figure size 432x288 with 1 Axes>"
      ]
     },
     "metadata": {},
     "output_type": "display_data"
    }
   ],
   "source": [
    "q163[\"Q16_3\"].plot(kind=\"Bar\")\n",
    "plt.title(\"LOI Data | FT 2 - Was an effective facilitator of learning\")\n",
    "plt.xlabel(\"Rating\")\n",
    "plt.ylabel(\"Amount of Responses\")\n",
    "plt.savefig(\"./Plots_Folder/Faculty_Rating_Bar_Plots/LOI_FT2_effective_facilitator.png\")"
   ]
  },
  {
   "cell_type": "code",
   "execution_count": 123,
   "metadata": {},
   "outputs": [
    {
     "name": "stdout",
     "output_type": "stream",
     "text": [
      "percentage for rating 1: 0.12\n",
      "percentage for rating 2: 0.24\n",
      "percentage for rating 3: 4.44\n",
      "percentage for rating 4: 20.5\n",
      "percentage for rating 5: 74.7\n"
     ]
    }
   ],
   "source": [
    "percent(q163,\"Q16_3\",0)"
   ]
  },
  {
   "cell_type": "code",
   "execution_count": 124,
   "metadata": {},
   "outputs": [],
   "source": [
    "q164 = trainer_df[\"Q16_4\"]\n",
    "q164 = q164.value_counts()\n",
    "q164.index\n",
    "stringa = '{\"ImportId\":\"QID123_4\"}'\n",
    "stringb = '[Field-Trainer02] - Demonstrated business knowledge'\n",
    "q164 = q164.drop([stringa,stringb])\n",
    "q164 = q164.rename(index = {\"Very great extent\\n5\\n\":5,\"Great\\nextent\\n4\\n\":4,\"Some\\nextent\\n3\\n\":3,\"Little\\nextent\\n2\\n\":2,\"Not at\\nall\\n1\\n\":1})\n",
    "q164=pd.DataFrame(q164)"
   ]
  },
  {
   "cell_type": "code",
   "execution_count": 125,
   "metadata": {},
   "outputs": [
    {
     "data": {
      "image/png": "[encoded data removed]",
      "text/plain": [
       "<Figure size 432x288 with 1 Axes>"
      ]
     },
     "metadata": {},
     "output_type": "display_data"
    }
   ],
   "source": [
    "q164[\"Q16_4\"].plot(kind=\"Bar\")\n",
    "plt.title(\"LOI Data | FT 2 - Demonstrated business knowledge\")\n",
    "plt.xlabel(\"Rating\")\n",
    "plt.ylabel(\"Amount of Responses\")\n",
    "plt.savefig(\"./Plots_Folder/Faculty_Rating_Bar_Plots/LOI_FT2_business_knowledge.png\")"
   ]
  },
  {
   "cell_type": "code",
   "execution_count": 126,
   "metadata": {},
   "outputs": [
    {
     "name": "stdout",
     "output_type": "stream",
     "text": [
      "percentage for rating 1: 0.36\n",
      "percentage for rating 2: 0.48\n",
      "percentage for rating 3: 8.16\n",
      "percentage for rating 4: 28.09\n",
      "percentage for rating 5: 62.91\n"
     ]
    }
   ],
   "source": [
    "percent(q164,\"Q16_4\",0)"
   ]
  },
  {
   "cell_type": "code",
   "execution_count": 127,
   "metadata": {},
   "outputs": [],
   "source": [
    "q172 = trainer_df[\"Q17_2\"]\n",
    "q172 = q172.value_counts()\n",
    "q172.index\n",
    "stringc = '{\"ImportId\":\"QID124_2\"}'\n",
    "stringd = '[Field-Trainer03] - Made training content relevant'\n",
    "q172 = q172.drop([stringc,stringd])"
   ]
  },
  {
   "cell_type": "code",
   "execution_count": 128,
   "metadata": {},
   "outputs": [
    {
     "data": {
      "text/plain": [
       "Very great extent\\n5\\n    503\n",
       "Great\\nextent\\n4\\n        183\n",
       "Some\\nextent\\n3\\n          33\n",
       "Little\\nextent\\n2\\n         5\n",
       "Not at\\nall\\n1\\n            3\n",
       "Name: Q17_2, dtype: int64"
      ]
     },
     "execution_count": 128,
     "metadata": {},
     "output_type": "execute_result"
    }
   ],
   "source": [
    "q172"
   ]
  },
  {
   "cell_type": "code",
   "execution_count": null,
   "metadata": {},
   "outputs": [],
   "source": []
  },
  {
   "cell_type": "code",
   "execution_count": null,
   "metadata": {},
   "outputs": [],
   "source": []
  },
  {
   "cell_type": "code",
   "execution_count": null,
   "metadata": {},
   "outputs": [],
   "source": []
  },
  {
   "cell_type": "code",
   "execution_count": null,
   "metadata": {},
   "outputs": [],
   "source": []
  },
  {
   "cell_type": "code",
   "execution_count": null,
   "metadata": {},
   "outputs": [],
   "source": []
  },
  {
   "cell_type": "code",
   "execution_count": 129,
   "metadata": {},
   "outputs": [
    {
     "data": {
      "text/html": [
       "<div>\n",
       "<style scoped>\n",
       "    .dataframe tbody tr th:only-of-type {\n",
       "        vertical-align: middle;\n",
       "    }\n",
       "\n",
       "    .dataframe tbody tr th {\n",
       "        vertical-align: top;\n",
       "    }\n",
       "\n",
       "    .dataframe thead th {\n",
       "        text-align: right;\n",
       "    }\n",
       "</style>\n",
       "<table border=\"1\" class=\"dataframe\">\n",
       "  <thead>\n",
       "    <tr style=\"text-align: right;\">\n",
       "      <th></th>\n",
       "      <th>Q2_1</th>\n",
       "    </tr>\n",
       "  </thead>\n",
       "  <tbody>\n",
       "    <tr>\n",
       "      <th>2</th>\n",
       "      <td>4</td>\n",
       "    </tr>\n",
       "    <tr>\n",
       "      <th>3</th>\n",
       "      <td>5</td>\n",
       "    </tr>\n",
       "    <tr>\n",
       "      <th>4</th>\n",
       "      <td>5</td>\n",
       "    </tr>\n",
       "    <tr>\n",
       "      <th>5</th>\n",
       "      <td>5</td>\n",
       "    </tr>\n",
       "    <tr>\n",
       "      <th>6</th>\n",
       "      <td>5</td>\n",
       "    </tr>\n",
       "  </tbody>\n",
       "</table>\n",
       "</div>"
      ],
      "text/plain": [
       "  Q2_1\n",
       "2    4\n",
       "3    5\n",
       "4    5\n",
       "5    5\n",
       "6    5"
      ]
     },
     "execution_count": 129,
     "metadata": {},
     "output_type": "execute_result"
    }
   ],
   "source": [
    "over_sat\n",
    "over_sat = pd.DataFrame(data=over_sat)\n",
    "\n",
    "over_sat = over_sat.drop(over_sat.index[0])\n",
    "over_sat = over_sat.drop(over_sat.index[0])\n",
    "over_sat.head()"
   ]
  },
  {
   "cell_type": "code",
   "execution_count": 130,
   "metadata": {},
   "outputs": [],
   "source": [
    "over_sat.head()\n",
    "dats = np.arange(2,5772)"
   ]
  },
  {
   "cell_type": "code",
   "execution_count": null,
   "metadata": {},
   "outputs": [],
   "source": []
  },
  {
   "cell_type": "code",
   "execution_count": 131,
   "metadata": {},
   "outputs": [
    {
     "data": {
      "text/html": [
       "<div>\n",
       "<style scoped>\n",
       "    .dataframe tbody tr th:only-of-type {\n",
       "        vertical-align: middle;\n",
       "    }\n",
       "\n",
       "    .dataframe tbody tr th {\n",
       "        vertical-align: top;\n",
       "    }\n",
       "\n",
       "    .dataframe thead th {\n",
       "        text-align: right;\n",
       "    }\n",
       "</style>\n",
       "<table border=\"1\" class=\"dataframe\">\n",
       "  <thead>\n",
       "    <tr style=\"text-align: right;\">\n",
       "      <th></th>\n",
       "      <th>Q2_1</th>\n",
       "      <th>Nums</th>\n",
       "    </tr>\n",
       "  </thead>\n",
       "  <tbody>\n",
       "    <tr>\n",
       "      <th>2</th>\n",
       "      <td>4</td>\n",
       "      <td>2</td>\n",
       "    </tr>\n",
       "    <tr>\n",
       "      <th>3</th>\n",
       "      <td>5</td>\n",
       "      <td>3</td>\n",
       "    </tr>\n",
       "    <tr>\n",
       "      <th>4</th>\n",
       "      <td>5</td>\n",
       "      <td>4</td>\n",
       "    </tr>\n",
       "    <tr>\n",
       "      <th>5</th>\n",
       "      <td>5</td>\n",
       "      <td>5</td>\n",
       "    </tr>\n",
       "    <tr>\n",
       "      <th>6</th>\n",
       "      <td>5</td>\n",
       "      <td>6</td>\n",
       "    </tr>\n",
       "  </tbody>\n",
       "</table>\n",
       "</div>"
      ],
      "text/plain": [
       "  Q2_1  Nums\n",
       "2    4     2\n",
       "3    5     3\n",
       "4    5     4\n",
       "5    5     5\n",
       "6    5     6"
      ]
     },
     "execution_count": 131,
     "metadata": {},
     "output_type": "execute_result"
    }
   ],
   "source": [
    "over_sat[\"Nums\"] = dats\n",
    "over_sat.head()"
   ]
  },
  {
   "cell_type": "code",
   "execution_count": 132,
   "metadata": {},
   "outputs": [],
   "source": [
    "over_sat[\"Q2_1\"] = over_sat[\"Q2_1\"].apply(pd.to_numeric)"
   ]
  },
  {
   "cell_type": "code",
   "execution_count": null,
   "metadata": {},
   "outputs": [],
   "source": []
  },
  {
   "cell_type": "code",
   "execution_count": 133,
   "metadata": {},
   "outputs": [
    {
     "data": {
      "text/html": [
       "<div>\n",
       "<style scoped>\n",
       "    .dataframe tbody tr th:only-of-type {\n",
       "        vertical-align: middle;\n",
       "    }\n",
       "\n",
       "    .dataframe tbody tr th {\n",
       "        vertical-align: top;\n",
       "    }\n",
       "\n",
       "    .dataframe thead th {\n",
       "        text-align: right;\n",
       "    }\n",
       "</style>\n",
       "<table border=\"1\" class=\"dataframe\">\n",
       "  <thead>\n",
       "    <tr style=\"text-align: right;\">\n",
       "      <th></th>\n",
       "      <th>Q2_1</th>\n",
       "    </tr>\n",
       "    <tr>\n",
       "      <th>Nums</th>\n",
       "      <th></th>\n",
       "    </tr>\n",
       "  </thead>\n",
       "  <tbody>\n",
       "    <tr>\n",
       "      <th>5</th>\n",
       "      <td>4239</td>\n",
       "    </tr>\n",
       "    <tr>\n",
       "      <th>4</th>\n",
       "      <td>1451</td>\n",
       "    </tr>\n",
       "    <tr>\n",
       "      <th>3</th>\n",
       "      <td>74</td>\n",
       "    </tr>\n",
       "    <tr>\n",
       "      <th>1</th>\n",
       "      <td>4</td>\n",
       "    </tr>\n",
       "    <tr>\n",
       "      <th>2</th>\n",
       "      <td>2</td>\n",
       "    </tr>\n",
       "  </tbody>\n",
       "</table>\n",
       "</div>"
      ],
      "text/plain": [
       "      Q2_1\n",
       "Nums      \n",
       "5     4239\n",
       "4     1451\n",
       "3       74\n",
       "1        4\n",
       "2        2"
      ]
     },
     "execution_count": 133,
     "metadata": {},
     "output_type": "execute_result"
    }
   ],
   "source": [
    "responses_df = over_sat[\"Q2_1\"].value_counts()\n",
    "#responses_df = pd.DataFrame()\n",
    "responses_df = pd.DataFrame(responses_df)\n",
    "responses_df.index.name = \"Nums\"\n",
    "responses_df"
   ]
  },
  {
   "cell_type": "code",
   "execution_count": 134,
   "metadata": {},
   "outputs": [
    {
     "data": {
      "image/png": "[encoded data removed]",
      "text/plain": [
       "<Figure size 432x288 with 1 Axes>"
      ]
     },
     "metadata": {},
     "output_type": "display_data"
    }
   ],
   "source": [
    "#over_sat.plot.bar(\"Nums\",\"Q2_1\")\n",
    "ax = responses_df[\"Q2_1\"].plot(kind=\"bar\")\n",
    "plt.title(\"Overall Satisfaction\")\n",
    "plt.xlabel(\"Rating\")\n",
    "plt.ylabel(\"Amount of Responses\")\n",
    "plt.savefig(\"./Plots_Folder/Faculty_Rating_Bar_Plots/LDP_Overall_Satisfaction.png\")\n",
    "plt.show()\n"
   ]
  },
  {
   "cell_type": "code",
   "execution_count": 135,
   "metadata": {},
   "outputs": [
    {
     "name": "stdout",
     "output_type": "stream",
     "text": [
      "percentage for rating 1: 0.07\n",
      "percentage for rating 2: 0.03\n",
      "percentage for rating 3: 1.28\n",
      "percentage for rating 4: 25.15\n",
      "percentage for rating 5: 73.47\n"
     ]
    }
   ],
   "source": [
    "percent(responses_df,\"Q2_1\",0)"
   ]
  },
  {
   "cell_type": "code",
   "execution_count": 136,
   "metadata": {},
   "outputs": [],
   "source": [
    "##Cleaning data set -  \"LDP EOP DATA.csv\""
   ]
  },
  {
   "cell_type": "code",
   "execution_count": 137,
   "metadata": {},
   "outputs": [],
   "source": [
    "df = pd.read_csv(\"LDP EOP DATA.csv\")"
   ]
  },
  {
   "cell_type": "code",
   "execution_count": 138,
   "metadata": {},
   "outputs": [],
   "source": [
    "df2 = pd.read_csv(\"LOI EOP REVISED DATA.csv\")"
   ]
  },
  {
   "cell_type": "code",
   "execution_count": 139,
   "metadata": {},
   "outputs": [
    {
     "data": {
      "text/html": [
       "<div>\n",
       "<style scoped>\n",
       "    .dataframe tbody tr th:only-of-type {\n",
       "        vertical-align: middle;\n",
       "    }\n",
       "\n",
       "    .dataframe tbody tr th {\n",
       "        vertical-align: top;\n",
       "    }\n",
       "\n",
       "    .dataframe thead th {\n",
       "        text-align: right;\n",
       "    }\n",
       "</style>\n",
       "<table border=\"1\" class=\"dataframe\">\n",
       "  <thead>\n",
       "    <tr style=\"text-align: right;\">\n",
       "      <th></th>\n",
       "      <th>StartDate</th>\n",
       "      <th>EndDate</th>\n",
       "      <th>Status</th>\n",
       "      <th>IPAddress</th>\n",
       "      <th>Progress</th>\n",
       "      <th>Duration (in seconds)</th>\n",
       "      <th>Finished</th>\n",
       "      <th>RecordedDate</th>\n",
       "      <th>ResponseId</th>\n",
       "      <th>ExternalReference</th>\n",
       "      <th>...</th>\n",
       "      <th>Trainer03RC</th>\n",
       "      <th>Trainer03FL</th>\n",
       "      <th>Trainer04BK</th>\n",
       "      <th>Trainer04RC</th>\n",
       "      <th>Trainer04FL</th>\n",
       "      <th>Trainer05BK</th>\n",
       "      <th>Trainer05RC</th>\n",
       "      <th>Trainer05FL</th>\n",
       "      <th>Program Code</th>\n",
       "      <th>Q15 - Topics</th>\n",
       "    </tr>\n",
       "  </thead>\n",
       "  <tbody>\n",
       "    <tr>\n",
       "      <th>2</th>\n",
       "      <td>1/30/15 11:21</td>\n",
       "      <td>1/30/15 11:27</td>\n",
       "      <td>IP Address</td>\n",
       "      <td>208.0.118.3</td>\n",
       "      <td>NaN</td>\n",
       "      <td>336</td>\n",
       "      <td>TRUE</td>\n",
       "      <td>6/19/17 19:54</td>\n",
       "      <td>R_30dvwf8u53maBHD</td>\n",
       "      <td>LDP01261501-Greensboro, NC, USA-Old Tyme Bean Co.</td>\n",
       "      <td>...</td>\n",
       "      <td>NaN</td>\n",
       "      <td>NaN</td>\n",
       "      <td>NaN</td>\n",
       "      <td>NaN</td>\n",
       "      <td>NaN</td>\n",
       "      <td>NaN</td>\n",
       "      <td>NaN</td>\n",
       "      <td>NaN</td>\n",
       "      <td>NaN</td>\n",
       "      <td>Unknown</td>\n",
       "    </tr>\n",
       "    <tr>\n",
       "      <th>3</th>\n",
       "      <td>1/30/15 11:21</td>\n",
       "      <td>1/30/15 11:27</td>\n",
       "      <td>IP Address</td>\n",
       "      <td>208.0.118.3</td>\n",
       "      <td>NaN</td>\n",
       "      <td>383</td>\n",
       "      <td>TRUE</td>\n",
       "      <td>6/19/17 19:54</td>\n",
       "      <td>R_2XnsYU4IUfTwIZ7</td>\n",
       "      <td>LDP01261501-Greensboro, NC, USA-US Senate</td>\n",
       "      <td>...</td>\n",
       "      <td>NaN</td>\n",
       "      <td>NaN</td>\n",
       "      <td>NaN</td>\n",
       "      <td>NaN</td>\n",
       "      <td>NaN</td>\n",
       "      <td>NaN</td>\n",
       "      <td>NaN</td>\n",
       "      <td>NaN</td>\n",
       "      <td>NaN</td>\n",
       "      <td>Unknown</td>\n",
       "    </tr>\n",
       "    <tr>\n",
       "      <th>4</th>\n",
       "      <td>1/30/15 11:21</td>\n",
       "      <td>1/30/15 11:27</td>\n",
       "      <td>IP Address</td>\n",
       "      <td>208.0.118.3</td>\n",
       "      <td>NaN</td>\n",
       "      <td>379</td>\n",
       "      <td>TRUE</td>\n",
       "      <td>6/19/17 19:54</td>\n",
       "      <td>R_1plIhVnhtEvVta3</td>\n",
       "      <td>LDP01261501-Greensboro, NC, USA-Siemens Energy...</td>\n",
       "      <td>...</td>\n",
       "      <td>NaN</td>\n",
       "      <td>NaN</td>\n",
       "      <td>NaN</td>\n",
       "      <td>NaN</td>\n",
       "      <td>NaN</td>\n",
       "      <td>NaN</td>\n",
       "      <td>NaN</td>\n",
       "      <td>NaN</td>\n",
       "      <td>NaN</td>\n",
       "      <td>NaN</td>\n",
       "    </tr>\n",
       "    <tr>\n",
       "      <th>5</th>\n",
       "      <td>1/30/15 11:21</td>\n",
       "      <td>1/30/15 11:28</td>\n",
       "      <td>IP Address</td>\n",
       "      <td>208.0.118.3</td>\n",
       "      <td>NaN</td>\n",
       "      <td>462</td>\n",
       "      <td>TRUE</td>\n",
       "      <td>6/19/17 19:54</td>\n",
       "      <td>R_3hxzKGqy7BHj5So</td>\n",
       "      <td>LDP01261501-Greensboro, NC, USA-Vail Mountain ...</td>\n",
       "      <td>...</td>\n",
       "      <td>NaN</td>\n",
       "      <td>NaN</td>\n",
       "      <td>NaN</td>\n",
       "      <td>NaN</td>\n",
       "      <td>NaN</td>\n",
       "      <td>NaN</td>\n",
       "      <td>NaN</td>\n",
       "      <td>NaN</td>\n",
       "      <td>NaN</td>\n",
       "      <td>Unknown</td>\n",
       "    </tr>\n",
       "    <tr>\n",
       "      <th>6</th>\n",
       "      <td>1/30/15 11:21</td>\n",
       "      <td>1/30/15 11:29</td>\n",
       "      <td>IP Address</td>\n",
       "      <td>208.0.118.3</td>\n",
       "      <td>NaN</td>\n",
       "      <td>499</td>\n",
       "      <td>TRUE</td>\n",
       "      <td>6/19/17 19:54</td>\n",
       "      <td>R_2BksDDpAJJGaBWy</td>\n",
       "      <td>LDP01261501-Greensboro, NC, USA-Mosaic</td>\n",
       "      <td>...</td>\n",
       "      <td>NaN</td>\n",
       "      <td>NaN</td>\n",
       "      <td>NaN</td>\n",
       "      <td>NaN</td>\n",
       "      <td>NaN</td>\n",
       "      <td>NaN</td>\n",
       "      <td>NaN</td>\n",
       "      <td>NaN</td>\n",
       "      <td>NaN</td>\n",
       "      <td>Unknown</td>\n",
       "    </tr>\n",
       "  </tbody>\n",
       "</table>\n",
       "<p>5 rows × 101 columns</p>\n",
       "</div>"
      ],
      "text/plain": [
       "       StartDate        EndDate      Status    IPAddress Progress  \\\n",
       "2  1/30/15 11:21  1/30/15 11:27  IP Address  208.0.118.3      NaN   \n",
       "3  1/30/15 11:21  1/30/15 11:27  IP Address  208.0.118.3      NaN   \n",
       "4  1/30/15 11:21  1/30/15 11:27  IP Address  208.0.118.3      NaN   \n",
       "5  1/30/15 11:21  1/30/15 11:28  IP Address  208.0.118.3      NaN   \n",
       "6  1/30/15 11:21  1/30/15 11:29  IP Address  208.0.118.3      NaN   \n",
       "\n",
       "  Duration (in seconds) Finished   RecordedDate         ResponseId  \\\n",
       "2                   336     TRUE  6/19/17 19:54  R_30dvwf8u53maBHD   \n",
       "3                   383     TRUE  6/19/17 19:54  R_2XnsYU4IUfTwIZ7   \n",
       "4                   379     TRUE  6/19/17 19:54  R_1plIhVnhtEvVta3   \n",
       "5                   462     TRUE  6/19/17 19:54  R_3hxzKGqy7BHj5So   \n",
       "6                   499     TRUE  6/19/17 19:54  R_2BksDDpAJJGaBWy   \n",
       "\n",
       "                                   ExternalReference     ...      Trainer03RC  \\\n",
       "2  LDP01261501-Greensboro, NC, USA-Old Tyme Bean Co.     ...              NaN   \n",
       "3          LDP01261501-Greensboro, NC, USA-US Senate     ...              NaN   \n",
       "4  LDP01261501-Greensboro, NC, USA-Siemens Energy...     ...              NaN   \n",
       "5  LDP01261501-Greensboro, NC, USA-Vail Mountain ...     ...              NaN   \n",
       "6             LDP01261501-Greensboro, NC, USA-Mosaic     ...              NaN   \n",
       "\n",
       "  Trainer03FL Trainer04BK Trainer04RC Trainer04FL Trainer05BK Trainer05RC  \\\n",
       "2         NaN         NaN         NaN         NaN         NaN         NaN   \n",
       "3         NaN         NaN         NaN         NaN         NaN         NaN   \n",
       "4         NaN         NaN         NaN         NaN         NaN         NaN   \n",
       "5         NaN         NaN         NaN         NaN         NaN         NaN   \n",
       "6         NaN         NaN         NaN         NaN         NaN         NaN   \n",
       "\n",
       "  Trainer05FL Program Code Q15 - Topics  \n",
       "2         NaN          NaN      Unknown  \n",
       "3         NaN          NaN      Unknown  \n",
       "4         NaN          NaN          NaN  \n",
       "5         NaN          NaN      Unknown  \n",
       "6         NaN          NaN      Unknown  \n",
       "\n",
       "[5 rows x 101 columns]"
      ]
     },
     "execution_count": 139,
     "metadata": {},
     "output_type": "execute_result"
    }
   ],
   "source": [
    "#in df clean columns Q9_1 to Q12_4\n",
    "df = df.drop(df.index[0])          #dropping the first two rows\n",
    "df = df.drop(df.index[0])\n",
    "df.head()\n"
   ]
  },
  {
   "cell_type": "code",
   "execution_count": 140,
   "metadata": {},
   "outputs": [],
   "source": [
    "#df[\"Q9_1\"].value_counts()\n",
    "#df[\"Q9_2\"].value_counts()"
   ]
  },
  {
   "cell_type": "code",
   "execution_count": 141,
   "metadata": {},
   "outputs": [],
   "source": [
    "\n",
    "##Strings of all the different cases \n",
    "\n",
    "string5 = \"Very great extent\\n5\"    \n",
    "string4 = \"Great\\nextent \\n4\"  \n",
    "string4_2 = 'Great extent\\n4\\n'\n",
    "string3 = \"Some\\nextent\\n3\"           \n",
    "string2 = \"Little\\nextent\\n2\"          \n",
    "string1 = \"Not at all\\n1\"    \n",
    "string1_2 = \"Not at all\\n1 \"\n",
    "string1_3 = 'Not at all\\n1\\n'\n",
    "string1_4 = 'Not at all 1'\n",
    "string1_5 = 'Not at all   1'"
   ]
  },
  {
   "cell_type": "code",
   "execution_count": 142,
   "metadata": {},
   "outputs": [],
   "source": [
    "df[\"Q11_2\"].value_counts()\n",
    "string5_1 = \"Very great extent\\n5\\n\"   \n",
    "string5_2 = 'Very great5'\n",
    "string5_3 = 'Very great  5'\n",
    "\n",
    "string4_1 = \"Great\\nextent\\n4\\n\"  \n",
    "string3_1 = \"Some\\nextent\\n3\\n\"          \n",
    "string2_1  = \"Little\\nextent\\n2\\n\"         \n",
    "string1_1 = \"Not at\\nall\\n1\\n\"            "
   ]
  },
  {
   "cell_type": "code",
   "execution_count": 143,
   "metadata": {},
   "outputs": [],
   "source": [
    "#Used indices to capture all cases\n",
    "\n",
    "#df[\"Q11_3\"].value_counts()\n",
    "#df[\"Q11_4\"].value_counts()\n",
    "#df[\"Q12_2\"].value_counts()\n",
    "#df[\"Q12_3\"].value_counts()\n",
    "#df[\"Q12_4\"].value_counts()"
   ]
  },
  {
   "cell_type": "code",
   "execution_count": 144,
   "metadata": {},
   "outputs": [],
   "source": [
    "# Q9_1\tQ9_2\tQ11_2\tQ11_3\tQ11_4\tQ12_2\tQ12_3\tQ12_4\n",
    "columns_2_clean = [\"Q9_1\",\"Q9_2\",\"Q11_2\",\"Q11_3\",\"Q11_4\",\"Q12_2\",\"Q12_3\",\"Q12_4\"]"
   ]
  },
  {
   "cell_type": "code",
   "execution_count": 145,
   "metadata": {},
   "outputs": [],
   "source": [
    "def clean_dat (col_name):  \n",
    "#meat of function\n",
    "    len(df[col_name])\n",
    "    num = 2\n",
    "    temp_series = df[col_name]\n",
    "    for dummy in df[col_name]:\n",
    "        if (df[col_name][num] == string5):# | \n",
    "            df[col_name][num] = 5.0\n",
    "        if df[col_name][num] == string5_1:\n",
    "            df[col_name][num] = 5.0\n",
    "        if df[col_name][num] == string5_2:\n",
    "            df[col_name][num] = 5.0\n",
    "        if df[col_name][num] == string5_3:\n",
    "            df[col_name][num] = 5.0\n",
    "        if (df[col_name][num] == string4):# | \n",
    "            df[col_name][num] = 4.0\n",
    "        if df[col_name][num] == string4_1:\n",
    "            df[col_name][num] = 4.0\n",
    "        if df[col_name][num] == string4_2:\n",
    "            df[col_name][num] = 4.0\n",
    "        if (df[col_name][num] == string3):# | \n",
    "            df[col_name][num] = 3.0\n",
    "        if df[col_name][num] == string3_1:\n",
    "            df[col_name][num] = 3.0\n",
    "        if (df[col_name][num] == string2):# | \n",
    "            df[col_name][num] = 2.0\n",
    "        if df[col_name][num] == string2_1:\n",
    "            df[col_name][num] = 2.0\n",
    "        if (df[col_name][num] == string1):# | \n",
    "            df[col_name][num] = 1.0\n",
    "        if df[col_name][num] == string1_1:\n",
    "            df[col_name][num] = 1.0\n",
    "        if df[col_name][num] == string1_2:\n",
    "            df[col_name][num] = 1.0\n",
    "        if df[col_name][num] == string1_3:\n",
    "            df[col_name][num] = 1.0\n",
    "        if df[col_name][num] == string1_4:\n",
    "            df[col_name][num] = 1.0\n",
    "        if df[col_name][num] == string1_5:\n",
    "            df[col_name][num] = 1.0\n",
    "        if df[col_name][num] == '1':\n",
    "            df[col_name][num] = 1.0\n",
    "        if df[col_name][num] == '2':\n",
    "            df[col_name][num] = 2.0\n",
    "        if df[col_name][num] == '3':\n",
    "            df[col_name][num] = 3.0\n",
    "        if df[col_name][num] == '4':\n",
    "            df[col_name][num] = 4.0\n",
    "        if df[col_name][num] == '5':\n",
    "            df[col_name][num] = 5.0\n",
    "        num += 1"
   ]
  },
  {
   "cell_type": "code",
   "execution_count": 146,
   "metadata": {},
   "outputs": [
    {
     "data": {
      "text/plain": [
       "'Great\\nextent \\n4'"
      ]
     },
     "execution_count": 146,
     "metadata": {},
     "output_type": "execute_result"
    }
   ],
   "source": [
    "df[\"Q9_1\"][2]"
   ]
  },
  {
   "cell_type": "code",
   "execution_count": 147,
   "metadata": {},
   "outputs": [],
   "source": [
    "#Cleaning column \"Q9_1\"\n",
    "clean_dat(\"Q9_1\")\n"
   ]
  },
  {
   "cell_type": "code",
   "execution_count": 148,
   "metadata": {},
   "outputs": [
    {
     "data": {
      "text/plain": [
       "5.0    4196\n",
       "4.0    1418\n",
       "3.0     122\n",
       "2.0       5\n",
       "1.0       2\n",
       "Name: Q9_1, dtype: int64"
      ]
     },
     "execution_count": 148,
     "metadata": {},
     "output_type": "execute_result"
    }
   ],
   "source": [
    "m = df[\"Q9_1\"].value_counts()\n",
    "m"
   ]
  },
  {
   "cell_type": "code",
   "execution_count": 149,
   "metadata": {},
   "outputs": [],
   "source": [
    "num1 = 0\n",
    "for dummy in columns_2_clean:\n",
    "    clean_dat(columns_2_clean[num1])\n",
    "    num1 += 1"
   ]
  },
  {
   "cell_type": "code",
   "execution_count": 150,
   "metadata": {},
   "outputs": [
    {
     "data": {
      "text/plain": [
       "5.0    4185\n",
       "4.0    1242\n",
       "3.0     251\n",
       "2.0      29\n",
       "1.0       2\n",
       "Name: Q12_4, dtype: int64"
      ]
     },
     "execution_count": 150,
     "metadata": {},
     "output_type": "execute_result"
    }
   ],
   "source": [
    "df[columns_2_clean[7]].value_counts()"
   ]
  },
  {
   "cell_type": "code",
   "execution_count": 151,
   "metadata": {},
   "outputs": [
    {
     "data": {
      "text/plain": [
       "4.495818815331011"
      ]
     },
     "execution_count": 151,
     "metadata": {},
     "output_type": "execute_result"
    }
   ],
   "source": [
    "clean_dat(\"Q6_2\")\n",
    "m = df[\"Q6_2\"].value_counts()\n",
    "df[\"Q6_2\"].mean()"
   ]
  },
  {
   "cell_type": "code",
   "execution_count": 152,
   "metadata": {},
   "outputs": [],
   "source": [
    "clean_dat(\"Q6_1\")\n",
    "clean_dat(\"Q5#2_9\")"
   ]
  },
  {
   "cell_type": "code",
   "execution_count": 153,
   "metadata": {},
   "outputs": [],
   "source": [
    "df[\"Q6_1\"].value_counts()\n",
    "m = df[\"Q5#2_9\"].value_counts()\n"
   ]
  },
  {
   "cell_type": "code",
   "execution_count": 154,
   "metadata": {},
   "outputs": [],
   "source": [
    "cols_2_clean = [\"Q5#1_1\",\"Q5#1_2\",\"Q5#1_3\",\"Q5#1_4\",\"Q5#1_5\",\"Q5#1_6\",\"Q5#1_7\",\"Q5#1_8\",\"Q5#1_9\",\"Q5#2_1\",\"Q5#2_2\",\"Q5#2_3\",\"Q5#2_4\",\"Q5#2_5\",\"Q5#2_6\",\"Q5#2_7\",\"Q5#2_8\"]\n",
    "len(cols_2_clean)\n",
    "#for loop to clean columns \"Q5#1_1\" to \"Q5#2_8\"\n",
    "num1 = 0\n",
    "for dummy in cols_2_clean:\n",
    "    clean_dat(cols_2_clean[num1])\n",
    "    num1 += 1\n"
   ]
  },
  {
   "cell_type": "code",
   "execution_count": null,
   "metadata": {},
   "outputs": [],
   "source": []
  },
  {
   "cell_type": "code",
   "execution_count": 155,
   "metadata": {},
   "outputs": [],
   "source": [
    "m = df[cols_2_clean[0]].value_counts()\n",
    "m.index\n",
    "clean = df[\"Q5#2_8\"].dropna(axis=0)"
   ]
  },
  {
   "cell_type": "code",
   "execution_count": 156,
   "metadata": {},
   "outputs": [
    {
     "data": {
      "text/plain": [
       "4.760066494274104"
      ]
     },
     "execution_count": 156,
     "metadata": {},
     "output_type": "execute_result"
    }
   ],
   "source": [
    "clean.mean()"
   ]
  },
  {
   "cell_type": "code",
   "execution_count": 157,
   "metadata": {},
   "outputs": [
    {
     "data": {
      "text/html": [
       "<div>\n",
       "<style scoped>\n",
       "    .dataframe tbody tr th:only-of-type {\n",
       "        vertical-align: middle;\n",
       "    }\n",
       "\n",
       "    .dataframe tbody tr th {\n",
       "        vertical-align: top;\n",
       "    }\n",
       "\n",
       "    .dataframe thead th {\n",
       "        text-align: right;\n",
       "    }\n",
       "</style>\n",
       "<table border=\"1\" class=\"dataframe\">\n",
       "  <thead>\n",
       "    <tr style=\"text-align: right;\">\n",
       "      <th></th>\n",
       "      <th>Q5#1_1</th>\n",
       "      <th>Q5#1_2</th>\n",
       "      <th>Q5#1_3</th>\n",
       "      <th>Q5#1_4</th>\n",
       "      <th>Q5#1_5</th>\n",
       "      <th>Q5#1_6</th>\n",
       "      <th>Q5#1_7</th>\n",
       "      <th>Q5#1_8</th>\n",
       "      <th>Q5#1_9</th>\n",
       "      <th>Q5#2_1</th>\n",
       "      <th>Q5#2_2</th>\n",
       "      <th>Q5#2_3</th>\n",
       "      <th>Q5#2_4</th>\n",
       "      <th>Q5#2_5</th>\n",
       "      <th>Q5#2_6</th>\n",
       "      <th>Q5#2_7</th>\n",
       "      <th>Q5#2_8</th>\n",
       "    </tr>\n",
       "  </thead>\n",
       "  <tbody>\n",
       "    <tr>\n",
       "      <th>2</th>\n",
       "      <td>4</td>\n",
       "      <td>5</td>\n",
       "      <td>4</td>\n",
       "      <td>4</td>\n",
       "      <td>4</td>\n",
       "      <td>3</td>\n",
       "      <td>4</td>\n",
       "      <td>3</td>\n",
       "      <td>5</td>\n",
       "      <td>4</td>\n",
       "      <td>5</td>\n",
       "      <td>5</td>\n",
       "      <td>5</td>\n",
       "      <td>4</td>\n",
       "      <td>3</td>\n",
       "      <td>4</td>\n",
       "      <td>3</td>\n",
       "    </tr>\n",
       "    <tr>\n",
       "      <th>3</th>\n",
       "      <td>4</td>\n",
       "      <td>4</td>\n",
       "      <td>5</td>\n",
       "      <td>5</td>\n",
       "      <td>4</td>\n",
       "      <td>4</td>\n",
       "      <td>5</td>\n",
       "      <td>5</td>\n",
       "      <td>5</td>\n",
       "      <td>4</td>\n",
       "      <td>4</td>\n",
       "      <td>5</td>\n",
       "      <td>5</td>\n",
       "      <td>4</td>\n",
       "      <td>4</td>\n",
       "      <td>5</td>\n",
       "      <td>5</td>\n",
       "    </tr>\n",
       "    <tr>\n",
       "      <th>4</th>\n",
       "      <td>4</td>\n",
       "      <td>4</td>\n",
       "      <td>5</td>\n",
       "      <td>4</td>\n",
       "      <td>4</td>\n",
       "      <td>5</td>\n",
       "      <td>4</td>\n",
       "      <td>5</td>\n",
       "      <td>5</td>\n",
       "      <td>5</td>\n",
       "      <td>5</td>\n",
       "      <td>5</td>\n",
       "      <td>5</td>\n",
       "      <td>5</td>\n",
       "      <td>5</td>\n",
       "      <td>5</td>\n",
       "      <td>5</td>\n",
       "    </tr>\n",
       "    <tr>\n",
       "      <th>5</th>\n",
       "      <td>NaN</td>\n",
       "      <td>NaN</td>\n",
       "      <td>NaN</td>\n",
       "      <td>NaN</td>\n",
       "      <td>NaN</td>\n",
       "      <td>NaN</td>\n",
       "      <td>NaN</td>\n",
       "      <td>NaN</td>\n",
       "      <td>NaN</td>\n",
       "      <td>NaN</td>\n",
       "      <td>NaN</td>\n",
       "      <td>NaN</td>\n",
       "      <td>NaN</td>\n",
       "      <td>NaN</td>\n",
       "      <td>NaN</td>\n",
       "      <td>NaN</td>\n",
       "      <td>NaN</td>\n",
       "    </tr>\n",
       "    <tr>\n",
       "      <th>6</th>\n",
       "      <td>5</td>\n",
       "      <td>5</td>\n",
       "      <td>5</td>\n",
       "      <td>5</td>\n",
       "      <td>5</td>\n",
       "      <td>5</td>\n",
       "      <td>5</td>\n",
       "      <td>5</td>\n",
       "      <td>5</td>\n",
       "      <td>5</td>\n",
       "      <td>5</td>\n",
       "      <td>5</td>\n",
       "      <td>5</td>\n",
       "      <td>5</td>\n",
       "      <td>5</td>\n",
       "      <td>5</td>\n",
       "      <td>5</td>\n",
       "    </tr>\n",
       "  </tbody>\n",
       "</table>\n",
       "</div>"
      ],
      "text/plain": [
       "  Q5#1_1 Q5#1_2 Q5#1_3 Q5#1_4 Q5#1_5 Q5#1_6 Q5#1_7 Q5#1_8 Q5#1_9 Q5#2_1  \\\n",
       "2      4      5      4      4      4      3      4      3      5      4   \n",
       "3      4      4      5      5      4      4      5      5      5      4   \n",
       "4      4      4      5      4      4      5      4      5      5      5   \n",
       "5    NaN    NaN    NaN    NaN    NaN    NaN    NaN    NaN    NaN    NaN   \n",
       "6      5      5      5      5      5      5      5      5      5      5   \n",
       "\n",
       "  Q5#2_2 Q5#2_3 Q5#2_4 Q5#2_5 Q5#2_6 Q5#2_7 Q5#2_8  \n",
       "2      5      5      5      4      3      4      3  \n",
       "3      4      5      5      4      4      5      5  \n",
       "4      5      5      5      5      5      5      5  \n",
       "5    NaN    NaN    NaN    NaN    NaN    NaN    NaN  \n",
       "6      5      5      5      5      5      5      5  "
      ]
     },
     "execution_count": 157,
     "metadata": {},
     "output_type": "execute_result"
    }
   ],
   "source": [
    "df[cols_2_clean].head()"
   ]
  },
  {
   "cell_type": "code",
   "execution_count": null,
   "metadata": {},
   "outputs": [],
   "source": []
  },
  {
   "cell_type": "code",
   "execution_count": null,
   "metadata": {},
   "outputs": [],
   "source": []
  },
  {
   "cell_type": "code",
   "execution_count": null,
   "metadata": {},
   "outputs": [],
   "source": []
  }
 ],
 "metadata": {
  "kernelspec": {
   "display_name": "Python 3",
   "language": "python",
   "name": "python3"
  },
  "language_info": {
   "codemirror_mode": {
    "name": "ipython",
    "version": 3
   },
   "file_extension": ".py",
   "mimetype": "text/x-python",
   "name": "python",
   "nbconvert_exporter": "python",
   "pygments_lexer": "ipython3",
   "version": "3.6.5"
  }
 },
 "nbformat": 4,
 "nbformat_minor": 2
}
