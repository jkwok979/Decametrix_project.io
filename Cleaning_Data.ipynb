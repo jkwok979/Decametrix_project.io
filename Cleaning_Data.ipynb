{
 "cells": [
  {
   "cell_type": "code",
   "execution_count": 1,
   "metadata": {},
   "outputs": [],
   "source": [
    "import tweepy\n",
    "import pandas as pd\n",
    "import matplotlib.pyplot as plt\n",
    "from matplotlib import pyplot as plt\n",
    "import scipy.stats as stats\n",
    "#LDP Data Analysis \n",
    "\n",
    "df = pd.read_csv(\"LDP EOP DATA.csv\")\n",
    "\n",
    "import numpy as np\n",
    "\n",
    "# Import and Initialize Sentiment Analyzer\n",
    "from vaderSentiment.vaderSentiment import SentimentIntensityAnalyzer\n",
    "analyzer = SentimentIntensityAnalyzer()\n",
    "\n",
    "from config import consumer_key, consumer_secret, access_token, access_token_secret\n",
    "\n",
    "# Setup Tweepy API Authentication\n",
    "auth = tweepy.OAuthHandler(consumer_key, consumer_secret)\n",
    "auth.set_access_token(access_token, access_token_secret)\n",
    "api = tweepy.API(auth, parser=tweepy.parsers.JSONParser())\n",
    "\n",
    "import spacy\n",
    "from spacy import displacy\n",
    "# Load the spaCy model\n",
    "nlp = spacy.load('en_core_web_sm') #sm does not use vectors\n",
    "                                   #but md does use vectors"
   ]
  },
  {
   "cell_type": "code",
   "execution_count": null,
   "metadata": {},
   "outputs": [],
   "source": []
  },
  {
   "cell_type": "code",
   "execution_count": 2,
   "metadata": {},
   "outputs": [],
   "source": [
    "## This notebook just focuses on cleaning the data\n"
   ]
  },
  {
   "cell_type": "code",
   "execution_count": 3,
   "metadata": {},
   "outputs": [],
   "source": [
    "#Cleaning LDP data set"
   ]
  },
  {
   "cell_type": "code",
   "execution_count": 4,
   "metadata": {},
   "outputs": [],
   "source": [
    "df = pd.read_csv(\"LDP EOP DATA.csv\")"
   ]
  },
  {
   "cell_type": "code",
   "execution_count": 5,
   "metadata": {},
   "outputs": [
    {
     "data": {
      "text/html": [
       "<div>\n",
       "<style scoped>\n",
       "    .dataframe tbody tr th:only-of-type {\n",
       "        vertical-align: middle;\n",
       "    }\n",
       "\n",
       "    .dataframe tbody tr th {\n",
       "        vertical-align: top;\n",
       "    }\n",
       "\n",
       "    .dataframe thead th {\n",
       "        text-align: right;\n",
       "    }\n",
       "</style>\n",
       "<table border=\"1\" class=\"dataframe\">\n",
       "  <thead>\n",
       "    <tr style=\"text-align: right;\">\n",
       "      <th></th>\n",
       "      <th>StartDate</th>\n",
       "      <th>EndDate</th>\n",
       "      <th>Status</th>\n",
       "      <th>IPAddress</th>\n",
       "      <th>Progress</th>\n",
       "      <th>Duration (in seconds)</th>\n",
       "      <th>Finished</th>\n",
       "      <th>RecordedDate</th>\n",
       "      <th>ResponseId</th>\n",
       "      <th>ExternalReference</th>\n",
       "      <th>...</th>\n",
       "      <th>Trainer03RC</th>\n",
       "      <th>Trainer03FL</th>\n",
       "      <th>Trainer04BK</th>\n",
       "      <th>Trainer04RC</th>\n",
       "      <th>Trainer04FL</th>\n",
       "      <th>Trainer05BK</th>\n",
       "      <th>Trainer05RC</th>\n",
       "      <th>Trainer05FL</th>\n",
       "      <th>Program Code</th>\n",
       "      <th>Q15 - Topics</th>\n",
       "    </tr>\n",
       "  </thead>\n",
       "  <tbody>\n",
       "    <tr>\n",
       "      <th>2</th>\n",
       "      <td>1/30/15 11:21</td>\n",
       "      <td>1/30/15 11:27</td>\n",
       "      <td>IP Address</td>\n",
       "      <td>208.0.118.3</td>\n",
       "      <td>NaN</td>\n",
       "      <td>336</td>\n",
       "      <td>TRUE</td>\n",
       "      <td>6/19/17 19:54</td>\n",
       "      <td>R_30dvwf8u53maBHD</td>\n",
       "      <td>LDP01261501-Greensboro, NC, USA-Old Tyme Bean Co.</td>\n",
       "      <td>...</td>\n",
       "      <td>NaN</td>\n",
       "      <td>NaN</td>\n",
       "      <td>NaN</td>\n",
       "      <td>NaN</td>\n",
       "      <td>NaN</td>\n",
       "      <td>NaN</td>\n",
       "      <td>NaN</td>\n",
       "      <td>NaN</td>\n",
       "      <td>NaN</td>\n",
       "      <td>Unknown</td>\n",
       "    </tr>\n",
       "    <tr>\n",
       "      <th>3</th>\n",
       "      <td>1/30/15 11:21</td>\n",
       "      <td>1/30/15 11:27</td>\n",
       "      <td>IP Address</td>\n",
       "      <td>208.0.118.3</td>\n",
       "      <td>NaN</td>\n",
       "      <td>383</td>\n",
       "      <td>TRUE</td>\n",
       "      <td>6/19/17 19:54</td>\n",
       "      <td>R_2XnsYU4IUfTwIZ7</td>\n",
       "      <td>LDP01261501-Greensboro, NC, USA-US Senate</td>\n",
       "      <td>...</td>\n",
       "      <td>NaN</td>\n",
       "      <td>NaN</td>\n",
       "      <td>NaN</td>\n",
       "      <td>NaN</td>\n",
       "      <td>NaN</td>\n",
       "      <td>NaN</td>\n",
       "      <td>NaN</td>\n",
       "      <td>NaN</td>\n",
       "      <td>NaN</td>\n",
       "      <td>Unknown</td>\n",
       "    </tr>\n",
       "    <tr>\n",
       "      <th>4</th>\n",
       "      <td>1/30/15 11:21</td>\n",
       "      <td>1/30/15 11:27</td>\n",
       "      <td>IP Address</td>\n",
       "      <td>208.0.118.3</td>\n",
       "      <td>NaN</td>\n",
       "      <td>379</td>\n",
       "      <td>TRUE</td>\n",
       "      <td>6/19/17 19:54</td>\n",
       "      <td>R_1plIhVnhtEvVta3</td>\n",
       "      <td>LDP01261501-Greensboro, NC, USA-Siemens Energy...</td>\n",
       "      <td>...</td>\n",
       "      <td>NaN</td>\n",
       "      <td>NaN</td>\n",
       "      <td>NaN</td>\n",
       "      <td>NaN</td>\n",
       "      <td>NaN</td>\n",
       "      <td>NaN</td>\n",
       "      <td>NaN</td>\n",
       "      <td>NaN</td>\n",
       "      <td>NaN</td>\n",
       "      <td>NaN</td>\n",
       "    </tr>\n",
       "  </tbody>\n",
       "</table>\n",
       "<p>3 rows × 101 columns</p>\n",
       "</div>"
      ],
      "text/plain": [
       "       StartDate        EndDate      Status    IPAddress Progress  \\\n",
       "2  1/30/15 11:21  1/30/15 11:27  IP Address  208.0.118.3      NaN   \n",
       "3  1/30/15 11:21  1/30/15 11:27  IP Address  208.0.118.3      NaN   \n",
       "4  1/30/15 11:21  1/30/15 11:27  IP Address  208.0.118.3      NaN   \n",
       "\n",
       "  Duration (in seconds) Finished   RecordedDate         ResponseId  \\\n",
       "2                   336     TRUE  6/19/17 19:54  R_30dvwf8u53maBHD   \n",
       "3                   383     TRUE  6/19/17 19:54  R_2XnsYU4IUfTwIZ7   \n",
       "4                   379     TRUE  6/19/17 19:54  R_1plIhVnhtEvVta3   \n",
       "\n",
       "                                   ExternalReference     ...      Trainer03RC  \\\n",
       "2  LDP01261501-Greensboro, NC, USA-Old Tyme Bean Co.     ...              NaN   \n",
       "3          LDP01261501-Greensboro, NC, USA-US Senate     ...              NaN   \n",
       "4  LDP01261501-Greensboro, NC, USA-Siemens Energy...     ...              NaN   \n",
       "\n",
       "  Trainer03FL Trainer04BK Trainer04RC Trainer04FL Trainer05BK Trainer05RC  \\\n",
       "2         NaN         NaN         NaN         NaN         NaN         NaN   \n",
       "3         NaN         NaN         NaN         NaN         NaN         NaN   \n",
       "4         NaN         NaN         NaN         NaN         NaN         NaN   \n",
       "\n",
       "  Trainer05FL Program Code Q15 - Topics  \n",
       "2         NaN          NaN      Unknown  \n",
       "3         NaN          NaN      Unknown  \n",
       "4         NaN          NaN          NaN  \n",
       "\n",
       "[3 rows x 101 columns]"
      ]
     },
     "execution_count": 5,
     "metadata": {},
     "output_type": "execute_result"
    }
   ],
   "source": [
    "#in df clean columns Q9_1 to Q12_4\n",
    "df = df.drop(df.index[0])          #dropping the first two rows\n",
    "df = df.drop(df.index[0])\n",
    "df.head(3)"
   ]
  },
  {
   "cell_type": "code",
   "execution_count": 6,
   "metadata": {},
   "outputs": [],
   "source": [
    "#Can use index to get the string names\n",
    "#df[\"Q9_1\"].value_counts()\n",
    "#df[\"Q9_2\"].value_counts()\n",
    "#df[\"Q11_2\"].value_counts()\n",
    "#df[\"Q11_3\"].value_counts()\n",
    "#df[\"Q11_4\"].value_counts()\n",
    "#df[\"Q12_2\"].value_counts()\n",
    "#df[\"Q12_3\"].value_counts()\n",
    "#df[\"Q12_4\"].value_counts()"
   ]
  },
  {
   "cell_type": "code",
   "execution_count": 23,
   "metadata": {},
   "outputs": [],
   "source": [
    "##Strings of all the different cases \n",
    "\n",
    "string5 = \"Very great extent\\n5\"\n",
    "string5_4 = 'Very great extent 5'\n",
    "string4 = \"Great\\nextent \\n4\"  \n",
    "string4_2 = 'Great extent\\n4\\n'\n",
    "string4_3 = 'Great extent\\n4'\n",
    "string3 = \"Some\\nextent\\n3\"   \n",
    "string2 = \"Little\\nextent\\n2\"          \n",
    "string1 = \"Not at all\\n1\"    \n",
    "string1_2 = \"Not at all\\n1 \"\n",
    "string1_3 = 'Not at all\\n1\\n'\n",
    "string1_4 = 'Not at all 1'\n",
    "string1_5 = 'Not at all   1'"
   ]
  },
  {
   "cell_type": "code",
   "execution_count": 24,
   "metadata": {},
   "outputs": [],
   "source": [
    "#df[\"Q11_2\"].value_counts()\n",
    "string5_1 = \"Very great extent\\n5\\n\"   \n",
    "string5_2 = 'Very great5'\n",
    "string5_3 = 'Very great  5'\n",
    "\n",
    "string4_1 = \"Great\\nextent\\n4\\n\"  \n",
    "string3_1 = \"Some\\nextent\\n3\\n\"  \n",
    "string3_2 = 'Some\\nextent\\n\\n3\\n'\n",
    "string3_3 = 'Some extent\\n3'\n",
    "string2_1  = \"Little\\nextent\\n2\\n\"\n",
    "string2_2 = 'Little extent\\n2'\n",
    "string2_3 = 'Little extent\\n2'\n",
    "string1_1 = \"Not at\\nall\\n1\\n\"      "
   ]
  },
  {
   "cell_type": "code",
   "execution_count": 25,
   "metadata": {},
   "outputs": [],
   "source": [
    "# Q9_1\tQ9_2\tQ11_2\tQ11_3\tQ11_4\tQ12_2\tQ12_3\tQ12_4\n",
    "columns_2_clean = [\"Q2_1\",\"Q9_1\",\"Q9_2\",\"Q11_2\",\"Q11_3\",\"Q11_4\",\"Q12_2\",\"Q12_3\",\"Q12_4\",\"Q13_2\",\"Q13_3\",\"Q13_4\"]"
   ]
  },
  {
   "cell_type": "code",
   "execution_count": 26,
   "metadata": {},
   "outputs": [],
   "source": [
    "#Function to clean each column of the data set\n",
    "\n",
    "def clean_dat (col_name):  \n",
    "#meat of function\n",
    "    #len(df[col_name])\n",
    "    num = 2\n",
    "    temp_series = df[col_name]\n",
    "    #dfmi.loc[:,('one','second')]\n",
    "    #df.loc[(col_name,num)]\n",
    "    for dummy in df[col_name]:\n",
    "        if (df[col_name][num] == string5):# | \n",
    "            df[col_name][num] = 5.0\n",
    "        elif df[col_name][num] == string5_1:\n",
    "            df[col_name][num] = 5.0\n",
    "        elif df[col_name][num] == string5_2:\n",
    "            df[col_name][num] = 5.0\n",
    "        elif df[col_name][num] == string5_3:\n",
    "            df[col_name][num] = 5.0\n",
    "        elif df[col_name][num] == string5_4:\n",
    "            df[col_name][num] = 5.0\n",
    "        elif (df[col_name][num] == string4):# | \n",
    "            df[col_name][num] = 4.0\n",
    "        elif df[col_name][num] == string4_1:\n",
    "            df[col_name][num] = 4.0\n",
    "        elif df[col_name][num] == string4_2:\n",
    "            df[col_name][num] = 4.0\n",
    "        elif df[col_name][num] == string4_3:\n",
    "            df[col_name][num] = 4.0\n",
    "        elif (df[col_name][num] == string3):# | \n",
    "            df[col_name][num] = 3.0\n",
    "        elif df[col_name][num] == string3_1:\n",
    "            df[col_name][num] = 3.0\n",
    "        elif df[col_name][num] == string3_2:\n",
    "            df[col_name][num] = 3.0\n",
    "        elif df[col_name][num] == string3_3:\n",
    "            df[col_name][num] = 3.0\n",
    "        elif (df[col_name][num] == string2):# | \n",
    "            df[col_name][num] = 2.0\n",
    "        elif df[col_name][num] == string2_1:\n",
    "            df[col_name][num] = 2.0\n",
    "        elif df[col_name][num] == string2_2:\n",
    "            df[col_name][num] = 2.0\n",
    "        elif df[col_name][num] == string2_3:\n",
    "            df[col_name][num] = 2.0\n",
    "        elif (df[col_name][num] == string1):# | \n",
    "            df[col_name][num] = 1.0\n",
    "        elif df[col_name][num] == string1_1:\n",
    "            df[col_name][num] = 1.0\n",
    "        elif df[col_name][num] == string1_2:\n",
    "            df[col_name][num] = 1.0\n",
    "        elif df[col_name][num] == string1_3:\n",
    "            df[col_name][num] = 1.0\n",
    "        elif df[col_name][num] == string1_4:\n",
    "            df[col_name][num] = 1.0\n",
    "        elif df[col_name][num] == string1_5:\n",
    "            df[col_name][num] = 1.0\n",
    "        elif df[col_name][num] == '1':\n",
    "            df[col_name][num] = 1.0\n",
    "        elif df[col_name][num] == '2':\n",
    "            df[col_name][num] = 2.0\n",
    "        elif df[col_name][num] == '3':\n",
    "            df[col_name][num] = 3.0\n",
    "        elif df[col_name][num] == '4':\n",
    "            df[col_name][num] = 4.0\n",
    "        elif df[col_name][num] == '5':\n",
    "            df[col_name][num] = 5.0\n",
    "        else:\n",
    "            var=0\n",
    "        num += 1"
   ]
  },
  {
   "cell_type": "code",
   "execution_count": 27,
   "metadata": {},
   "outputs": [],
   "source": [
    "#Cleaning one individual column\n",
    "#need to pass the column name\n",
    "\n",
    "clean_dat(\"Q9_1\")"
   ]
  },
  {
   "cell_type": "code",
   "execution_count": 28,
   "metadata": {},
   "outputs": [
    {
     "data": {
      "text/plain": [
       "4.706599338324917"
      ]
     },
     "execution_count": 28,
     "metadata": {},
     "output_type": "execute_result"
    }
   ],
   "source": [
    "df[\"Q9_1\"].mean()"
   ]
  },
  {
   "cell_type": "code",
   "execution_count": 29,
   "metadata": {},
   "outputs": [],
   "source": [
    "#now all the data are integer values\n",
    "#now to loop through and clean all columns from \"Q9_2\" to \"Q12_4\"\n",
    "num1 = 0\n",
    "for dummy in columns_2_clean:\n",
    "    clean_dat(columns_2_clean[num1])\n",
    "    num1 += 1"
   ]
  },
  {
   "cell_type": "code",
   "execution_count": 30,
   "metadata": {},
   "outputs": [
    {
     "data": {
      "text/plain": [
       "Float64Index([5.0, 4.0, 3.0, 1.0, 2.0], dtype='float64')"
      ]
     },
     "execution_count": 30,
     "metadata": {},
     "output_type": "execute_result"
    }
   ],
   "source": [
    "m = df[\"Q2_1\"].value_counts()\n",
    "m.index"
   ]
  },
  {
   "cell_type": "code",
   "execution_count": null,
   "metadata": {},
   "outputs": [],
   "source": []
  },
  {
   "cell_type": "code",
   "execution_count": 31,
   "metadata": {},
   "outputs": [
    {
     "name": "stdout",
     "output_type": "stream",
     "text": [
      "Q2_1 mean - 4.719064124783362\n",
      "Q9_1 mean - 4.706599338324917\n",
      "Q9_2 mean - 4.767984671659989\n",
      "Q11_2 mean - 4.745736164288201\n",
      "Q11_3 mean - 4.774238468233246\n",
      "Q11_4 mean - 4.631799163179917\n",
      "Q12_2 mean - 4.788249694002448\n",
      "Q12_3 mean - 4.791185729275971\n",
      "Q12_4 mean - 4.677877036258539\n",
      "Q13_2 mean - 4.762645914396887\n",
      "Q13_3 mean - 4.767509727626459\n",
      "Q13_4 mean - 4.6384839650145775\n"
     ]
    }
   ],
   "source": [
    "num1 = 0\n",
    "for dummy in columns_2_clean:\n",
    "    print(str(columns_2_clean[num1])+ \" mean - \" +str(df[columns_2_clean[num1]].mean()))\n",
    "    num1 += 1\n",
    "#Print out the mean values for the 8 columns in LDP Trainer Data Set"
   ]
  },
  {
   "cell_type": "code",
   "execution_count": 32,
   "metadata": {},
   "outputs": [
    {
     "name": "stdout",
     "output_type": "stream",
     "text": [
      "Q6_2 mean - 4.495818815331011\n",
      "Q6_1 mean - 4.612330198537095\n",
      "Q5#2_9 mean - 4.592258064516129\n"
     ]
    }
   ],
   "source": [
    "clean_dat(\"Q6_2\")\n",
    "m = df[\"Q6_2\"].value_counts()\n",
    "print(\"Q6_2 mean - \"+str(df[\"Q6_2\"].mean()))\n",
    "clean_dat(\"Q6_1\")\n",
    "print(\"Q6_1 mean - \"+str(df[\"Q6_1\"].mean()))\n",
    "clean_dat(\"Q5#2_9\")\n",
    "print(\"Q5#2_9 mean - \"+str(df[\"Q5#2_9\"].mean()))"
   ]
  },
  {
   "cell_type": "code",
   "execution_count": 33,
   "metadata": {},
   "outputs": [],
   "source": [
    "## Now focusing on columns Q5#1_1 to columns Q5#2_8"
   ]
  },
  {
   "cell_type": "code",
   "execution_count": 34,
   "metadata": {},
   "outputs": [],
   "source": [
    "cols_2_clean = [\"Q5#1_1\",\"Q5#1_2\",\"Q5#1_3\",\"Q5#1_4\",\"Q5#1_5\",\"Q5#1_6\",\"Q5#1_7\",\"Q5#1_8\",\"Q5#1_9\",\"Q5#2_1\",\"Q5#2_2\",\"Q5#2_3\",\"Q5#2_4\",\"Q5#2_5\",\"Q5#2_6\",\"Q5#2_7\",\"Q5#2_8\"]\n",
    "len(cols_2_clean)\n",
    "#for loop to clean columns \"Q5#1_1\" to \"Q5#2_8\"\n",
    "num1 = 0\n",
    "for dummy in cols_2_clean:\n",
    "    clean_dat(cols_2_clean[num1])\n",
    "    num1 += 1\n"
   ]
  },
  {
   "cell_type": "code",
   "execution_count": 35,
   "metadata": {},
   "outputs": [
    {
     "name": "stdout",
     "output_type": "stream",
     "text": [
      "Q5#1_1 mean - 4.184683882457702\n",
      "Q5#1_2 mean - 4.339928698752228\n",
      "Q5#1_3 mean - 4.585046066619419\n",
      "Q5#1_4 mean - 4.439297124600639\n",
      "Q5#1_5 mean - 4.427099982241165\n",
      "Q5#1_6 mean - 4.612441902037898\n",
      "Q5#1_7 mean - 4.116977777777778\n",
      "Q5#1_8 mean - 4.635525616025528\n",
      "Q5#1_9 mean - 4.548804251550044\n",
      "Q5#2_1 mean - 4.4381918819188195\n",
      "Q5#2_2 mean - 4.377539711858145\n",
      "Q5#2_3 mean - 4.612067369979641\n",
      "Q5#2_4 mean - 4.513194316294519\n",
      "Q5#2_5 mean - 4.557791728212703\n",
      "Q5#2_6 mean - 4.67967298402081\n",
      "Q5#2_7 mean - 4.4115150396752165\n",
      "Q5#2_8 mean - 4.760066494274104\n"
     ]
    }
   ],
   "source": [
    "num1 = 0\n",
    "for dummy in cols_2_clean:\n",
    "    clean = df[cols_2_clean[num1]].dropna(axis=0)\n",
    "    ans = clean.mean()\n",
    "    print(str(cols_2_clean[num1]) + \" mean - \" +str(ans))\n",
    "    num1 += 1\n",
    "#m = df[cols_2_clean[0]].value_counts()\n",
    "#m.index\n",
    "#len(cols_2_clean)"
   ]
  },
  {
   "cell_type": "code",
   "execution_count": 36,
   "metadata": {},
   "outputs": [],
   "source": [
    "#Preview the cleaned data set\n",
    "df[cols_2_clean].head()\n",
    "clean_LDP_dataset = df\n",
    "clean_LDP_dataset[cols_2_clean].head(3)\n",
    "clean_LDP_dataset.to_csv(\"clean_LDP_dataset.csv\")"
   ]
  },
  {
   "cell_type": "code",
   "execution_count": 37,
   "metadata": {},
   "outputs": [],
   "source": [
    "#possible to do chi square test on columns..."
   ]
  },
  {
   "cell_type": "code",
   "execution_count": 38,
   "metadata": {},
   "outputs": [
    {
     "data": {
      "text/plain": [
       "Float64Index([5.0, 4.0, 3.0, 2.0], dtype='float64')"
      ]
     },
     "execution_count": 38,
     "metadata": {},
     "output_type": "execute_result"
    }
   ],
   "source": [
    "clean_LDP_dataset[cols_2_clean].head()\n",
    "m =clean_LDP_dataset[\"Q13_3\"]\n",
    "m =m.dropna(axis=0)\n",
    "m=m.value_counts()\n",
    "m.index"
   ]
  },
  {
   "cell_type": "code",
   "execution_count": null,
   "metadata": {},
   "outputs": [],
   "source": []
  },
  {
   "cell_type": "code",
   "execution_count": null,
   "metadata": {},
   "outputs": [],
   "source": []
  },
  {
   "cell_type": "code",
   "execution_count": null,
   "metadata": {},
   "outputs": [],
   "source": []
  },
  {
   "cell_type": "code",
   "execution_count": null,
   "metadata": {},
   "outputs": [],
   "source": [
    "#Function to clean each column of the data set\n",
    "\n",
    "def clean_dat (col_name):  \n",
    "#meat of function\n",
    "    #len(df1[col_name])\n",
    "    num = 2\n",
    "    temp_series = df1[col_name]\n",
    "    #df1mi.loc[:,('one','second')]\n",
    "    #df1.loc[(col_name,num)]\n",
    "    for dummy in df1[col_name]:\n",
    "        if (df1[col_name][num] == string5):# | \n",
    "            df1[col_name][num] = 5.0\n",
    "        elif df1[col_name][num] == string5_1:\n",
    "            df1[col_name][num] = 5.0\n",
    "        elif df1[col_name][num] == string5_2:\n",
    "            df1[col_name][num] = 5.0\n",
    "        elif df1[col_name][num] == string5_3:\n",
    "            df1[col_name][num] = 5.0\n",
    "        elif (df1[col_name][num] == string4):# | \n",
    "            df1[col_name][num] = 4.0\n",
    "        elif df1[col_name][num] == string4_1:\n",
    "            df1[col_name][num] = 4.0\n",
    "        elif df1[col_name][num] == string4_2:\n",
    "            df1[col_name][num] = 4.0\n",
    "        elif df1[col_name][num] == string4_3:\n",
    "            df1[col_name][num] = 4.0\n",
    "        elif (df1[col_name][num] == string3):# | \n",
    "            df1[col_name][num] = 3.0\n",
    "        elif df1[col_name][num] == string3_1:\n",
    "            df1[col_name][num] = 3.0\n",
    "        elif df1[col_name][num] == string3_2:\n",
    "            df1[col_name][num] = 3.0\n",
    "        elif df1[col_name][num] == string3_3:\n",
    "            df1[col_name][num] = 3.0\n",
    "        elif (df1[col_name][num] == string2):# | \n",
    "            df1[col_name][num] = 2.0\n",
    "        elif df1[col_name][num] == string2_1:\n",
    "            df1[col_name][num] = 2.0\n",
    "        elif df1[col_name][num] == string2_2:\n",
    "            df1[col_name][num] = 2.0\n",
    "        elif df1[col_name][num] == string2_3:\n",
    "            df1[col_name][num] = 2.0\n",
    "        elif (df1[col_name][num] == string1):# | \n",
    "            df1[col_name][num] = 1.0\n",
    "        elif df1[col_name][num] == string1_1:\n",
    "            df1[col_name][num] = 1.0\n",
    "        elif df1[col_name][num] == string1_2:\n",
    "            df1[col_name][num] = 1.0\n",
    "        elif df1[col_name][num] == string1_3:\n",
    "            df1[col_name][num] = 1.0\n",
    "        elif df1[col_name][num] == string1_4:\n",
    "            df1[col_name][num] = 1.0\n",
    "        elif df1[col_name][num] == string1_5:\n",
    "            df1[col_name][num] = 1.0\n",
    "        elif df1[col_name][num] == '1':\n",
    "            df1[col_name][num] = 1.0\n",
    "        elif df1[col_name][num] == '2':\n",
    "            df1[col_name][num] = 2.0\n",
    "        elif df1[col_name][num] == '3':\n",
    "            df1[col_name][num] = 3.0\n",
    "        elif df1[col_name][num] == '4':\n",
    "            df1[col_name][num] = 4.0\n",
    "        elif df1[col_name][num] == '5':\n",
    "            df1[col_name][num] = 5.0\n",
    "        else:\n",
    "            var=0\n",
    "        num += 1"
   ]
  },
  {
   "cell_type": "code",
   "execution_count": null,
   "metadata": {},
   "outputs": [],
   "source": [
    "#Cleaning LOI Data set"
   ]
  },
  {
   "cell_type": "code",
   "execution_count": null,
   "metadata": {},
   "outputs": [],
   "source": [
    "LOI_cols = [\"Q3_1\",\"Q9_1\",\"Q9_2\",\"Q13_1\",\"Q13_2\",\"Q16_2\",\"Q16_3\",\"Q16_4\",\"Q17_2\",\"Q17_3\",\"Q17_4\",\"Q23_13\",\"Q25_13\",\"Q25_14\",\"Q25_15\",\"Q25_16\",\"Q25_17\"]"
   ]
  },
  {
   "cell_type": "code",
   "execution_count": null,
   "metadata": {},
   "outputs": [],
   "source": [
    "df1 = pd.read_csv(\"LOI EOP REVISED DATA.csv\")\n",
    "import warnings\n",
    "warnings.filterwarnings('ignore')\n",
    "df1 = df1.drop(df1.index[0])        #dropping the first two rows\n",
    "df1 = df1.drop(df1.index[0])\n",
    "df1.head()"
   ]
  },
  {
   "cell_type": "code",
   "execution_count": null,
   "metadata": {},
   "outputs": [],
   "source": [
    "clean_dat(\"Q3_1\")"
   ]
  },
  {
   "cell_type": "code",
   "execution_count": null,
   "metadata": {},
   "outputs": [],
   "source": [
    "m = df1[\"Q3_1\"].value_counts()\n",
    "m.index"
   ]
  },
  {
   "cell_type": "code",
   "execution_count": null,
   "metadata": {},
   "outputs": [],
   "source": [
    "clean_dat(\"Q9_1\")\n",
    "m = df1[\"Q9_1\"].value_counts()\n",
    "m.index\n"
   ]
  },
  {
   "cell_type": "code",
   "execution_count": null,
   "metadata": {},
   "outputs": [],
   "source": [
    "clean_dat(\"Q9_2\")\n",
    "clean_dat(\"Q13_1\")\n",
    "clean_dat(LOI_cols[4])\n",
    "clean_dat(LOI_cols[5])\n",
    "clean_dat(LOI_cols[6])\n",
    "\n",
    "clean_dat(LOI_cols[7])\n",
    "clean_dat(LOI_cols[8])\n",
    "clean_dat(LOI_cols[9])\n",
    "clean_dat(LOI_cols[10])\n",
    "clean_dat(LOI_cols[11])\n",
    "clean_dat(LOI_cols[12])\n",
    "clean_dat(LOI_cols[13])\n",
    "clean_dat(LOI_cols[14])\n",
    "clean_dat(LOI_cols[15])\n",
    "clean_dat(LOI_cols[16])"
   ]
  },
  {
   "cell_type": "code",
   "execution_count": null,
   "metadata": {},
   "outputs": [],
   "source": [
    "m = df1[\"Q9_2\"].dropna(axis=0)\n",
    "m.mean()"
   ]
  },
  {
   "cell_type": "code",
   "execution_count": null,
   "metadata": {},
   "outputs": [],
   "source": [
    "m1 = df1[\"Q13_1\"].dropna(axis=0)\n",
    "m1.mean()"
   ]
  },
  {
   "cell_type": "code",
   "execution_count": null,
   "metadata": {},
   "outputs": [],
   "source": [
    "stats.ttest_ind(m, m1, equal_var=False)"
   ]
  },
  {
   "cell_type": "code",
   "execution_count": null,
   "metadata": {},
   "outputs": [],
   "source": [
    "#Performing T-test on two means from \"Q9_2\" and Q13_1"
   ]
  },
  {
   "cell_type": "code",
   "execution_count": null,
   "metadata": {},
   "outputs": [],
   "source": [
    "df1.to_csv(\"clean_LOI_EOP_DATA.csv\")"
   ]
  },
  {
   "cell_type": "code",
   "execution_count": null,
   "metadata": {},
   "outputs": [],
   "source": []
  }
 ],
 "metadata": {
  "kernelspec": {
   "display_name": "Python 3",
   "language": "python",
   "name": "python3"
  },
  "language_info": {
   "codemirror_mode": {
    "name": "ipython",
    "version": 3
   },
   "file_extension": ".py",
   "mimetype": "text/x-python",
   "name": "python",
   "nbconvert_exporter": "python",
   "pygments_lexer": "ipython3",
   "version": "3.6.5"
  }
 },
 "nbformat": 4,
 "nbformat_minor": 2
}
